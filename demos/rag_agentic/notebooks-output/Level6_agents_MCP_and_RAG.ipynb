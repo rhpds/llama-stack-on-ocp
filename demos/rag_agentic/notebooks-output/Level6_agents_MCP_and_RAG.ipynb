{
 "cells": [
  {
   "cell_type": "markdown",
   "id": "b5ecd807-fb1c-41eb-a948-365e57396d90",
   "metadata": {},
   "source": [
    "# Level 6: Agents, MCP and RAG \n",
    "\n",
    "This notebook is an extension of the [Level 5 Agentic & MCP notebook](./Level5_agents_and_mcp.ipynb) with the addition of RAG.\n",
    "This tutorial is for developers who are already familiar with [agentic RAG workflows](./Level4_RAG_agent.ipynb). This tutorial will highlight a couple of slightly more advanced use cases for agents where a single tool call is insufficient to complete the required task. Here we will rely on both agentic RAG and MCP server to expand our agents capabilities.\n",
    "\n",
    "## Overview\n",
    "\n",
    "This tutorial covers the following steps:\n",
    "1. Review OpenShift logs for a failing pod.\n",
    "2. Categorize the pod and summarize its error.\n",
    "3. Search available troubleshooting documentations for ideas on how to resolve the error.\n",
    "4. Send a Slack message to the ops team with a brief summary of the error and next steps to take.\n",
    "\n",
    "### MCP Tools:\n",
    "\n",
    "#### OpenShift MCP Server\n",
    "Throughout this notebook we will be relying on the [kubernetes-mcp-server](https://github.com/manusa/kubernetes-mcp-server) by [manusa](https://github.com/manusa) to interact with our OpenShift cluster. Please see installation instructions below if you do not already have this deployed in your environment. \n",
    "\n",
    "* [OpenShift MCP installation instructions](../../../kubernetes/mcp-servers/openshift-mcp/README.md)\n",
    "\n",
    "#### Slack MCP Server\n",
    "We will also be using the [Slack MCP Server](https://github.com/modelcontextprotocol/servers-archived/tree/main/src/slack) in this notebook. Please see installation instructions below if you do not already have this deployed in your environment. \n",
    "\n",
    "* [Slack MCP installation instructions](../../../kubernetes/mcp-servers/slack-mcp/README.md)\n",
    "\n",
    "### Pre-Requisites\n",
    "\n",
    "Before starting, ensure you have the following:\n",
    "- A running Llama Stack server\n",
    "- A running Slack MCP server. Refer to our [documentation](https://github.com/opendatahub-io/llama-stack-demos/tree/main/kubernetes/mcp-servers/slack-mcp) on how you can set this up on your OpenShift cluster\n",
    "- Access to an OpeShift cluster with a deployment of the [OpenShift MCP server](../../../kubernetes/mcp-servers/openshift-mcp) (see the [deployment manifests](https://github.com/opendatahub-io/llama-stack-on-ocp/tree/main/kubernetes/mcp-servers/openshift-mcp) for assistance with this).\n",
    "\n",
    "## Setting Up this Notebook\n",
    "We will initialize our environment as described in detail in our [\\\"Getting Started\\\" notebook](./Level0_getting_started_with_Llama_Stack.ipynb). Please refer to it for additional explanations."
   ]
  },
  {
   "cell_type": "code",
   "execution_count": 1,
   "id": "25fc0a44",
   "metadata": {},
   "outputs": [
    {
     "data": {
      "text/plain": [
       "True"
      ]
     },
     "execution_count": 1,
     "metadata": {},
     "output_type": "execute_result"
    }
   ],
   "source": [
    "# for communication with Llama Stack\n",
    "from llama_stack_client import LlamaStackClient\n",
    "from llama_stack_client import Agent\n",
    "from llama_stack_client.lib.agents.event_logger import EventLogger\n",
    "from llama_stack_client import RAGDocument\n",
    "from llama_stack_client.lib.agents.react.agent import ReActAgent\n",
    "from llama_stack_client.lib.agents.react.tool_parser import ReActOutput\n",
    "\n",
    "# pretty print of the results returned from the model/agent\n",
    "from termcolor import cprint\n",
    "import sys\n",
    "sys.path.append('..')  \n",
    "from src.utils import step_printer\n",
    "import uuid\n",
    "import os\n",
    "\n",
    "from dotenv import load_dotenv\n",
    "load_dotenv()"
   ]
  },
  {
   "cell_type": "code",
   "execution_count": 2,
   "id": "08281062-f222-4443-a7bc-0f6166aab36d",
   "metadata": {},
   "outputs": [
    {
     "name": "stdout",
     "output_type": "stream",
     "text": [
      "Connected to Llama Stack server\n",
      "Inference Parameters:\n",
      "\tModel: granite32-8b\n",
      "\tSampling Parameters: {'strategy': {'type': 'greedy'}, 'max_tokens': 512}\n",
      "\tstream: False\n"
     ]
    }
   ],
   "source": [
    "base_url = os.getenv(\"REMOTE_BASE_URL\")\n",
    "\n",
    "\n",
    "# Tavily search API key is required for some of our demos and must be provided to the client upon initialization.\n",
    "# We will cover it in the agentic demos that use the respective tool. Please ignore this parameter for all other demos.\n",
    "tavily_search_api_key = os.getenv(\"TAVILY_SEARCH_API_KEY\")\n",
    "if tavily_search_api_key is None:\n",
    "    provider_data = None\n",
    "else:\n",
    "    provider_data = {\"tavily_search_api_key\": tavily_search_api_key}\n",
    "\n",
    "\n",
    "client = LlamaStackClient(\n",
    "    base_url=base_url,\n",
    "    provider_data=provider_data\n",
    ")\n",
    "\n",
    "print(f\"Connected to Llama Stack server\")\n",
    "\n",
    "# model_id will later be used to pass the name of the desired inference model to Llama Stack Agents/Inference APIs\n",
    "model_id = \"granite32-8b\"\n",
    "\n",
    "temperature = float(os.getenv(\"TEMPERATURE\", 0.0))\n",
    "if temperature > 0.0:\n",
    "    top_p = float(os.getenv(\"TOP_P\", 0.95))\n",
    "    strategy = {\"type\": \"top_p\", \"temperature\": temperature, \"top_p\": top_p}\n",
    "else:\n",
    "    strategy = {\"type\": \"greedy\"}\n",
    "\n",
    "max_tokens = int(os.getenv(\"MAX_TOKENS\", 512))\n",
    "\n",
    "# sampling_params will later be used to pass the parameters to Llama Stack Agents/Inference APIs\n",
    "sampling_params = {\n",
    "    \"strategy\": strategy,\n",
    "    \"max_tokens\": max_tokens,\n",
    "}\n",
    "\n",
    "# For this demo, we are using Milvus Lite, which is our preferred solution. Any other Vector DB supported by Llama Stack can be used.\n",
    "\n",
    "# RAG vector DB settings\n",
    "VECTOR_DB_EMBEDDING_MODEL = os.getenv(\"VDB_EMBEDDING\")\n",
    "VECTOR_DB_EMBEDDING_DIMENSION = int(os.getenv(\"VDB_EMBEDDING_DIMENSION\", 384))\n",
    "VECTOR_DB_CHUNK_SIZE = int(os.getenv(\"VECTOR_DB_CHUNK_SIZE\", 512))\n",
    "VECTOR_DB_PROVIDER_ID = os.getenv(\"VDB_PROVIDER\")\n",
    "\n",
    "# Unique DB ID for session\n",
    "vector_db_id = f\"test_vector_db_{uuid.uuid4()}\"\n",
    "\n",
    "stream_env = os.getenv(\"STREAM\", \"False\")\n",
    "# the Boolean 'stream' parameter will later be passed to Llama Stack Agents/Inference APIs\n",
    "# any value non equal to 'False' will be considered as 'True'\n",
    "stream = (stream_env != \"False\")\n",
    "\n",
    "print(f\"Inference Parameters:\\n\\tModel: {model_id}\\n\\tSampling Parameters: {sampling_params}\\n\\tstream: {stream}\")"
   ]
  },
  {
   "cell_type": "markdown",
   "id": "66044170",
   "metadata": {},
   "source": [
    "### Validate tools are available in our Llama Stack instance\n",
    "\n",
    "We will be using the [OpenShift MCP Server](https://github.com/manusa/kubernetes-mcp-server) and the [Slack MCP Server](https://github.com/modelcontextprotocol/servers/tree/main/src/slack) for performing this task. If you haven't already, you can follow the instructions [here](https://github.com/opendatahub-io/llama-stack-demos/tree/main/kubernetes/mcp-servers/slack-mcp#setting-up-on-ocp) to install the Slack MCP server and the instructions [here](https://github.com/opendatahub-io/llama-stack-demos/tree/main/kubernetes/mcp-servers/openshift-mcp#steps-for-deploying-the-openshift-mcp-server-on-openshift) to install the OpenShift MCP server. Once we confirm that the OpenShift and Slack MCP servers are running and configured to your Llama Stack server, we can then move on to defining an agent to help with our task.\n",
    "\n",
    "#### Registering tools on Llama Stack\n",
    "When an instance of llama stack is redeployed your tools need to re-registered. Also if a tool is already registered with a llama stack instance, if you try to register one with the same `toolgroup_id`, llama stack will throw you an error.\n",
    "\n",
    "For this reason it is recommended to include some code to validate your tools and toolgroups. This is where the `mcp_url` comes into play. The following code will check that the `builtin::rag`,`mcp::openshift`  and `mcp::slack` tools are registered as tools, but if any mcp tool is not listed there, it will attempt to register it using the mcp url.\n",
    "\n",
    "If you are running the MCP server from source, the default value for this is: `http://localhost:8000/sse`.\n",
    "\n",
    "If you are running the MCP server from a container, the default value for this is: `http://host.containers.internal:8000/sse`.\n",
    "\n",
    "Make sure to pass the corresponding MCP URL for the server you are trying to register/validate tools for."
   ]
  },
  {
   "cell_type": "code",
   "execution_count": 3,
   "id": "1b2cedaf-522b-4251-886a-d8aa7b9fcd18",
   "metadata": {},
   "outputs": [
    {
     "name": "stdout",
     "output_type": "stream",
     "text": [
      "Your Llama Stack server is already registered with the following tool groups: {'mcp::slack', 'mcp::openshift', 'builtin::websearch', 'builtin::rag'}\n",
      "\n"
     ]
    }
   ],
   "source": [
    "# Optional: Enter your MCP server URL here\n",
    "ocp_mcp_url = os.getenv(\"REMOTE_OCP_MCP_URL\") # Optional: enter your MCP server url here\n",
    "slack_mcp_url = os.getenv(\"REMOTE_SLACK_MCP_URL\") # Optional: enter your MCP server url here\n",
    "\n",
    "# Get list of registered tools and extract their toolgroup IDs\n",
    "registered_tools = client.tools.list()\n",
    "registered_toolgroups = [tool.toolgroup_id for tool in registered_tools]\n",
    "\n",
    "if  \"builtin::rag\" not in registered_toolgroups: # Required\n",
    "    client.toolgroups.register(\n",
    "        toolgroup_id=\"builtin::rag\",\n",
    "        provider_id=\"milvus\"\n",
    "    )\n",
    "\n",
    "if \"mcp::openshift\" not in registered_toolgroups: # required\n",
    "    client.toolgroups.register(\n",
    "        toolgroup_id=\"mcp::openshift\",\n",
    "        provider_id=\"model-context-protocol\",\n",
    "        mcp_endpoint={\"uri\":ocp_mcp_url},\n",
    "    )\n",
    "\n",
    "if \"mcp::slack\" not in registered_toolgroups: # required\n",
    "    client.toolgroups.register(\n",
    "        toolgroup_id=\"mcp::slack\",\n",
    "        provider_id=\"model-context-protocol\",\n",
    "        mcp_endpoint={\"uri\":slack_mcp_url},\n",
    "    )\n",
    "\n",
    "# Log the current toolgroups registered\n",
    "print(f\"Your Llama Stack server is already registered with the following tool groups: {set(registered_toolgroups)}\\n\")"
   ]
  },
  {
   "cell_type": "markdown",
   "id": "6bc8d3f8",
   "metadata": {},
   "source": [
    "## Discover and report solutions to errors that might be happening on my OpenShift Cluster"
   ]
  },
  {
   "cell_type": "markdown",
   "id": "e6f6993e",
   "metadata": {
    "jp-MarkdownHeadingCollapsed": true
   },
   "source": [
    "We will now try to use an agent to:\n",
    "- **Retrieve the logs of a failing pod running on OpenShift**\n",
    "- **Use RAG to find solutions to the errors in the pod logs based on OpenShift troubleshooting documents**\n",
    "- **Send a summary of the solution as a message on Slack.**\n",
    "\n",
    "### Pod with simulated error logs\n",
    "\n",
    "**Important** - In the [Level5 Agents and MCP notebook](./Level5_agents_and_mcp.ipynb) we deployed a pod called `slack-test` on an OpenShift cluster that generates simulated error logs. For the purpose of testing the pod log retrieval, we will be using that pod for this notebook and assume that it is already running on your cluster. **If you haven't already, please make sure to go through the Level5 notebook before continuing this notebook.**"
   ]
  },
  {
   "cell_type": "markdown",
   "id": "a85664f8",
   "metadata": {},
   "source": [
    "### RAG: Indexing the Documents\n",
    "\n",
    "We will be leveraging RAG to help us find solutions from OpenShift troubleshooting documents for debugging the logs of erroneous pods running on OpenShift. We will need to:\n",
    "- Initialize a new document collection in the target vector DB. All parameters related to the vector DB, such as the embedding model and dimension, must be specified here.\n",
    "- Provide a list of document URLs to the RAG tool. Llama Stack will handle fetching, conversion and chunking of the documents' content."
   ]
  },
  {
   "cell_type": "code",
   "execution_count": 4,
   "id": "5a8f4dc4",
   "metadata": {},
   "outputs": [],
   "source": [
    "# define and register the document collection to be used\n",
    "client.vector_dbs.register(\n",
    "    vector_db_id=vector_db_id,\n",
    "    embedding_model=VECTOR_DB_EMBEDDING_MODEL,\n",
    "    embedding_dimension=VECTOR_DB_EMBEDDING_DIMENSION,\n",
    "    provider_id=VECTOR_DB_PROVIDER_ID,\n",
    ")\n",
    "\n",
    "# ingest the documents into the newly created document collection\n",
    "urls = [\n",
    "    (\"https://docs.redhat.com/en/documentation/openshift_container_platform/4.11/pdf/support/OpenShift_Container_Platform-4.11-Support-en-US.pdf\", \"application/pdf\"),\n",
    "]\n",
    "documents = [\n",
    "    RAGDocument(\n",
    "        document_id=f\"num-{i}\",\n",
    "        content=url,\n",
    "        mime_type=url_type,\n",
    "        metadata={},\n",
    "    )\n",
    "    for i, (url, url_type) in enumerate(urls)\n",
    "]\n",
    "client.tool_runtime.rag_tool.insert(\n",
    "    documents=documents,\n",
    "    vector_db_id=vector_db_id,\n",
    "    chunk_size_in_tokens=VECTOR_DB_CHUNK_SIZE,\n",
    ")"
   ]
  },
  {
   "cell_type": "markdown",
   "id": "2bf70ace-b704-4379-aa88-3c793cc4f959",
   "metadata": {},
   "source": [
    "### System Prompt for LLM model\n",
    "\n",
    "**Note:** If you have multiple models configured with your Llama Stack server, you can choose which one to run your queries against. When switching to a different model, you may need to adjust the system prompt to align with that model’s expected behavior. Many models provide recommended system prompts for optimal and reliable outputs these are typically documented on their respective websites."
   ]
  },
  {
   "cell_type": "code",
   "execution_count": 5,
   "id": "3136e6dd",
   "metadata": {},
   "outputs": [],
   "source": [
    "model_prompt= \"\"\"You are a helpful assistant. You have access to a number of tools.\n",
    "Whenever a tool is called, be sure return the Response in a friendly and helpful tone.\"\"\""
   ]
  },
  {
   "cell_type": "markdown",
   "id": "8b675f2a",
   "metadata": {},
   "source": [
    "## Defining our Agent - Prompt Chaining"
   ]
  },
  {
   "cell_type": "code",
   "execution_count": 6,
   "id": "b340e517",
   "metadata": {},
   "outputs": [
    {
     "name": "stdout",
     "output_type": "stream",
     "text": [
      "\n",
      "---------- 📍 Step 1: InferenceStep ----------\n",
      "🛠️ Tool call Generated:\n",
      "\u001b[35mTool call: pods_log, Arguments: {'name': 'slack-test', 'namespace': 'llama-serve'}\u001b[0m\n",
      "\n",
      "---------- 📍 Step 2: ToolExecutionStep ----------\n",
      "🔧 Executing tool...\n"
     ]
    },
    {
     "data": {
      "text/html": [
       "<pre style=\"white-space:pre;overflow-x:auto;line-height:normal;font-family:Menlo,'DejaVu Sans Mono',consolas,'Courier New',monospace\"><span style=\"font-weight: bold\">{</span>\n",
       "<span style=\"color: #7fbf7f; text-decoration-color: #7fbf7f\">│   </span><span style=\"color: #008000; text-decoration-color: #008000\">'type'</span>: <span style=\"color: #008000; text-decoration-color: #008000\">'text'</span>,\n",
       "<span style=\"color: #7fbf7f; text-decoration-color: #7fbf7f\">│   </span><span style=\"color: #008000; text-decoration-color: #008000\">'text'</span>: <span style=\"color: #008000; text-decoration-color: #008000\">'Starting container...\\nFailure: Unknown Error\\nError details: Container failed due to an unexpected issue during startup.\\nPotential cause: Missing dependencies, configuration errors, or permission issues.\\n'</span>,\n",
       "<span style=\"color: #7fbf7f; text-decoration-color: #7fbf7f\">│   </span><span style=\"color: #008000; text-decoration-color: #008000\">'annotations'</span>: <span style=\"color: #800080; text-decoration-color: #800080; font-style: italic\">None</span>\n",
       "<span style=\"font-weight: bold\">}</span>\n",
       "</pre>\n"
      ],
      "text/plain": [
       "\u001b[1m{\u001b[0m\n",
       "\u001b[2;32m│   \u001b[0m\u001b[32m'type'\u001b[0m: \u001b[32m'text'\u001b[0m,\n",
       "\u001b[2;32m│   \u001b[0m\u001b[32m'text'\u001b[0m: \u001b[32m'Starting container...\\nFailure: Unknown Error\\nError details: Container failed due to an unexpected issue during startup.\\nPotential cause: Missing dependencies, configuration errors, or permission issues.\\n'\u001b[0m,\n",
       "\u001b[2;32m│   \u001b[0m\u001b[32m'annotations'\u001b[0m: \u001b[3;35mNone\u001b[0m\n",
       "\u001b[1m}\u001b[0m\n"
      ]
     },
     "metadata": {},
     "output_type": "display_data"
    },
    {
     "name": "stdout",
     "output_type": "stream",
     "text": [
      "\n",
      "---------- 📍 Step 3: InferenceStep ----------\n",
      "🤖 Model Response:\n",
      "\u001b[35mThe logs for the pod `slack-test` in the `llama-serve` OpenShift namespace indicate an error. The container failed due to an unexpected issue during startup. This could be due to missing dependencies, configuration errors, or permission issues.\n",
      "\u001b[0m\n",
      "========== Query processing completed ========== \n",
      "\n",
      "\n",
      "---------- 📍 Step 1: InferenceStep ----------\n",
      "🛠️ Tool call Generated:\n",
      "\u001b[35mTool call: knowledge_search, Arguments: {'query': 'Container failed due to an unexpected issue during startup'}\u001b[0m\n",
      "\n",
      "---------- 📍 Step 2: ToolExecutionStep ----------\n",
      "🔧 Executing tool...\n"
     ]
    },
    {
     "data": {
      "text/html": [
       "<pre style=\"white-space:pre;overflow-x:auto;line-height:normal;font-family:Menlo,'DejaVu Sans Mono',consolas,'Courier New',monospace\"><span style=\"font-weight: bold\">[</span>\n",
       "<span style=\"color: #7fbf7f; text-decoration-color: #7fbf7f\">│   </span><span style=\"color: #800080; text-decoration-color: #800080; font-weight: bold\">TextContentItem</span><span style=\"font-weight: bold\">(</span>\n",
       "<span style=\"color: #7fbf7f; text-decoration-color: #7fbf7f\">│   │   </span><span style=\"color: #808000; text-decoration-color: #808000\">text</span>=<span style=\"color: #008000; text-decoration-color: #008000\">'knowledge_search tool found 5 chunks:\\nBEGIN of knowledge_search tool results.\\n'</span>,\n",
       "<span style=\"color: #7fbf7f; text-decoration-color: #7fbf7f\">│   │   </span><span style=\"color: #808000; text-decoration-color: #808000\">type</span>=<span style=\"color: #008000; text-decoration-color: #008000\">'text'</span>\n",
       "<span style=\"color: #7fbf7f; text-decoration-color: #7fbf7f\">│   </span><span style=\"font-weight: bold\">)</span>,\n",
       "<span style=\"color: #7fbf7f; text-decoration-color: #7fbf7f\">│   </span><span style=\"color: #800080; text-decoration-color: #800080; font-weight: bold\">TextContentItem</span><span style=\"font-weight: bold\">(</span>\n",
       "<span style=\"color: #7fbf7f; text-decoration-color: #7fbf7f\">│   │   </span><span style=\"color: #808000; text-decoration-color: #808000\">text</span>=<span style=\"color: #008000; text-decoration-color: #008000\">'Result 1:\\nDocument_id:num-0\\nContent: RunInitContainer&lt;/code&gt;\\n\\t\\t\\t\\t\\t\\t\\t\\t&lt;/p&gt;\\n\\t\\t\\t\\t\\t\\t\\t\\t &lt;/td&gt;&lt;td align=\"left\" valign=\"top\" headers=\"idm140345532083552\"&gt; &lt;p&gt;\\n\\t\\t\\t\\t\\t\\t\\t\\t\\tContainer initialization failed.\\n\\t\\t\\t\\t\\t\\t\\t\\t&lt;/p&gt;\\n\\t\\t\\t\\t\\t\\t\\t\\t &lt;/td&gt;&lt;/tr&gt;&lt;tr&gt;&lt;td align=\"left\" valign=\"top\" headers=\"idm140345532084640\"&gt; &lt;p&gt;\\n\\t\\t\\t\\t\\t\\t\\t\\t\\t&lt;code class=\"literal\"&gt;ErrRunContainer&lt;/code&gt;\\n\\t\\t\\t\\t\\t\\t\\t\\t&lt;/p&gt;\\n\\t\\t\\t\\t\\t\\t\\t\\t &lt;/td&gt;&lt;td align=\"left\" valign=\"top\" headers=\"idm140345532083552\"&gt; &lt;p&gt;\\n\\t\\t\\t\\t\\t\\t\\t\\t\\tNone of the pod’s containers started successfully.\\n\\t\\t\\t\\t\\t\\t\\t\\t&lt;/p&gt;\\n\\t\\t\\t\\t\\t\\t\\t\\t &lt;/td&gt;&lt;/tr&gt;&lt;tr&gt;&lt;td align=\"left\" valign=\"top\" headers=\"idm140345532084640\"&gt; &lt;p&gt;\\n\\t\\t\\t\\t\\t\\t\\t\\t\\t&lt;code class=\"literal\"&gt;ErrKillContainer&lt;/code&gt;\\n\\t\\t\\t\\t\\t\\t\\t\\t&lt;/p&gt;\\n\\t\\t\\t\\t\\t\\t\\t\\t &lt;/td&gt;&lt;td align=\"left\" valign=\"top\" headers=\"idm140345532083552\"&gt; &lt;p&gt;\\n\\t\\t\\t\\t\\t\\t\\t\\t\\tNone of the pod’s containers were killed successfully.\\n\\t\\t\\t\\t\\t\\t\\t\\t&lt;/p&gt;\\n\\t\\t\\t\\t\\t\\t\\t\\t &lt;/td&gt;&lt;/tr&gt;&lt;tr&gt;&lt;td align=\"left\" valign=\"top\" headers=\"idm140345532084640\"&gt; &lt;p&gt;\\n\\t\\t\\t\\t\\t\\t\\t\\t\\t&lt;code class=\"literal\"&gt;ErrCrashLoopBackOff&lt;/code&gt;\\n\\t\\t\\t\\t\\t\\t\\t\\t&lt;/p&gt;\\n\\t\\t\\t\\t\\t\\t\\t\\t &lt;/td&gt;&lt;td align=\"left\" valign=\"top\" headers=\"idm140345532083552\"&gt; &lt;p&gt;\\n\\t\\t\\t\\t\\t\\t\\t\\t\\tA container has terminated. The kubelet will not attempt to restart it.\\n\\t\\t\\t\\t\\t\\t\\t\\t&lt;/p&gt;\\n\\t\\t\\t\\t\\t\\t\\t\\t &lt;/td&gt;&lt;/tr&gt;&lt;tr&gt;&lt;td align=\"left\" valign=\"top\" headers=\"idm140345532084640\"&gt; &lt;p&gt;\\n\\t\\t\\t\\t\\t\\t\\t\\t\\t&lt;code class=\"literal\"&gt;ErrVerifyNonRoot&lt;/code&gt;\\n\\t\\t\\t\\t\\t\\t\\t\\t&lt;/p&gt;\\n\\t\\t\\t\\t\\t\\t\\t\\t &lt;/td&gt;&lt;td align=\"left\" valign=\"top\" headers=\"idm140345532083552\"&gt; &lt;p&gt;\\n\\t\\t\\t\\t\\t\\t\\t\\t\\tA container or image attempted to run with root privileges.\\n\\t\\t\\t\\t\\t\\t\\t\\t&lt;/p&gt;\\n\\t\\t\\t\\t\\t\\t\\t\\t &lt;/td&gt;&lt;/tr&gt;&lt;tr&gt;&lt;td align=\"left\" valign=\"top\" headers=\"idm140345532084640\"&gt; &lt;p&gt;\\n\\t\\t\\t\\t\\t\\t\\t\\t\\t&lt;code class=\"literal\"&gt;ErrCreatePodSandbox&lt;/code&gt;\\n\\t\\t\\t\\t\\t\\t\\t\\t&lt;/p&gt;\\n\\t\\t\\t\\t\\t\\t\\t\\t &lt;/td&gt;&lt;td align=\"left\" valign=\"top\" headers=\"idm140345532083552\"&gt; &lt;p&gt;\\n\\t\\t\\t\\t\\t\\t\\t\\t\\tPod sandbox creation did not succeed.\\n\\t\\t\\t\\t\\t\\t\\t\\t&lt;/p&gt;\\n\\n'</span><span style=\"color: #000000; text-decoration-color: #000000\">,</span>\n",
       "<span style=\"color: #7fbf7f; text-decoration-color: #7fbf7f\">│   │   </span><span style=\"color: #808000; text-decoration-color: #808000\">type</span><span style=\"color: #000000; text-decoration-color: #000000\">=</span><span style=\"color: #008000; text-decoration-color: #008000\">'text'</span>\n",
       "<span style=\"color: #7fbf7f; text-decoration-color: #7fbf7f\">│   </span><span style=\"color: #000000; text-decoration-color: #000000; font-weight: bold\">)</span><span style=\"color: #000000; text-decoration-color: #000000\">,</span>\n",
       "<span style=\"color: #7fbf7f; text-decoration-color: #7fbf7f\">│   </span><span style=\"color: #800080; text-decoration-color: #800080; font-weight: bold\">TextContentItem</span><span style=\"color: #000000; text-decoration-color: #000000; font-weight: bold\">(</span>\n",
       "<span style=\"color: #7fbf7f; text-decoration-color: #7fbf7f\">│   │   </span><span style=\"color: #808000; text-decoration-color: #808000\">text</span><span style=\"color: #000000; text-decoration-color: #000000\">=</span><span style=\"color: #008000; text-decoration-color: #008000\">'Result 2:\\nDocument_id:num-0\\nContent: lt;namespace&amp;gt;\\\\u003C/pre&gt;\\\\u003C/li&gt;\\\\u003Cli class=\\\\\"listitem\\\\\"&gt;\\\\u003Cp class=\\\\\"simpara\\\\\"&gt;\\\\n\\\\t\\\\t\\\\t\\\\t\\\\t\\\\t\\\\t\\\\t\\\\tIf the pod has more than one container, the preceding command will create an error, and the container names will be provided in the error message. Inspect logs for each container:\\\\n\\\\t\\\\t\\\\t\\\\t\\\\t\\\\t\\\\t\\\\t\\\\u003C/p&gt;\\\\u003Cpre class=\\\\\"programlisting language-terminal\\\\\"&gt;$ oc logs pod/&amp;lt;pod_name&amp;gt; -c &amp;lt;container_name&amp;gt; -n &amp;lt;namespace&amp;gt;\\\\u003C/pre&gt;\\\\u003C/li&gt;\\\\u003C/ol&gt;\\\\u003C/div&gt;\\\\u003C/li&gt;\\\\u003Cli class=\\\\\"listitem\\\\\"&gt;\\\\u003Cp class=\\\\\"simpara\\\\\"&gt;\\\\n\\\\t\\\\t\\\\t\\\\t\\\\t\\\\t\\\\tIf the API is not functional, review etcd pod and container logs on each control plane node by using SSH instead. Replace \\\\u003Ccode class=\\\\\"literal\\\\\"&gt;&amp;lt;master-node&amp;gt;.&amp;lt;cluster_name&amp;gt;.&amp;lt;base_domain&amp;gt;\\\\u003C/code&gt; with appropriate values.\\\\n\\\\t\\\\t\\\\t\\\\t\\\\t\\\\t\\\\u003C/p&gt;\\\\u003Cdiv class=\\\\\"orderedlist\\\\\"&gt;\\\\u003Col class=\\\\\"orderedlist\\\\\" type=\\\\\"a\\\\\"&gt;\\\\u003Cli class=\\\\\"listitem\\\\\"&gt;\\\\u003Cp class=\\\\\"simpara\\\\\"&gt;\\\\n\\\\t\\\\t\\\\t\\\\t\\\\t\\\\t\\\\t\\\\t\\\\tList etcd pods on each control plane node:\\\\n\\\\t\\\\t\\\\t\\\\t\\\\t\\\\t\\\\t\\\\t\\\\u003C/p&gt;\\\\u003Cpre class=\\\\\"programlisting language-terminal\\\\\"&gt;$ ssh core@&amp;lt;master-node&amp;gt;.&amp;lt;cluster_name&amp;gt;.&amp;lt;base_domain&amp;gt; sudo crictl pods --name=etcd-\\\\u003C/pre&gt;\\\\u003C/li&gt;\\\\u003Cli class=\\\\\"listitem\\\\\"&gt;\\\\u003Cp class=\\\\\"simpara\\\\\"&gt;\\\\n\\\\t\\\\t\\\\t\\\\t\\\\t\\\\t\\\\t\\\\t\\\\tFor any pods not showing \\\\u003Ccode class=\\\\\"literal\\\\\"&gt;Ready\\\\u003C/code&gt; status, inspect pod status in detail. Replace \\\\u003Ccode class=\\\\\"literal\\\\\"&gt;&amp;lt;pod_id&amp;gt;\\\\u003C/code&gt; with the pod’s ID listed in the output of the preceding command:\\\\n\\\\t\\\\t\\\\t\\\\t\\\\t\\\\t\\\\t\\\\t\\\\u003C/p&gt;\\\\u003Cpre class=\\\\\"programlisting language-terminal\\\\\"&gt;$ ssh core@&amp;lt;master-node&amp;gt;\\n'</span><span style=\"color: #000000; text-decoration-color: #000000\">,</span>\n",
       "<span style=\"color: #7fbf7f; text-decoration-color: #7fbf7f\">│   │   </span><span style=\"color: #808000; text-decoration-color: #808000\">type</span><span style=\"color: #000000; text-decoration-color: #000000\">=</span><span style=\"color: #008000; text-decoration-color: #008000\">'text'</span>\n",
       "<span style=\"color: #7fbf7f; text-decoration-color: #7fbf7f\">│   </span><span style=\"color: #000000; text-decoration-color: #000000; font-weight: bold\">)</span><span style=\"color: #000000; text-decoration-color: #000000\">,</span>\n",
       "<span style=\"color: #7fbf7f; text-decoration-color: #7fbf7f\">│   </span><span style=\"color: #800080; text-decoration-color: #800080; font-weight: bold\">TextContentItem</span><span style=\"color: #000000; text-decoration-color: #000000; font-weight: bold\">(</span>\n",
       "<span style=\"color: #7fbf7f; text-decoration-color: #7fbf7f\">│   │   </span><span style=\"color: #808000; text-decoration-color: #808000\">text</span><span style=\"color: #000000; text-decoration-color: #000000\">=</span><span style=\"color: #008000; text-decoration-color: #008000\">'Result 3:\\nDocument_id:num-0\\nContent: virtualization/live-migration\":14663,\"virtualization/node-maintenance\":14664,\"virtualization/logging-events-and-monitoring\":14665,\"virtualization/backup-and-restore\":14666,\"service_mesh/index\":14667,\"service_mesh/service-mesh-2-x\":14668,\"service_mesh/service-mesh-1-x\":14669,\"windows_container_support_for_openshift/index\":14670,\"windows_container_support_for_openshift/windows-container-overview\":14671,\"windows_container_support_for_openshift/windows-containers-release-notes-6-x\":14672,\"windows_container_support_for_openshift/understanding-windows-container-workloads\":14673,\"windows_container_support_for_openshift/enabling-windows-container-workloads\":14674,\"windows_container_support_for_openshift/creating-windows-machine-sets\":14675,\"windows_container_support_for_openshift/scheduling-windows-workloads\":14676,\"windows_container_support_for_openshift/windows-node-upgrades\":14677,\"windows_container_support_for_openshift/byoh-windows-instance\":14678,\"windows_container_support_for_openshift/removing-windows-nodes\":14679,\"windows_container_support_for_openshift/disabling-windows-container-workloads\":14680,\"support/legal-notice\":14681},{\"prevt\":17,\"next\":16},{\"prevt\":17,\"next\":37},{\"prevt\":25,\"next\":17},{\"prevt\":16,\"next\":16},{\"prevt\":17,\"next\":60},{\"prevt\":52,\"next\":73},{\"prevt\":60,\"next\":90},{\"prevt\":73,\"next\":17},{\"prevt\":16,\"next\":16},{\"prevt\":17,\"next\":17},{\"prevt\":16,\"next\":16},{\"prevt\":17,\"next\":429},{\"prevt\":433,\"next\":459},{\"prevt\":429,\"next\":472},{\"prevt\":459,\"next\":489},{\"prevt\":472,\"next\":507},{\"prevt\":489,\"next\":525},{\"prevt\":507,\"next\":540},{\"prevt\":525,\"next\":17},{\"prevt\":16,\"next\":16},{\"prevt\":17,\"next\":567},{\"prevt\":559,\"next\":655},{\"prevt\":567,\"next\":678},{\"prevt\":655,\"next\":752},{\"prevt\":678,\"next\":914},{\"prevt\":752,\"next\":980},{\"prevt\":914,\"next\":1002},{\"prevt\":980,\"next\":1013},{\"pre\\n'</span><span style=\"color: #000000; text-decoration-color: #000000\">,</span>\n",
       "<span style=\"color: #7fbf7f; text-decoration-color: #7fbf7f\">│   │   </span><span style=\"color: #808000; text-decoration-color: #808000\">type</span><span style=\"color: #000000; text-decoration-color: #000000\">=</span><span style=\"color: #008000; text-decoration-color: #008000\">'text'</span>\n",
       "<span style=\"color: #7fbf7f; text-decoration-color: #7fbf7f\">│   </span><span style=\"color: #000000; text-decoration-color: #000000; font-weight: bold\">)</span><span style=\"color: #000000; text-decoration-color: #000000\">,</span>\n",
       "<span style=\"color: #7fbf7f; text-decoration-color: #7fbf7f\">│   </span><span style=\"color: #800080; text-decoration-color: #800080; font-weight: bold\">TextContentItem</span><span style=\"color: #000000; text-decoration-color: #000000; font-weight: bold\">(</span>\n",
       "<span style=\"color: #7fbf7f; text-decoration-color: #7fbf7f\">│   │   </span><span style=\"color: #808000; text-decoration-color: #808000\">text</span><span style=\"color: #000000; text-decoration-color: #000000\">=</span><span style=\"color: #008000; text-decoration-color: #008000\">'Result 4:\\nDocument_id:num-0\\nContent: -web_upgrading-sandboxed-containers\",\"sandboxed-containers-upgrading-monitor-pods-cli_upgrading-sandboxed-containers\",\"/documentation/openshift_container_platform/4.11/html/sandboxed_containers_support_for_openshift/upgrading-sandboxed-containers\",{\"title\":10170,\"visible\":12,\"weight\":524,\"urlFragment\":10171,\"anchor\":17,\"singlePageAnchor\":10171,\"subChapters\":10172,\"url\":10179,\"docTitle\":10088},\"Collecting OpenShift sandboxed containers data\",\"troubleshooting-sandboxed-containers\",[10173,10174,10175,10176,10177,10178],\"sandboxed-containers-collect_data_rh_support_troubleshooting-sandboxed-containers\",\"about-must-gather_troubleshooting-sandboxed-containers\",\"sandboxed-containers-collecting-data_troubleshooting-sandboxed-containers\",\"sandboxed-containers-enable-debug-logs_troubleshooting-sandboxed-containers\",\"sandboxed-containers-view-debug-logs_troubleshooting-sandboxed-containers\",\"troubleshooting-sandboxed-containers_additional-resources\",\"/documentation/openshift_container_platform/4.11/html/sandboxed_containers_support_for_openshift/troubleshooting-sandboxed-containers\",{\"title\":10181,\"visible\":12,\"weight\":15,\"urlFragment\":16,\"anchor\":17,\"singlePageAnchor\":17,\"subChapters\":10182,\"url\":10183,\"docTitle\":10184,\"sections\":10185},\"Operators\",[],\"/documentation/openshift_container_platform/4.11/html/operators/index\",\"operators\",[10186,10194,10333,10346,10411,10660],{\"title\":10187,\"visible\":12,\"weight\":24,\"urlFragment\":10188,\"anchor\":17,\"singlePageAnchor\":10188,\"subChapters\":10189,\"url\":10193,\"docTitle\":10184},\"Operators overview\",\"operators-overview\",[10190,10191,10192],\"operators-overview-developer-tasks\",\"operators-overview-administrator-tasks\",\"operators-overview-next-steps\",\"/documentation/openshift_container_platform/4.11/html/operators/operators-overview\",{\"title\":10195,\"visible\":12,\"weight\":36,\"urlFragment\":10196,\"anchor\":17,\"singlePageAnchor\":10196,\"subChapters\":10197,\"url\":10332,\"docTitle\":10184},\"\\n'</span><span style=\"color: #000000; text-decoration-color: #000000\">,</span>\n",
       "<span style=\"color: #7fbf7f; text-decoration-color: #7fbf7f\">│   │   </span><span style=\"color: #808000; text-decoration-color: #808000\">type</span><span style=\"color: #000000; text-decoration-color: #000000\">=</span><span style=\"color: #008000; text-decoration-color: #008000\">'text'</span>\n",
       "<span style=\"color: #7fbf7f; text-decoration-color: #7fbf7f\">│   </span><span style=\"color: #000000; text-decoration-color: #000000; font-weight: bold\">)</span><span style=\"color: #000000; text-decoration-color: #000000\">,</span>\n",
       "<span style=\"color: #7fbf7f; text-decoration-color: #7fbf7f\">│   </span><span style=\"color: #800080; text-decoration-color: #800080; font-weight: bold\">TextContentItem</span><span style=\"color: #000000; text-decoration-color: #000000; font-weight: bold\">(</span>\n",
       "<span style=\"color: #7fbf7f; text-decoration-color: #7fbf7f\">│   │   </span><span style=\"color: #808000; text-decoration-color: #808000\">text</span><span style=\"color: #000000; text-decoration-color: #000000\">=</span><span style=\"color: #008000; text-decoration-color: #008000\">'Result 5:\\nDocument_id:num-0\\nContent: , Pods are either removed after exiting or retained so that their logs can be accessed.\\\\n\\\\t\\\\t\\\\t\\\\u003C/p&gt;\\\\u003Cp&gt;\\\\n\\\\t\\\\t\\\\t\\\\tThe first thing to check when pod issues arise is the pod’s status. If an explicit pod failure has occurred, observe the pod’s error state to identify specific image, container, or pod network issues. Focus diagnostic data collection according to the error state. Review pod event messages, as well as pod and container log information. Diagnose issues dynamically by accessing running Pods on the command line, or start a debug pod with root access based on a problematic pod’s deployment configuration.\\\\n\\\\t\\\\t\\\\t\\\\u003C/p&gt;\\\\u003Csection class=\\\\\"section\\\\\" id=\\\\\"understanding-pod-error-states_investigating-pod-issues\\\\\"&gt;\\\\u003Cdiv class=\\\\\"titlepage\\\\\"&gt;\\\\u003Cdiv&gt;\\\\u003Cdiv&gt;\\\\u003Ch3 class=\\\\\"title\\\\\"&gt;7.7.1.\\xa0Understanding pod error states\\\\u003C/h3&gt;\\\\u003C/div&gt;\\\\u003C/div&gt;\\\\u003C/div&gt;\\\\u003Cp&gt;\\\\n\\\\t\\\\t\\\\t\\\\t\\\\tPod failures return explicit error states that can be observed in the \\\\u003Ccode class=\\\\\"literal\\\\\"&gt;status\\\\u003C/code&gt; field in the output of \\\\u003Ccode class=\\\\\"literal\\\\\"&gt;oc get pods\\\\u003C/code&gt;. Pod error states cover image, container, and container network related failures.\\\\n\\\\t\\\\t\\\\t\\\\t\\\\u003C/p&gt;\\\\u003Cp&gt;\\\\n\\\\t\\\\t\\\\t\\\\t\\\\tThe following table provides a list of pod error states along with their descriptions.\\\\n\\\\t\\\\t\\\\t\\\\t\\\\u003C/p&gt;\\\\u003Crh-table id=\\\\\"idm140345532089472\\\\\"&gt;\\\\u003Ctable class=\\\\\"lt-4-cols lt-7-rows\\\\\"&gt;\\\\u003Ccaption&gt;Table\\xa07.3.\\xa0Pod error states\\\\u003C/caption&gt;\\\\u003Ccolgroup&gt;\\\\u003Ccol style=\\\\\"width: 20%; \\\\\" class=\\\\\"col_1\\\\\"&gt;\\\\u003C!--Empty--&gt;\\\\u003C/col&gt;\\\\u003Ccol style=\\\\\"width: 80%; \\\\\" class=\\\\\"col_2\\\\\"&gt;\\\\u003C!--Empty--&gt;\\\\u003C/col&gt;\\\\u003C/colgroup&gt;\\\\u003Cthead&gt;\\\\u003Ctr&gt;\\\\u003Cth align=\\\\\"left\\\\\" valign=\\\\\"top\\\\\" id=\\\\\"idm140345532084640\\\\\" scope=\\\\\"col\\\\\"&gt;Pod error state\\\\u003\\n'</span>,\n",
       "<span style=\"color: #7fbf7f; text-decoration-color: #7fbf7f\">│   │   </span><span style=\"color: #808000; text-decoration-color: #808000\">type</span>=<span style=\"color: #008000; text-decoration-color: #008000\">'text'</span>\n",
       "<span style=\"color: #7fbf7f; text-decoration-color: #7fbf7f\">│   </span><span style=\"font-weight: bold\">)</span>,\n",
       "<span style=\"color: #7fbf7f; text-decoration-color: #7fbf7f\">│   </span><span style=\"color: #800080; text-decoration-color: #800080; font-weight: bold\">TextContentItem</span><span style=\"font-weight: bold\">(</span><span style=\"color: #808000; text-decoration-color: #808000\">text</span>=<span style=\"color: #008000; text-decoration-color: #008000\">'END of knowledge_search tool results.\\n'</span>, <span style=\"color: #808000; text-decoration-color: #808000\">type</span>=<span style=\"color: #008000; text-decoration-color: #008000\">'text'</span><span style=\"font-weight: bold\">)</span>,\n",
       "<span style=\"color: #7fbf7f; text-decoration-color: #7fbf7f\">│   </span><span style=\"color: #800080; text-decoration-color: #800080; font-weight: bold\">TextContentItem</span><span style=\"font-weight: bold\">(</span>\n",
       "<span style=\"color: #7fbf7f; text-decoration-color: #7fbf7f\">│   │   </span><span style=\"color: #808000; text-decoration-color: #808000\">text</span>=<span style=\"color: #008000; text-decoration-color: #008000\">'The above results were retrieved to help answer the user\\'s query: \"Container failed due to an unexpected issue during startup\". Use them as supporting information only in answering this query.\\n'</span>,\n",
       "<span style=\"color: #7fbf7f; text-decoration-color: #7fbf7f\">│   │   </span><span style=\"color: #808000; text-decoration-color: #808000\">type</span>=<span style=\"color: #008000; text-decoration-color: #008000\">'text'</span>\n",
       "<span style=\"color: #7fbf7f; text-decoration-color: #7fbf7f\">│   </span><span style=\"font-weight: bold\">)</span>\n",
       "<span style=\"font-weight: bold\">]</span>\n",
       "</pre>\n"
      ],
      "text/plain": [
       "\u001b[1m[\u001b[0m\n",
       "\u001b[2;32m│   \u001b[0m\u001b[1;35mTextContentItem\u001b[0m\u001b[1m(\u001b[0m\n",
       "\u001b[2;32m│   │   \u001b[0m\u001b[33mtext\u001b[0m=\u001b[32m'knowledge_search tool found 5 chunks:\\nBEGIN of knowledge_search tool results.\\n'\u001b[0m,\n",
       "\u001b[2;32m│   │   \u001b[0m\u001b[33mtype\u001b[0m=\u001b[32m'text'\u001b[0m\n",
       "\u001b[2;32m│   \u001b[0m\u001b[1m)\u001b[0m,\n",
       "\u001b[2;32m│   \u001b[0m\u001b[1;35mTextContentItem\u001b[0m\u001b[1m(\u001b[0m\n",
       "\u001b[2;32m│   │   \u001b[0m\u001b[33mtext\u001b[0m=\u001b[32m'Result 1:\\nDocument_id:num-0\\nContent: RunInitContainer\u001b[0m\u001b[32m<\u001b[0m\u001b[32m/code>\\n\\t\\t\\t\\t\\t\\t\\t\\t</p>\\n\\t\\t\\t\\t\\t\\t\\t\\t </td><td \u001b[0m\u001b[32malign\u001b[0m\u001b[32m=\u001b[0m\u001b[32m\"left\"\u001b[0m\u001b[32m \u001b[0m\u001b[32mvalign\u001b[0m\u001b[32m=\u001b[0m\u001b[32m\"top\"\u001b[0m\u001b[32m \u001b[0m\u001b[32mheaders\u001b[0m\u001b[32m=\u001b[0m\u001b[32m\"idm140345532083552\"\u001b[0m\u001b[32m> <p>\\n\\t\\t\\t\\t\\t\\t\\t\\t\\tContainer initialization failed.\\n\\t\\t\\t\\t\\t\\t\\t\\t</p>\\n\\t\\t\\t\\t\\t\\t\\t\\t </td></tr><tr><td \u001b[0m\u001b[32malign\u001b[0m\u001b[32m=\u001b[0m\u001b[32m\"left\"\u001b[0m\u001b[32m \u001b[0m\u001b[32mvalign\u001b[0m\u001b[32m=\u001b[0m\u001b[32m\"top\"\u001b[0m\u001b[32m \u001b[0m\u001b[32mheaders\u001b[0m\u001b[32m=\u001b[0m\u001b[32m\"idm140345532084640\"\u001b[0m\u001b[32m> <p>\\n\\t\\t\\t\\t\\t\\t\\t\\t\\t<code \u001b[0m\u001b[32mclass\u001b[0m\u001b[32m=\u001b[0m\u001b[32m\"literal\"\u001b[0m\u001b[32m>ErrRunContainer</code>\\n\\t\\t\\t\\t\\t\\t\\t\\t</p>\\n\\t\\t\\t\\t\\t\\t\\t\\t </td><td \u001b[0m\u001b[32malign\u001b[0m\u001b[32m=\u001b[0m\u001b[32m\"left\"\u001b[0m\u001b[32m \u001b[0m\u001b[32mvalign\u001b[0m\u001b[32m=\u001b[0m\u001b[32m\"top\"\u001b[0m\u001b[32m \u001b[0m\u001b[32mheaders\u001b[0m\u001b[32m=\u001b[0m\u001b[32m\"idm140345532083552\"\u001b[0m\u001b[32m> <p>\\n\\t\\t\\t\\t\\t\\t\\t\\t\\tNone of the pod’s containers started successfully.\\n\\t\\t\\t\\t\\t\\t\\t\\t</p>\\n\\t\\t\\t\\t\\t\\t\\t\\t </td></tr><tr><td \u001b[0m\u001b[32malign\u001b[0m\u001b[32m=\u001b[0m\u001b[32m\"left\"\u001b[0m\u001b[32m \u001b[0m\u001b[32mvalign\u001b[0m\u001b[32m=\u001b[0m\u001b[32m\"top\"\u001b[0m\u001b[32m \u001b[0m\u001b[32mheaders\u001b[0m\u001b[32m=\u001b[0m\u001b[32m\"idm140345532084640\"\u001b[0m\u001b[32m> <p>\\n\\t\\t\\t\\t\\t\\t\\t\\t\\t<code \u001b[0m\u001b[32mclass\u001b[0m\u001b[32m=\u001b[0m\u001b[32m\"literal\"\u001b[0m\u001b[32m>ErrKillContainer</code>\\n\\t\\t\\t\\t\\t\\t\\t\\t</p>\\n\\t\\t\\t\\t\\t\\t\\t\\t </td><td \u001b[0m\u001b[32malign\u001b[0m\u001b[32m=\u001b[0m\u001b[32m\"left\"\u001b[0m\u001b[32m \u001b[0m\u001b[32mvalign\u001b[0m\u001b[32m=\u001b[0m\u001b[32m\"top\"\u001b[0m\u001b[32m \u001b[0m\u001b[32mheaders\u001b[0m\u001b[32m=\u001b[0m\u001b[32m\"idm140345532083552\"\u001b[0m\u001b[32m> <p>\\n\\t\\t\\t\\t\\t\\t\\t\\t\\tNone of the pod’s containers were killed successfully.\\n\\t\\t\\t\\t\\t\\t\\t\\t</p>\\n\\t\\t\\t\\t\\t\\t\\t\\t </td></tr><tr><td \u001b[0m\u001b[32malign\u001b[0m\u001b[32m=\u001b[0m\u001b[32m\"left\"\u001b[0m\u001b[32m \u001b[0m\u001b[32mvalign\u001b[0m\u001b[32m=\u001b[0m\u001b[32m\"top\"\u001b[0m\u001b[32m \u001b[0m\u001b[32mheaders\u001b[0m\u001b[32m=\u001b[0m\u001b[32m\"idm140345532084640\"\u001b[0m\u001b[32m> <p>\\n\\t\\t\\t\\t\\t\\t\\t\\t\\t<code \u001b[0m\u001b[32mclass\u001b[0m\u001b[32m=\u001b[0m\u001b[32m\"literal\"\u001b[0m\u001b[32m>ErrCrashLoopBackOff</code>\\n\\t\\t\\t\\t\\t\\t\\t\\t</p>\\n\\t\\t\\t\\t\\t\\t\\t\\t </td><td \u001b[0m\u001b[32malign\u001b[0m\u001b[32m=\u001b[0m\u001b[32m\"left\"\u001b[0m\u001b[32m \u001b[0m\u001b[32mvalign\u001b[0m\u001b[32m=\u001b[0m\u001b[32m\"top\"\u001b[0m\u001b[32m \u001b[0m\u001b[32mheaders\u001b[0m\u001b[32m=\u001b[0m\u001b[32m\"idm140345532083552\"\u001b[0m\u001b[32m> <p>\\n\\t\\t\\t\\t\\t\\t\\t\\t\\tA container has terminated. The kubelet will not attempt to restart it.\\n\\t\\t\\t\\t\\t\\t\\t\\t</p>\\n\\t\\t\\t\\t\\t\\t\\t\\t </td></tr><tr><td \u001b[0m\u001b[32malign\u001b[0m\u001b[32m=\u001b[0m\u001b[32m\"left\"\u001b[0m\u001b[32m \u001b[0m\u001b[32mvalign\u001b[0m\u001b[32m=\u001b[0m\u001b[32m\"top\"\u001b[0m\u001b[32m \u001b[0m\u001b[32mheaders\u001b[0m\u001b[32m=\u001b[0m\u001b[32m\"idm140345532084640\"\u001b[0m\u001b[32m> <p>\\n\\t\\t\\t\\t\\t\\t\\t\\t\\t<code \u001b[0m\u001b[32mclass\u001b[0m\u001b[32m=\u001b[0m\u001b[32m\"literal\"\u001b[0m\u001b[32m>ErrVerifyNonRoot</code>\\n\\t\\t\\t\\t\\t\\t\\t\\t</p>\\n\\t\\t\\t\\t\\t\\t\\t\\t </td><td \u001b[0m\u001b[32malign\u001b[0m\u001b[32m=\u001b[0m\u001b[32m\"left\"\u001b[0m\u001b[32m \u001b[0m\u001b[32mvalign\u001b[0m\u001b[32m=\u001b[0m\u001b[32m\"top\"\u001b[0m\u001b[32m \u001b[0m\u001b[32mheaders\u001b[0m\u001b[32m=\u001b[0m\u001b[32m\"idm140345532083552\"\u001b[0m\u001b[32m> <p>\\n\\t\\t\\t\\t\\t\\t\\t\\t\\tA container or image attempted to run with root privileges.\\n\\t\\t\\t\\t\\t\\t\\t\\t</p>\\n\\t\\t\\t\\t\\t\\t\\t\\t </td></tr><tr><td \u001b[0m\u001b[32malign\u001b[0m\u001b[32m=\u001b[0m\u001b[32m\"left\"\u001b[0m\u001b[32m \u001b[0m\u001b[32mvalign\u001b[0m\u001b[32m=\u001b[0m\u001b[32m\"top\"\u001b[0m\u001b[32m \u001b[0m\u001b[32mheaders\u001b[0m\u001b[32m=\u001b[0m\u001b[32m\"idm140345532084640\"\u001b[0m\u001b[32m> <p>\\n\\t\\t\\t\\t\\t\\t\\t\\t\\t<code \u001b[0m\u001b[32mclass\u001b[0m\u001b[32m=\u001b[0m\u001b[32m\"literal\"\u001b[0m\u001b[32m>ErrCreatePodSandbox</code>\\n\\t\\t\\t\\t\\t\\t\\t\\t</p>\\n\\t\\t\\t\\t\\t\\t\\t\\t </td><td \u001b[0m\u001b[32malign\u001b[0m\u001b[32m=\u001b[0m\u001b[32m\"left\"\u001b[0m\u001b[32m \u001b[0m\u001b[32mvalign\u001b[0m\u001b[32m=\u001b[0m\u001b[32m\"top\"\u001b[0m\u001b[32m \u001b[0m\u001b[32mheaders\u001b[0m\u001b[32m=\u001b[0m\u001b[32m\"idm140345532083552\"\u001b[0m\u001b[32m> <p>\\n\\t\\t\\t\\t\\t\\t\\t\\t\\tPod sandbox creation did not succeed.\\n\\t\\t\\t\\t\\t\\t\\t\\t</p>\\n\\n'\u001b[0m\u001b[39m,\u001b[0m\n",
       "\u001b[2;32m│   │   \u001b[0m\u001b[33mtype\u001b[0m\u001b[39m=\u001b[0m\u001b[32m'text'\u001b[0m\n",
       "\u001b[2;32m│   \u001b[0m\u001b[1;39m)\u001b[0m\u001b[39m,\u001b[0m\n",
       "\u001b[2;32m│   \u001b[0m\u001b[1;35mTextContentItem\u001b[0m\u001b[1;39m(\u001b[0m\n",
       "\u001b[2;32m│   │   \u001b[0m\u001b[33mtext\u001b[0m\u001b[39m=\u001b[0m\u001b[32m'Result 2:\\nDocument_id:num-0\\nContent: lt;namespace&gt;\\\\u003C/pre>\\\\u003C/li>\\\\u003Cli \u001b[0m\u001b[32mclass\u001b[0m\u001b[32m=\\\\\"listitem\\\\\">\\\\u003Cp \u001b[0m\u001b[32mclass\u001b[0m\u001b[32m=\\\\\"simpara\\\\\">\\\\n\\\\t\\\\t\\\\t\\\\t\\\\t\\\\t\\\\t\\\\t\\\\tIf the pod has more than one container, the preceding command will create an error, and the container names will be provided in the error message. Inspect logs for each container:\\\\n\\\\t\\\\t\\\\t\\\\t\\\\t\\\\t\\\\t\\\\t\\\\u003C/p>\\\\u003Cpre \u001b[0m\u001b[32mclass\u001b[0m\u001b[32m=\\\\\"programlisting language-terminal\\\\\">$ oc logs pod/&lt;pod_name&gt; -c &lt;container_name&gt; -n &lt;namespace&gt;\\\\u003C/pre>\\\\u003C/li>\\\\u003C/ol>\\\\u003C/div>\\\\u003C/li>\\\\u003Cli \u001b[0m\u001b[32mclass\u001b[0m\u001b[32m=\\\\\"listitem\\\\\">\\\\u003Cp \u001b[0m\u001b[32mclass\u001b[0m\u001b[32m=\\\\\"simpara\\\\\">\\\\n\\\\t\\\\t\\\\t\\\\t\\\\t\\\\t\\\\tIf the API is not functional, review etcd pod and container logs on each control plane node by using SSH instead. Replace \\\\u003Ccode \u001b[0m\u001b[32mclass\u001b[0m\u001b[32m=\\\\\"literal\\\\\">&lt;master-node&gt;.&lt;cluster_name&gt;.&lt;base_domain&gt;\\\\u003C/code> with appropriate values.\\\\n\\\\t\\\\t\\\\t\\\\t\\\\t\\\\t\\\\u003C/p>\\\\u003Cdiv \u001b[0m\u001b[32mclass\u001b[0m\u001b[32m=\\\\\"orderedlist\\\\\">\\\\u003Col \u001b[0m\u001b[32mclass\u001b[0m\u001b[32m=\\\\\"orderedlist\\\\\" \u001b[0m\u001b[32mtype\u001b[0m\u001b[32m=\\\\\"a\\\\\">\\\\u003Cli \u001b[0m\u001b[32mclass\u001b[0m\u001b[32m=\\\\\"listitem\\\\\">\\\\u003Cp \u001b[0m\u001b[32mclass\u001b[0m\u001b[32m=\\\\\"simpara\\\\\">\\\\n\\\\t\\\\t\\\\t\\\\t\\\\t\\\\t\\\\t\\\\t\\\\tList etcd pods on each control plane node:\\\\n\\\\t\\\\t\\\\t\\\\t\\\\t\\\\t\\\\t\\\\t\\\\u003C/p>\\\\u003Cpre \u001b[0m\u001b[32mclass\u001b[0m\u001b[32m=\\\\\"programlisting language-terminal\\\\\">$ ssh core@&lt;master-node&gt;.&lt;cluster_name&gt;.&lt;base_domain&gt; sudo crictl pods --\u001b[0m\u001b[32mname\u001b[0m\u001b[32m=\u001b[0m\u001b[32metcd\u001b[0m\u001b[32m-\\\\u003C/pre>\\\\u003C/li>\\\\u003Cli \u001b[0m\u001b[32mclass\u001b[0m\u001b[32m=\\\\\"listitem\\\\\">\\\\u003Cp \u001b[0m\u001b[32mclass\u001b[0m\u001b[32m=\\\\\"simpara\\\\\">\\\\n\\\\t\\\\t\\\\t\\\\t\\\\t\\\\t\\\\t\\\\t\\\\tFor any pods not showing \\\\u003Ccode \u001b[0m\u001b[32mclass\u001b[0m\u001b[32m=\\\\\"literal\\\\\">Ready\\\\u003C/code> status, inspect pod status in detail. Replace \\\\u003Ccode \u001b[0m\u001b[32mclass\u001b[0m\u001b[32m=\\\\\"literal\\\\\">&lt;pod_id&gt;\\\\u003C/code> with the pod’s ID listed in the output of the preceding command:\\\\n\\\\t\\\\t\\\\t\\\\t\\\\t\\\\t\\\\t\\\\t\\\\u003C/p>\\\\u003Cpre \u001b[0m\u001b[32mclass\u001b[0m\u001b[32m=\\\\\"programlisting language-terminal\\\\\">$ ssh core@&lt;master-node&gt;\\n'\u001b[0m\u001b[39m,\u001b[0m\n",
       "\u001b[2;32m│   │   \u001b[0m\u001b[33mtype\u001b[0m\u001b[39m=\u001b[0m\u001b[32m'text'\u001b[0m\n",
       "\u001b[2;32m│   \u001b[0m\u001b[1;39m)\u001b[0m\u001b[39m,\u001b[0m\n",
       "\u001b[2;32m│   \u001b[0m\u001b[1;35mTextContentItem\u001b[0m\u001b[1;39m(\u001b[0m\n",
       "\u001b[2;32m│   │   \u001b[0m\u001b[33mtext\u001b[0m\u001b[39m=\u001b[0m\u001b[32m'Result 3:\\nDocument_id:num-0\\nContent: virtualization/live-migration\":14663,\"virtualization/node-maintenance\":14664,\"virtualization/logging-events-and-monitoring\":14665,\"virtualization/backup-and-restore\":14666,\"service_mesh/index\":14667,\"service_mesh/service-mesh-2-x\":14668,\"service_mesh/service-mesh-1-x\":14669,\"windows_container_support_for_openshift/index\":14670,\"windows_container_support_for_openshift/windows-container-overview\":14671,\"windows_container_support_for_openshift/windows-containers-release-notes-6-x\":14672,\"windows_container_support_for_openshift/understanding-windows-container-workloads\":14673,\"windows_container_support_for_openshift/enabling-windows-container-workloads\":14674,\"windows_container_support_for_openshift/creating-windows-machine-sets\":14675,\"windows_container_support_for_openshift/scheduling-windows-workloads\":14676,\"windows_container_support_for_openshift/windows-node-upgrades\":14677,\"windows_container_support_for_openshift/byoh-windows-instance\":14678,\"windows_container_support_for_openshift/removing-windows-nodes\":14679,\"windows_container_support_for_openshift/disabling-windows-container-workloads\":14680,\"support/legal-notice\":14681\u001b[0m\u001b[32m}\u001b[0m\u001b[32m,\u001b[0m\u001b[32m{\u001b[0m\u001b[32m\"prevt\":17,\"next\":16\u001b[0m\u001b[32m}\u001b[0m\u001b[32m,\u001b[0m\u001b[32m{\u001b[0m\u001b[32m\"prevt\":17,\"next\":37\u001b[0m\u001b[32m}\u001b[0m\u001b[32m,\u001b[0m\u001b[32m{\u001b[0m\u001b[32m\"prevt\":25,\"next\":17\u001b[0m\u001b[32m}\u001b[0m\u001b[32m,\u001b[0m\u001b[32m{\u001b[0m\u001b[32m\"prevt\":16,\"next\":16\u001b[0m\u001b[32m}\u001b[0m\u001b[32m,\u001b[0m\u001b[32m{\u001b[0m\u001b[32m\"prevt\":17,\"next\":60\u001b[0m\u001b[32m}\u001b[0m\u001b[32m,\u001b[0m\u001b[32m{\u001b[0m\u001b[32m\"prevt\":52,\"next\":73\u001b[0m\u001b[32m}\u001b[0m\u001b[32m,\u001b[0m\u001b[32m{\u001b[0m\u001b[32m\"prevt\":60,\"next\":90\u001b[0m\u001b[32m}\u001b[0m\u001b[32m,\u001b[0m\u001b[32m{\u001b[0m\u001b[32m\"prevt\":73,\"next\":17\u001b[0m\u001b[32m}\u001b[0m\u001b[32m,\u001b[0m\u001b[32m{\u001b[0m\u001b[32m\"prevt\":16,\"next\":16\u001b[0m\u001b[32m}\u001b[0m\u001b[32m,\u001b[0m\u001b[32m{\u001b[0m\u001b[32m\"prevt\":17,\"next\":17\u001b[0m\u001b[32m}\u001b[0m\u001b[32m,\u001b[0m\u001b[32m{\u001b[0m\u001b[32m\"prevt\":16,\"next\":16\u001b[0m\u001b[32m}\u001b[0m\u001b[32m,\u001b[0m\u001b[32m{\u001b[0m\u001b[32m\"prevt\":17,\"next\":429\u001b[0m\u001b[32m}\u001b[0m\u001b[32m,\u001b[0m\u001b[32m{\u001b[0m\u001b[32m\"prevt\":433,\"next\":459\u001b[0m\u001b[32m}\u001b[0m\u001b[32m,\u001b[0m\u001b[32m{\u001b[0m\u001b[32m\"prevt\":429,\"next\":472\u001b[0m\u001b[32m}\u001b[0m\u001b[32m,\u001b[0m\u001b[32m{\u001b[0m\u001b[32m\"prevt\":459,\"next\":489\u001b[0m\u001b[32m}\u001b[0m\u001b[32m,\u001b[0m\u001b[32m{\u001b[0m\u001b[32m\"prevt\":472,\"next\":507\u001b[0m\u001b[32m}\u001b[0m\u001b[32m,\u001b[0m\u001b[32m{\u001b[0m\u001b[32m\"prevt\":489,\"next\":525\u001b[0m\u001b[32m}\u001b[0m\u001b[32m,\u001b[0m\u001b[32m{\u001b[0m\u001b[32m\"prevt\":507,\"next\":540\u001b[0m\u001b[32m}\u001b[0m\u001b[32m,\u001b[0m\u001b[32m{\u001b[0m\u001b[32m\"prevt\":525,\"next\":17\u001b[0m\u001b[32m}\u001b[0m\u001b[32m,\u001b[0m\u001b[32m{\u001b[0m\u001b[32m\"prevt\":16,\"next\":16\u001b[0m\u001b[32m}\u001b[0m\u001b[32m,\u001b[0m\u001b[32m{\u001b[0m\u001b[32m\"prevt\":17,\"next\":567\u001b[0m\u001b[32m}\u001b[0m\u001b[32m,\u001b[0m\u001b[32m{\u001b[0m\u001b[32m\"prevt\":559,\"next\":655\u001b[0m\u001b[32m}\u001b[0m\u001b[32m,\u001b[0m\u001b[32m{\u001b[0m\u001b[32m\"prevt\":567,\"next\":678\u001b[0m\u001b[32m}\u001b[0m\u001b[32m,\u001b[0m\u001b[32m{\u001b[0m\u001b[32m\"prevt\":655,\"next\":752\u001b[0m\u001b[32m}\u001b[0m\u001b[32m,\u001b[0m\u001b[32m{\u001b[0m\u001b[32m\"prevt\":678,\"next\":914\u001b[0m\u001b[32m}\u001b[0m\u001b[32m,\u001b[0m\u001b[32m{\u001b[0m\u001b[32m\"prevt\":752,\"next\":980\u001b[0m\u001b[32m}\u001b[0m\u001b[32m,\u001b[0m\u001b[32m{\u001b[0m\u001b[32m\"prevt\":914,\"next\":1002\u001b[0m\u001b[32m}\u001b[0m\u001b[32m,\u001b[0m\u001b[32m{\u001b[0m\u001b[32m\"prevt\":980,\"next\":1013\u001b[0m\u001b[32m}\u001b[0m\u001b[32m,\u001b[0m\u001b[32m{\u001b[0m\u001b[32m\"pre\\n'\u001b[0m\u001b[39m,\u001b[0m\n",
       "\u001b[2;32m│   │   \u001b[0m\u001b[33mtype\u001b[0m\u001b[39m=\u001b[0m\u001b[32m'text'\u001b[0m\n",
       "\u001b[2;32m│   \u001b[0m\u001b[1;39m)\u001b[0m\u001b[39m,\u001b[0m\n",
       "\u001b[2;32m│   \u001b[0m\u001b[1;35mTextContentItem\u001b[0m\u001b[1;39m(\u001b[0m\n",
       "\u001b[2;32m│   │   \u001b[0m\u001b[33mtext\u001b[0m\u001b[39m=\u001b[0m\u001b[32m'Result 4:\\nDocument_id:num-0\\nContent: -web_upgrading-sandboxed-containers\",\"sandboxed-containers-upgrading-monitor-pods-cli_upgrading-sandboxed-containers\",\"/documentation/openshift_container_platform/4.11/html/sandboxed_containers_support_for_openshift/upgrading-sandboxed-containers\",\u001b[0m\u001b[32m{\u001b[0m\u001b[32m\"title\":10170,\"visible\":12,\"weight\":524,\"urlFragment\":10171,\"anchor\":17,\"singlePageAnchor\":10171,\"subChapters\":10172,\"url\":10179,\"docTitle\":10088\u001b[0m\u001b[32m}\u001b[0m\u001b[32m,\"Collecting OpenShift sandboxed containers data\",\"troubleshooting-sandboxed-containers\",\u001b[0m\u001b[32m[\u001b[0m\u001b[32m10173,10174,10175,10176,10177,10178\u001b[0m\u001b[32m]\u001b[0m\u001b[32m,\"sandboxed-containers-collect_data_rh_support_troubleshooting-sandboxed-containers\",\"about-must-gather_troubleshooting-sandboxed-containers\",\"sandboxed-containers-collecting-data_troubleshooting-sandboxed-containers\",\"sandboxed-containers-enable-debug-logs_troubleshooting-sandboxed-containers\",\"sandboxed-containers-view-debug-logs_troubleshooting-sandboxed-containers\",\"troubleshooting-sandboxed-containers_additional-resources\",\"/documentation/openshift_container_platform/4.11/html/sandboxed_containers_support_for_openshift/troubleshooting-sandboxed-containers\",\u001b[0m\u001b[32m{\u001b[0m\u001b[32m\"title\":10181,\"visible\":12,\"weight\":15,\"urlFragment\":16,\"anchor\":17,\"singlePageAnchor\":17,\"subChapters\":10182,\"url\":10183,\"docTitle\":10184,\"sections\":10185\u001b[0m\u001b[32m}\u001b[0m\u001b[32m,\"Operators\",\u001b[0m\u001b[32m[\u001b[0m\u001b[32m]\u001b[0m\u001b[32m,\"/documentation/openshift_container_platform/4.11/html/operators/index\",\"operators\",\u001b[0m\u001b[32m[\u001b[0m\u001b[32m10186,10194,10333,10346,10411,10660\u001b[0m\u001b[32m]\u001b[0m\u001b[32m,\u001b[0m\u001b[32m{\u001b[0m\u001b[32m\"title\":10187,\"visible\":12,\"weight\":24,\"urlFragment\":10188,\"anchor\":17,\"singlePageAnchor\":10188,\"subChapters\":10189,\"url\":10193,\"docTitle\":10184\u001b[0m\u001b[32m}\u001b[0m\u001b[32m,\"Operators overview\",\"operators-overview\",\u001b[0m\u001b[32m[\u001b[0m\u001b[32m10190,10191,10192\u001b[0m\u001b[32m]\u001b[0m\u001b[32m,\"operators-overview-developer-tasks\",\"operators-overview-administrator-tasks\",\"operators-overview-next-steps\",\"/documentation/openshift_container_platform/4.11/html/operators/operators-overview\",\u001b[0m\u001b[32m{\u001b[0m\u001b[32m\"title\":10195,\"visible\":12,\"weight\":36,\"urlFragment\":10196,\"anchor\":17,\"singlePageAnchor\":10196,\"subChapters\":10197,\"url\":10332,\"docTitle\":10184\u001b[0m\u001b[32m}\u001b[0m\u001b[32m,\"\\n'\u001b[0m\u001b[39m,\u001b[0m\n",
       "\u001b[2;32m│   │   \u001b[0m\u001b[33mtype\u001b[0m\u001b[39m=\u001b[0m\u001b[32m'text'\u001b[0m\n",
       "\u001b[2;32m│   \u001b[0m\u001b[1;39m)\u001b[0m\u001b[39m,\u001b[0m\n",
       "\u001b[2;32m│   \u001b[0m\u001b[1;35mTextContentItem\u001b[0m\u001b[1;39m(\u001b[0m\n",
       "\u001b[2;32m│   │   \u001b[0m\u001b[33mtext\u001b[0m\u001b[39m=\u001b[0m\u001b[32m'Result 5:\\nDocument_id:num-0\\nContent: , Pods are either removed after exiting or retained so that their logs can be accessed.\\\\n\\\\t\\\\t\\\\t\\\\u003C/p>\\\\u003Cp>\\\\n\\\\t\\\\t\\\\t\\\\tThe first thing to check when pod issues arise is the pod’s status. If an explicit pod failure has occurred, observe the pod’s error state to identify specific image, container, or pod network issues. Focus diagnostic data collection according to the error state. Review pod event messages, as well as pod and container log information. Diagnose issues dynamically by accessing running Pods on the command line, or start a debug pod with root access based on a problematic pod’s deployment configuration.\\\\n\\\\t\\\\t\\\\t\\\\u003C/p>\\\\u003Csection \u001b[0m\u001b[32mclass\u001b[0m\u001b[32m=\\\\\"section\\\\\" \u001b[0m\u001b[32mid\u001b[0m\u001b[32m=\\\\\"understanding-pod-error-states_investigating-pod-issues\\\\\">\\\\u003Cdiv \u001b[0m\u001b[32mclass\u001b[0m\u001b[32m=\\\\\"titlepage\\\\\">\\\\u003Cdiv>\\\\u003Cdiv>\\\\u003Ch3 \u001b[0m\u001b[32mclass\u001b[0m\u001b[32m=\\\\\"title\\\\\">7.7.1.\\xa0Understanding pod error states\\\\u003C/h3>\\\\u003C/div>\\\\u003C/div>\\\\u003C/div>\\\\u003Cp>\\\\n\\\\t\\\\t\\\\t\\\\t\\\\tPod failures return explicit error states that can be observed in the \\\\u003Ccode \u001b[0m\u001b[32mclass\u001b[0m\u001b[32m=\\\\\"literal\\\\\">status\\\\u003C/code> field in the output of \\\\u003Ccode \u001b[0m\u001b[32mclass\u001b[0m\u001b[32m=\\\\\"literal\\\\\">oc get pods\\\\u003C/code>. Pod error states cover image, container, and container network related failures.\\\\n\\\\t\\\\t\\\\t\\\\t\\\\u003C/p>\\\\u003Cp>\\\\n\\\\t\\\\t\\\\t\\\\t\\\\tThe following table provides a list of pod error states along with their descriptions.\\\\n\\\\t\\\\t\\\\t\\\\t\\\\u003C/p>\\\\u003Crh-table \u001b[0m\u001b[32mid\u001b[0m\u001b[32m=\\\\\"idm140345532089472\\\\\">\\\\u003Ctable \u001b[0m\u001b[32mclass\u001b[0m\u001b[32m=\\\\\"lt-4-cols lt-7-rows\\\\\">\\\\u003Ccaption>Table\\xa07.3.\\xa0Pod error states\\\\u003C/caption>\\\\u003Ccolgroup>\\\\u003Ccol \u001b[0m\u001b[32mstyle\u001b[0m\u001b[32m=\\\\\"width: 20%; \\\\\" \u001b[0m\u001b[32mclass\u001b[0m\u001b[32m=\\\\\"col_1\\\\\">\\\\u003C!--Empty-->\\\\u003C/col>\\\\u003Ccol \u001b[0m\u001b[32mstyle\u001b[0m\u001b[32m=\\\\\"width: 80%; \\\\\" \u001b[0m\u001b[32mclass\u001b[0m\u001b[32m=\\\\\"col_2\\\\\">\\\\u003C!--Empty-->\\\\u003C/col>\\\\u003C/colgroup>\\\\u003Cthead>\\\\u003Ctr>\\\\u003Cth \u001b[0m\u001b[32malign\u001b[0m\u001b[32m=\\\\\"left\\\\\" \u001b[0m\u001b[32mvalign\u001b[0m\u001b[32m=\\\\\"top\\\\\" \u001b[0m\u001b[32mid\u001b[0m\u001b[32m=\\\\\"idm140345532084640\\\\\" \u001b[0m\u001b[32mscope\u001b[0m\u001b[32m=\\\\\"col\\\\\"\u001b[0m\u001b[32m>\u001b[0m\u001b[32mPod error state\\\\u003\\n'\u001b[0m,\n",
       "\u001b[2;32m│   │   \u001b[0m\u001b[33mtype\u001b[0m=\u001b[32m'text'\u001b[0m\n",
       "\u001b[2;32m│   \u001b[0m\u001b[1m)\u001b[0m,\n",
       "\u001b[2;32m│   \u001b[0m\u001b[1;35mTextContentItem\u001b[0m\u001b[1m(\u001b[0m\u001b[33mtext\u001b[0m=\u001b[32m'END of knowledge_search tool results.\\n'\u001b[0m, \u001b[33mtype\u001b[0m=\u001b[32m'text'\u001b[0m\u001b[1m)\u001b[0m,\n",
       "\u001b[2;32m│   \u001b[0m\u001b[1;35mTextContentItem\u001b[0m\u001b[1m(\u001b[0m\n",
       "\u001b[2;32m│   │   \u001b[0m\u001b[33mtext\u001b[0m=\u001b[32m'The above results were retrieved to help answer the user\\'s query: \"Container failed due to an unexpected issue during startup\". Use them as supporting information only in answering this query.\\n'\u001b[0m,\n",
       "\u001b[2;32m│   │   \u001b[0m\u001b[33mtype\u001b[0m=\u001b[32m'text'\u001b[0m\n",
       "\u001b[2;32m│   \u001b[0m\u001b[1m)\u001b[0m\n",
       "\u001b[1m]\u001b[0m\n"
      ]
     },
     "metadata": {},
     "output_type": "display_data"
    },
    {
     "name": "stdout",
     "output_type": "stream",
     "text": [
      "\n",
      "---------- 📍 Step 3: InferenceStep ----------\n",
      "🤖 Model Response:\n",
      "\u001b[35mTo resolve the \"Container failed due to an unexpected issue during startup\" error, follow these steps:\n",
      "\n",
      "1. Check the pod's status and error state using `oc get pods <pod_name> -o yaml`.\n",
      "2. If the error state indicates an image, container, or network issue, focus diagnostic data collection according to the error state.\n",
      "3. Review pod event messages and container log information using `oc logs <pod_name> -c <container_name>`.\n",
      "4. Diagnose issues dynamically by accessing running pods on the command line or starting a debug pod with root access based on the problematic pod's deployment configuration.\n",
      "5. If the API is not functional, review etcd pod and container logs on each control plane node by using SSH.\n",
      "\n",
      "Remember to replace `<pod_name>`, `<container_name>`, and `<master-node>` with appropriate values.\n",
      "\u001b[0m\n",
      "========== Query processing completed ========== \n",
      "\n",
      "\n",
      "---------- 📍 Step 1: InferenceStep ----------\n",
      "🛠️ Tool call Generated:\n",
      "\u001b[35mTool call: slack_post_message, Arguments: {'channel_id': 'demos', 'text': \"To resolve the 'Container failed due to an unexpected issue during startup' error, check the pod's status and error state using `oc get pods <pod_name> -o yaml`. If there's an image, container, or network issue, focus diagnostic data collection accordingly. Review pod event messages and container logs with `oc logs <pod_name> -c <container_name>`. Diagnose issues dynamically via command line or debug pods. If API is down, review etcd pod and container logs on each control plane node via SSH.\"}\u001b[0m\n",
      "\n",
      "---------- 📍 Step 2: ToolExecutionStep ----------\n",
      "🔧 Executing tool...\n"
     ]
    },
    {
     "data": {
      "text/html": [
       "<pre style=\"white-space:pre;overflow-x:auto;line-height:normal;font-family:Menlo,'DejaVu Sans Mono',consolas,'Courier New',monospace\"><span style=\"font-weight: bold\">{</span>\n",
       "<span style=\"color: #7fbf7f; text-decoration-color: #7fbf7f\">│   </span><span style=\"color: #008000; text-decoration-color: #008000\">'type'</span>: <span style=\"color: #008000; text-decoration-color: #008000\">'text'</span>,\n",
       "<span style=\"color: #7fbf7f; text-decoration-color: #7fbf7f\">│   </span><span style=\"color: #008000; text-decoration-color: #008000\">'text'</span>: <span style=\"color: #008000; text-decoration-color: #008000\">'{\"ok\":true,\"channel\":\"C08MUDSNHED\",\"ts\":\"1747246993.768149\",\"message\":{\"user\":\"U08MM2P7BEF\",\"type\":\"message\",\"ts\":\"1747246993.768149\",\"bot_id\":\"B08MM2P60KV\",\"app_id\":\"A08MLQCUGUS\",\"text\":\"To resolve the \\'Container failed due to an unexpected issue during startup\\' error, check the pod\\'s status and error state using `oc get pods &amp;lt;pod_name&amp;gt; -o yaml`. If there\\'s an image, container, or network issue, focus diagnostic data collection accordingly. Review pod event messages and container logs with `oc logs &amp;lt;pod_name&amp;gt; -c &amp;lt;container_name&amp;gt;`. Diagnose issues dynamically via command line or debug pods. If API is down, review etcd pod and container logs on each control plane node via SSH.\",\"team\":\"T08M9UTL2DC\",\"bot_profile\":{\"id\":\"B08MM2P60KV\",\"app_id\":\"A08MLQCUGUS\",\"user_id\":\"U08MM2P7BEF\",\"name\":\"et-slack-bot\",\"icons\":{\"image_36\":\"https://a.slack-edge.com/80588/img/plugins/app/bot_36.png\",\"image_48\":\"https://a.slack-edge.com/80588/img/plugins/app/bot_48.png\",\"image_72\":\"https://a.slack-edge.com/80588/img/plugins/app/service_72.png\"},\"deleted\":false,\"updated\":1744227670,\"team_id\":\"T08M9UTL2DC\"},\"blocks\":[{\"type\":\"rich_text\",\"block_id\":\"bt6+J\",\"elements\":[{\"type\":\"rich_text_section\",\"elements\":[{\"type\":\"text\",\"text\":\"To resolve the \\'Container failed due to an unexpected issue during startup\\' error, check the pod\\'s status and error state using \"},{\"type\":\"text\",\"text\":\"oc get pods &lt;pod_name&gt; -o yaml\",\"style\":{\"code\":true}},{\"type\":\"text\",\"text\":\". If there\\'s an image, container, or network issue, focus diagnostic data collection accordingly. Review pod event messages and container logs with \"},{\"type\":\"text\",\"text\":\"oc logs &lt;pod_name&gt; -c &lt;container_name&gt;\",\"style\":{\"code\":true}},{\"type\":\"text\",\"text\":\". Diagnose issues dynamically via command line or debug pods. If API is down, review etcd pod and container logs on each control plane node via SSH.\"}]}]}]},\"warning\":\"missing_charset\",\"response_metadata\":{\"warnings\":[\"missing_charset\"]}}'</span>,\n",
       "<span style=\"color: #7fbf7f; text-decoration-color: #7fbf7f\">│   </span><span style=\"color: #008000; text-decoration-color: #008000\">'annotations'</span>: <span style=\"color: #800080; text-decoration-color: #800080; font-style: italic\">None</span>\n",
       "<span style=\"font-weight: bold\">}</span>\n",
       "</pre>\n"
      ],
      "text/plain": [
       "\u001b[1m{\u001b[0m\n",
       "\u001b[2;32m│   \u001b[0m\u001b[32m'type'\u001b[0m: \u001b[32m'text'\u001b[0m,\n",
       "\u001b[2;32m│   \u001b[0m\u001b[32m'text'\u001b[0m: \u001b[32m'\u001b[0m\u001b[32m{\u001b[0m\u001b[32m\"ok\":true,\"channel\":\"C08MUDSNHED\",\"ts\":\"1747246993.768149\",\"message\":\u001b[0m\u001b[32m{\u001b[0m\u001b[32m\"user\":\"U08MM2P7BEF\",\"type\":\"message\",\"ts\":\"1747246993.768149\",\"bot_id\":\"B08MM2P60KV\",\"app_id\":\"A08MLQCUGUS\",\"text\":\"To resolve the \\'Container failed due to an unexpected issue during startup\\' error, check the pod\\'s status and error state using `oc get pods &lt;pod_name&gt; -o yaml`. If there\\'s an image, container, or network issue, focus diagnostic data collection accordingly. Review pod event messages and container logs with `oc logs &lt;pod_name&gt; -c &lt;container_name&gt;`. Diagnose issues dynamically via command line or debug pods. If API is down, review etcd pod and container logs on each control plane node via SSH.\",\"team\":\"T08M9UTL2DC\",\"bot_profile\":\u001b[0m\u001b[32m{\u001b[0m\u001b[32m\"id\":\"B08MM2P60KV\",\"app_id\":\"A08MLQCUGUS\",\"user_id\":\"U08MM2P7BEF\",\"name\":\"et-slack-bot\",\"icons\":\u001b[0m\u001b[32m{\u001b[0m\u001b[32m\"image_36\":\"https://a.slack-edge.com/80588/img/plugins/app/bot_36.png\",\"image_48\":\"https://a.slack-edge.com/80588/img/plugins/app/bot_48.png\",\"image_72\":\"https://a.slack-edge.com/80588/img/plugins/app/service_72.png\"\u001b[0m\u001b[32m}\u001b[0m\u001b[32m,\"deleted\":false,\"updated\":1744227670,\"team_id\":\"T08M9UTL2DC\"\u001b[0m\u001b[32m}\u001b[0m\u001b[32m,\"blocks\":\u001b[0m\u001b[32m[\u001b[0m\u001b[32m{\u001b[0m\u001b[32m\"type\":\"rich_text\",\"block_id\":\"bt6+J\",\"elements\":\u001b[0m\u001b[32m[\u001b[0m\u001b[32m{\u001b[0m\u001b[32m\"type\":\"rich_text_section\",\"elements\":\u001b[0m\u001b[32m[\u001b[0m\u001b[32m{\u001b[0m\u001b[32m\"type\":\"text\",\"text\":\"To resolve the \\'Container failed due to an unexpected issue during startup\\' error, check the pod\\'s status and error state using \"\u001b[0m\u001b[32m}\u001b[0m\u001b[32m,\u001b[0m\u001b[32m{\u001b[0m\u001b[32m\"type\":\"text\",\"text\":\"oc get pods \u001b[0m\u001b[32m<\u001b[0m\u001b[32mpod_name\u001b[0m\u001b[32m> -o yaml\",\"style\":\u001b[0m\u001b[32m{\u001b[0m\u001b[32m\"code\":true\u001b[0m\u001b[32m}\u001b[0m\u001b[32m}\u001b[0m\u001b[32m,\u001b[0m\u001b[32m{\u001b[0m\u001b[32m\"type\":\"text\",\"text\":\". If there\\'s an image, container, or network issue, focus diagnostic data collection accordingly. Review pod event messages and container logs with \"\u001b[0m\u001b[32m}\u001b[0m\u001b[32m,\u001b[0m\u001b[32m{\u001b[0m\u001b[32m\"type\":\"text\",\"text\":\"oc logs <pod_name> -c <container_name\u001b[0m\u001b[32m>\u001b[0m\u001b[32m\",\"style\":\u001b[0m\u001b[32m{\u001b[0m\u001b[32m\"code\":true\u001b[0m\u001b[32m}\u001b[0m\u001b[32m}\u001b[0m\u001b[32m,\u001b[0m\u001b[32m{\u001b[0m\u001b[32m\"type\":\"text\",\"text\":\". Diagnose issues dynamically via command line or debug pods. If API is down, review etcd pod and container logs on each control plane node via SSH.\"\u001b[0m\u001b[32m}\u001b[0m\u001b[32m]\u001b[0m\u001b[32m}\u001b[0m\u001b[32m]\u001b[0m\u001b[32m}\u001b[0m\u001b[32m]\u001b[0m\u001b[32m}\u001b[0m\u001b[32m,\"warning\":\"missing_charset\",\"response_metadata\":\u001b[0m\u001b[32m{\u001b[0m\u001b[32m\"warnings\":\u001b[0m\u001b[32m[\u001b[0m\u001b[32m\"missing_charset\"\u001b[0m\u001b[32m]\u001b[0m\u001b[32m}\u001b[0m\u001b[32m}\u001b[0m\u001b[32m'\u001b[0m,\n",
       "\u001b[2;32m│   \u001b[0m\u001b[32m'annotations'\u001b[0m: \u001b[3;35mNone\u001b[0m\n",
       "\u001b[1m}\u001b[0m\n"
      ]
     },
     "metadata": {},
     "output_type": "display_data"
    },
    {
     "name": "stdout",
     "output_type": "stream",
     "text": [
      "\n",
      "---------- 📍 Step 3: InferenceStep ----------\n",
      "🤖 Model Response:\n",
      "\u001b[35mThe message has been successfully posted to the `demos` channel on Slack:\n",
      "\n",
      "\"To resolve the 'Container failed due to an unexpected issue during startup' error, check the pod's status and error state using `oc get pods <pod_name> -o yaml`. If there's an image, container, or network issue, focus diagnostic data collection accordingly. Review pod event messages and container logs with `oc logs <pod_name> -c <container_name>`. Diagnose issues dynamically via command line or debug pods. If API is down, review etcd pod and container logs on each control plane node via SSH.\"\n",
      "\u001b[0m\n",
      "========== Query processing completed ========== \n",
      "\n"
     ]
    }
   ],
   "source": [
    "# Create simple agent with tools\n",
    "agent = Agent(\n",
    "    client,\n",
    "    model=model_id, # replace this with your choice of model\n",
    "    instructions = model_prompt , # update system prompt based on the model you are using\n",
    "    tools=[dict(\n",
    "            name=\"builtin::rag\",\n",
    "            args={\n",
    "                \"vector_db_ids\": [vector_db_id],  # list of IDs of document collections to consider during retrieval\n",
    "            },\n",
    "        ),\"mcp::openshift\", \"mcp::slack\"],\n",
    "    tool_config={\"tool_choice\":\"auto\"},\n",
    "    sampling_params=sampling_params\n",
    ")\n",
    "\n",
    "user_prompts = [\"View the logs for pod slack-test in the llama-serve OpenShift namespace. Categorize it as normal or error.\",\n",
    "                \"Search for solutions on this error and provide a summary of the steps to take in just 1-2 sentences.\",\n",
    "                \"Send a message with the summarization to the demos channel on Slack with a tool call\"]\n",
    "session_id = agent.create_session(session_name=\"OCP_Slack_demo\")\n",
    "for i, prompt in enumerate(user_prompts):\n",
    "    response = agent.create_turn(\n",
    "        messages=[\n",
    "            {\n",
    "                \"role\":\"user\",\n",
    "                \"content\": prompt\n",
    "            }\n",
    "        ],\n",
    "        session_id=session_id,\n",
    "        stream=stream,\n",
    "    )\n",
    "    if stream:\n",
    "        for log in EventLogger().log(response):\n",
    "            log.print()\n",
    "    else:\n",
    "        step_printer(response.steps) # print the steps of an agent's response in a formatted way. "
   ]
  },
  {
   "cell_type": "markdown",
   "id": "9a105531",
   "metadata": {},
   "source": [
    "### Output Analysis\n",
    "\n",
    "Lets step through the output to further understands whats happening in this Agentic demo.\n",
    "\n",
    "1. First the LLM sends off a tool call to the `pods_log` tool configured with the OpenShift MCP server, to fetch the logs for the pod specified from the OpenShift cluster.\n",
    "2. The tool successfully retrieves the logs for the pod.\n",
    "3. The LLM recieves the response from the tool call, which are the pod logs, along with the original query and using its own knowledge tries to categorize it as 'Normal or 'Error'.\n",
    "4. Next, the LLM sends a tool call to the RAG tool, to query the vector DB on the documents for the error from the pod logs and look for a solution to resolve the error from the document.\n",
    "5. The LLM recieves the response from the tool call, and summarizes the information it retreived from the document.\n",
    "6. Finally, the LLM sends the summarization as a message on Slack using the `slack_post_message` tool call configured with the Slack MCP server."
   ]
  },
  {
   "cell_type": "markdown",
   "id": "39f6c84d",
   "metadata": {},
   "source": [
    "## Defining our Agent - ReAct\n",
    "\n",
    "Now that we've shown that we can successfully accomplish this multi-step multi-tool task using prompt chaining, let's see if we can give our agent a bit more autonomy to perform the same task but with a single prompt instead of a chian. To do this, we will instantiate a ReAct agent (which is included in the llama stack python client by default). The ReAct agent is a variant of the simple agent but with the ability to loop through \"Reason then Act\" iterations, thinking through the problem and then using tools until it determines that it's task has been completed successfully.\n",
    "\n",
    "Unlike prompt chaining which follows fixed steps, ReAct dynamically breaks down tasks and adapts its approach based on the results of each step. This makes it more flexible and capable of handling complex, real-world queries effectively.\n",
    "\n",
    "Below you will see the slight differences in the agent definition and the prompt used to accomplish our task."
   ]
  },
  {
   "cell_type": "code",
   "execution_count": 7,
   "id": "a606a5e5",
   "metadata": {},
   "outputs": [
    {
     "name": "stdout",
     "output_type": "stream",
     "text": [
      "\n",
      "==================================================\n",
      "\u001b[34mProcessing user query: View the logs for pod slack-test in the llama-serve OpenShift namespace. Categorize it as normal or error, \n",
      "                search for solutions on this error and provide a summary of the steps to take in just 1-2 sentences.\n",
      "                Send a message with the summarization to the demos channel on Slack. Let me know when you've sent the message.\n",
      "                \u001b[0m\n",
      "==================================================\n",
      "\n",
      "---------- 📍 Step 1: InferenceStep ----------\n",
      "🤖 Model Response:\n",
      "\u001b[35m{\n",
      "    \"thought\": \"First, I will use the 'pods_log' tool to get the logs for the specified pod. Then, I will categorize the logs as normal or error. After that, I will use the 'knowledge_search' tool to find solutions for the error. Finally, I will summarize the steps to take and send a message to the demos channel using the 'slack_post_message' tool.\",\n",
      "    \"action\": {\n",
      "        \"tool_name\": \"pods_log\",\n",
      "        \"tool_params\": [{\"name\": \"name\", \"value\": \"slack-test\"}, {\"name\": \"namespace\", \"value\": \"llama-serve\"}]\n",
      "    },\n",
      "    \"answer\": null\n",
      "}\n",
      "\u001b[0m\n",
      "\n",
      "---------- 📍 Step 2: ToolExecutionStep ----------\n",
      "🔧 Executing tool...\n"
     ]
    },
    {
     "data": {
      "text/html": [
       "<pre style=\"white-space:pre;overflow-x:auto;line-height:normal;font-family:Menlo,'DejaVu Sans Mono',consolas,'Courier New',monospace\"><span style=\"font-weight: bold\">{</span>\n",
       "<span style=\"color: #7fbf7f; text-decoration-color: #7fbf7f\">│   </span><span style=\"color: #008000; text-decoration-color: #008000\">'type'</span>: <span style=\"color: #008000; text-decoration-color: #008000\">'text'</span>,\n",
       "<span style=\"color: #7fbf7f; text-decoration-color: #7fbf7f\">│   </span><span style=\"color: #008000; text-decoration-color: #008000\">'text'</span>: <span style=\"color: #008000; text-decoration-color: #008000\">'Starting container...\\nFailure: Unknown Error\\nError details: Container failed due to an unexpected issue during startup.\\nPotential cause: Missing dependencies, configuration errors, or permission issues.\\n'</span>,\n",
       "<span style=\"color: #7fbf7f; text-decoration-color: #7fbf7f\">│   </span><span style=\"color: #008000; text-decoration-color: #008000\">'annotations'</span>: <span style=\"color: #800080; text-decoration-color: #800080; font-style: italic\">None</span>\n",
       "<span style=\"font-weight: bold\">}</span>\n",
       "</pre>\n"
      ],
      "text/plain": [
       "\u001b[1m{\u001b[0m\n",
       "\u001b[2;32m│   \u001b[0m\u001b[32m'type'\u001b[0m: \u001b[32m'text'\u001b[0m,\n",
       "\u001b[2;32m│   \u001b[0m\u001b[32m'text'\u001b[0m: \u001b[32m'Starting container...\\nFailure: Unknown Error\\nError details: Container failed due to an unexpected issue during startup.\\nPotential cause: Missing dependencies, configuration errors, or permission issues.\\n'\u001b[0m,\n",
       "\u001b[2;32m│   \u001b[0m\u001b[32m'annotations'\u001b[0m: \u001b[3;35mNone\u001b[0m\n",
       "\u001b[1m}\u001b[0m\n"
      ]
     },
     "metadata": {},
     "output_type": "display_data"
    },
    {
     "name": "stdout",
     "output_type": "stream",
     "text": [
      "\n",
      "---------- 📍 Step 3: InferenceStep ----------\n",
      "🤖 Model Response:\n",
      "\u001b[35m{\n",
      "    \"thought\": \"The logs indicate an error with the pod. I will categorize it as an error. Next, I will use the 'knowledge_search' tool to find solutions for this error. After that, I will summarize the steps to take and send a message to the demos channel using the 'slack_post_message' tool.\",\n",
      "    \"action\": {\n",
      "        \"tool_name\": \"knowledge_search\",\n",
      "        \"tool_params\": [{\"name\": \"query\", \"value\": \"Container failed due to an unexpected issue during startup\"}]\n",
      "    },\n",
      "    \"answer\": null\n",
      "}\n",
      "\u001b[0m\n",
      "\n",
      "---------- 📍 Step 4: ToolExecutionStep ----------\n",
      "🔧 Executing tool...\n"
     ]
    },
    {
     "data": {
      "text/html": [
       "<pre style=\"white-space:pre;overflow-x:auto;line-height:normal;font-family:Menlo,'DejaVu Sans Mono',consolas,'Courier New',monospace\"><span style=\"font-weight: bold\">[</span>\n",
       "<span style=\"color: #7fbf7f; text-decoration-color: #7fbf7f\">│   </span><span style=\"color: #800080; text-decoration-color: #800080; font-weight: bold\">TextContentItem</span><span style=\"font-weight: bold\">(</span>\n",
       "<span style=\"color: #7fbf7f; text-decoration-color: #7fbf7f\">│   │   </span><span style=\"color: #808000; text-decoration-color: #808000\">text</span>=<span style=\"color: #008000; text-decoration-color: #008000\">'knowledge_search tool found 5 chunks:\\nBEGIN of knowledge_search tool results.\\n'</span>,\n",
       "<span style=\"color: #7fbf7f; text-decoration-color: #7fbf7f\">│   │   </span><span style=\"color: #808000; text-decoration-color: #808000\">type</span>=<span style=\"color: #008000; text-decoration-color: #008000\">'text'</span>\n",
       "<span style=\"color: #7fbf7f; text-decoration-color: #7fbf7f\">│   </span><span style=\"font-weight: bold\">)</span>,\n",
       "<span style=\"color: #7fbf7f; text-decoration-color: #7fbf7f\">│   </span><span style=\"color: #800080; text-decoration-color: #800080; font-weight: bold\">TextContentItem</span><span style=\"font-weight: bold\">(</span>\n",
       "<span style=\"color: #7fbf7f; text-decoration-color: #7fbf7f\">│   │   </span><span style=\"color: #808000; text-decoration-color: #808000\">text</span>=<span style=\"color: #008000; text-decoration-color: #008000\">'Result 1:\\nDocument_id:num-0\\nContent: RunInitContainer&lt;/code&gt;\\n\\t\\t\\t\\t\\t\\t\\t\\t&lt;/p&gt;\\n\\t\\t\\t\\t\\t\\t\\t\\t &lt;/td&gt;&lt;td align=\"left\" valign=\"top\" headers=\"idm140345532083552\"&gt; &lt;p&gt;\\n\\t\\t\\t\\t\\t\\t\\t\\t\\tContainer initialization failed.\\n\\t\\t\\t\\t\\t\\t\\t\\t&lt;/p&gt;\\n\\t\\t\\t\\t\\t\\t\\t\\t &lt;/td&gt;&lt;/tr&gt;&lt;tr&gt;&lt;td align=\"left\" valign=\"top\" headers=\"idm140345532084640\"&gt; &lt;p&gt;\\n\\t\\t\\t\\t\\t\\t\\t\\t\\t&lt;code class=\"literal\"&gt;ErrRunContainer&lt;/code&gt;\\n\\t\\t\\t\\t\\t\\t\\t\\t&lt;/p&gt;\\n\\t\\t\\t\\t\\t\\t\\t\\t &lt;/td&gt;&lt;td align=\"left\" valign=\"top\" headers=\"idm140345532083552\"&gt; &lt;p&gt;\\n\\t\\t\\t\\t\\t\\t\\t\\t\\tNone of the pod’s containers started successfully.\\n\\t\\t\\t\\t\\t\\t\\t\\t&lt;/p&gt;\\n\\t\\t\\t\\t\\t\\t\\t\\t &lt;/td&gt;&lt;/tr&gt;&lt;tr&gt;&lt;td align=\"left\" valign=\"top\" headers=\"idm140345532084640\"&gt; &lt;p&gt;\\n\\t\\t\\t\\t\\t\\t\\t\\t\\t&lt;code class=\"literal\"&gt;ErrKillContainer&lt;/code&gt;\\n\\t\\t\\t\\t\\t\\t\\t\\t&lt;/p&gt;\\n\\t\\t\\t\\t\\t\\t\\t\\t &lt;/td&gt;&lt;td align=\"left\" valign=\"top\" headers=\"idm140345532083552\"&gt; &lt;p&gt;\\n\\t\\t\\t\\t\\t\\t\\t\\t\\tNone of the pod’s containers were killed successfully.\\n\\t\\t\\t\\t\\t\\t\\t\\t&lt;/p&gt;\\n\\t\\t\\t\\t\\t\\t\\t\\t &lt;/td&gt;&lt;/tr&gt;&lt;tr&gt;&lt;td align=\"left\" valign=\"top\" headers=\"idm140345532084640\"&gt; &lt;p&gt;\\n\\t\\t\\t\\t\\t\\t\\t\\t\\t&lt;code class=\"literal\"&gt;ErrCrashLoopBackOff&lt;/code&gt;\\n\\t\\t\\t\\t\\t\\t\\t\\t&lt;/p&gt;\\n\\t\\t\\t\\t\\t\\t\\t\\t &lt;/td&gt;&lt;td align=\"left\" valign=\"top\" headers=\"idm140345532083552\"&gt; &lt;p&gt;\\n\\t\\t\\t\\t\\t\\t\\t\\t\\tA container has terminated. The kubelet will not attempt to restart it.\\n\\t\\t\\t\\t\\t\\t\\t\\t&lt;/p&gt;\\n\\t\\t\\t\\t\\t\\t\\t\\t &lt;/td&gt;&lt;/tr&gt;&lt;tr&gt;&lt;td align=\"left\" valign=\"top\" headers=\"idm140345532084640\"&gt; &lt;p&gt;\\n\\t\\t\\t\\t\\t\\t\\t\\t\\t&lt;code class=\"literal\"&gt;ErrVerifyNonRoot&lt;/code&gt;\\n\\t\\t\\t\\t\\t\\t\\t\\t&lt;/p&gt;\\n\\t\\t\\t\\t\\t\\t\\t\\t &lt;/td&gt;&lt;td align=\"left\" valign=\"top\" headers=\"idm140345532083552\"&gt; &lt;p&gt;\\n\\t\\t\\t\\t\\t\\t\\t\\t\\tA container or image attempted to run with root privileges.\\n\\t\\t\\t\\t\\t\\t\\t\\t&lt;/p&gt;\\n\\t\\t\\t\\t\\t\\t\\t\\t &lt;/td&gt;&lt;/tr&gt;&lt;tr&gt;&lt;td align=\"left\" valign=\"top\" headers=\"idm140345532084640\"&gt; &lt;p&gt;\\n\\t\\t\\t\\t\\t\\t\\t\\t\\t&lt;code class=\"literal\"&gt;ErrCreatePodSandbox&lt;/code&gt;\\n\\t\\t\\t\\t\\t\\t\\t\\t&lt;/p&gt;\\n\\t\\t\\t\\t\\t\\t\\t\\t &lt;/td&gt;&lt;td align=\"left\" valign=\"top\" headers=\"idm140345532083552\"&gt; &lt;p&gt;\\n\\t\\t\\t\\t\\t\\t\\t\\t\\tPod sandbox creation did not succeed.\\n\\t\\t\\t\\t\\t\\t\\t\\t&lt;/p&gt;\\n\\n'</span><span style=\"color: #000000; text-decoration-color: #000000\">,</span>\n",
       "<span style=\"color: #7fbf7f; text-decoration-color: #7fbf7f\">│   │   </span><span style=\"color: #808000; text-decoration-color: #808000\">type</span><span style=\"color: #000000; text-decoration-color: #000000\">=</span><span style=\"color: #008000; text-decoration-color: #008000\">'text'</span>\n",
       "<span style=\"color: #7fbf7f; text-decoration-color: #7fbf7f\">│   </span><span style=\"color: #000000; text-decoration-color: #000000; font-weight: bold\">)</span><span style=\"color: #000000; text-decoration-color: #000000\">,</span>\n",
       "<span style=\"color: #7fbf7f; text-decoration-color: #7fbf7f\">│   </span><span style=\"color: #800080; text-decoration-color: #800080; font-weight: bold\">TextContentItem</span><span style=\"color: #000000; text-decoration-color: #000000; font-weight: bold\">(</span>\n",
       "<span style=\"color: #7fbf7f; text-decoration-color: #7fbf7f\">│   │   </span><span style=\"color: #808000; text-decoration-color: #808000\">text</span><span style=\"color: #000000; text-decoration-color: #000000\">=</span><span style=\"color: #008000; text-decoration-color: #008000\">'Result 2:\\nDocument_id:num-0\\nContent: lt;namespace&amp;gt;\\\\u003C/pre&gt;\\\\u003C/li&gt;\\\\u003Cli class=\\\\\"listitem\\\\\"&gt;\\\\u003Cp class=\\\\\"simpara\\\\\"&gt;\\\\n\\\\t\\\\t\\\\t\\\\t\\\\t\\\\t\\\\t\\\\t\\\\tIf the pod has more than one container, the preceding command will create an error, and the container names will be provided in the error message. Inspect logs for each container:\\\\n\\\\t\\\\t\\\\t\\\\t\\\\t\\\\t\\\\t\\\\t\\\\u003C/p&gt;\\\\u003Cpre class=\\\\\"programlisting language-terminal\\\\\"&gt;$ oc logs pod/&amp;lt;pod_name&amp;gt; -c &amp;lt;container_name&amp;gt; -n &amp;lt;namespace&amp;gt;\\\\u003C/pre&gt;\\\\u003C/li&gt;\\\\u003C/ol&gt;\\\\u003C/div&gt;\\\\u003C/li&gt;\\\\u003Cli class=\\\\\"listitem\\\\\"&gt;\\\\u003Cp class=\\\\\"simpara\\\\\"&gt;\\\\n\\\\t\\\\t\\\\t\\\\t\\\\t\\\\t\\\\tIf the API is not functional, review etcd pod and container logs on each control plane node by using SSH instead. Replace \\\\u003Ccode class=\\\\\"literal\\\\\"&gt;&amp;lt;master-node&amp;gt;.&amp;lt;cluster_name&amp;gt;.&amp;lt;base_domain&amp;gt;\\\\u003C/code&gt; with appropriate values.\\\\n\\\\t\\\\t\\\\t\\\\t\\\\t\\\\t\\\\u003C/p&gt;\\\\u003Cdiv class=\\\\\"orderedlist\\\\\"&gt;\\\\u003Col class=\\\\\"orderedlist\\\\\" type=\\\\\"a\\\\\"&gt;\\\\u003Cli class=\\\\\"listitem\\\\\"&gt;\\\\u003Cp class=\\\\\"simpara\\\\\"&gt;\\\\n\\\\t\\\\t\\\\t\\\\t\\\\t\\\\t\\\\t\\\\t\\\\tList etcd pods on each control plane node:\\\\n\\\\t\\\\t\\\\t\\\\t\\\\t\\\\t\\\\t\\\\t\\\\u003C/p&gt;\\\\u003Cpre class=\\\\\"programlisting language-terminal\\\\\"&gt;$ ssh core@&amp;lt;master-node&amp;gt;.&amp;lt;cluster_name&amp;gt;.&amp;lt;base_domain&amp;gt; sudo crictl pods --name=etcd-\\\\u003C/pre&gt;\\\\u003C/li&gt;\\\\u003Cli class=\\\\\"listitem\\\\\"&gt;\\\\u003Cp class=\\\\\"simpara\\\\\"&gt;\\\\n\\\\t\\\\t\\\\t\\\\t\\\\t\\\\t\\\\t\\\\t\\\\tFor any pods not showing \\\\u003Ccode class=\\\\\"literal\\\\\"&gt;Ready\\\\u003C/code&gt; status, inspect pod status in detail. Replace \\\\u003Ccode class=\\\\\"literal\\\\\"&gt;&amp;lt;pod_id&amp;gt;\\\\u003C/code&gt; with the pod’s ID listed in the output of the preceding command:\\\\n\\\\t\\\\t\\\\t\\\\t\\\\t\\\\t\\\\t\\\\t\\\\u003C/p&gt;\\\\u003Cpre class=\\\\\"programlisting language-terminal\\\\\"&gt;$ ssh core@&amp;lt;master-node&amp;gt;\\n'</span><span style=\"color: #000000; text-decoration-color: #000000\">,</span>\n",
       "<span style=\"color: #7fbf7f; text-decoration-color: #7fbf7f\">│   │   </span><span style=\"color: #808000; text-decoration-color: #808000\">type</span><span style=\"color: #000000; text-decoration-color: #000000\">=</span><span style=\"color: #008000; text-decoration-color: #008000\">'text'</span>\n",
       "<span style=\"color: #7fbf7f; text-decoration-color: #7fbf7f\">│   </span><span style=\"color: #000000; text-decoration-color: #000000; font-weight: bold\">)</span><span style=\"color: #000000; text-decoration-color: #000000\">,</span>\n",
       "<span style=\"color: #7fbf7f; text-decoration-color: #7fbf7f\">│   </span><span style=\"color: #800080; text-decoration-color: #800080; font-weight: bold\">TextContentItem</span><span style=\"color: #000000; text-decoration-color: #000000; font-weight: bold\">(</span>\n",
       "<span style=\"color: #7fbf7f; text-decoration-color: #7fbf7f\">│   │   </span><span style=\"color: #808000; text-decoration-color: #808000\">text</span><span style=\"color: #000000; text-decoration-color: #000000\">=</span><span style=\"color: #008000; text-decoration-color: #008000\">'Result 3:\\nDocument_id:num-0\\nContent: virtualization/live-migration\":14663,\"virtualization/node-maintenance\":14664,\"virtualization/logging-events-and-monitoring\":14665,\"virtualization/backup-and-restore\":14666,\"service_mesh/index\":14667,\"service_mesh/service-mesh-2-x\":14668,\"service_mesh/service-mesh-1-x\":14669,\"windows_container_support_for_openshift/index\":14670,\"windows_container_support_for_openshift/windows-container-overview\":14671,\"windows_container_support_for_openshift/windows-containers-release-notes-6-x\":14672,\"windows_container_support_for_openshift/understanding-windows-container-workloads\":14673,\"windows_container_support_for_openshift/enabling-windows-container-workloads\":14674,\"windows_container_support_for_openshift/creating-windows-machine-sets\":14675,\"windows_container_support_for_openshift/scheduling-windows-workloads\":14676,\"windows_container_support_for_openshift/windows-node-upgrades\":14677,\"windows_container_support_for_openshift/byoh-windows-instance\":14678,\"windows_container_support_for_openshift/removing-windows-nodes\":14679,\"windows_container_support_for_openshift/disabling-windows-container-workloads\":14680,\"support/legal-notice\":14681},{\"prevt\":17,\"next\":16},{\"prevt\":17,\"next\":37},{\"prevt\":25,\"next\":17},{\"prevt\":16,\"next\":16},{\"prevt\":17,\"next\":60},{\"prevt\":52,\"next\":73},{\"prevt\":60,\"next\":90},{\"prevt\":73,\"next\":17},{\"prevt\":16,\"next\":16},{\"prevt\":17,\"next\":17},{\"prevt\":16,\"next\":16},{\"prevt\":17,\"next\":429},{\"prevt\":433,\"next\":459},{\"prevt\":429,\"next\":472},{\"prevt\":459,\"next\":489},{\"prevt\":472,\"next\":507},{\"prevt\":489,\"next\":525},{\"prevt\":507,\"next\":540},{\"prevt\":525,\"next\":17},{\"prevt\":16,\"next\":16},{\"prevt\":17,\"next\":567},{\"prevt\":559,\"next\":655},{\"prevt\":567,\"next\":678},{\"prevt\":655,\"next\":752},{\"prevt\":678,\"next\":914},{\"prevt\":752,\"next\":980},{\"prevt\":914,\"next\":1002},{\"prevt\":980,\"next\":1013},{\"pre\\n'</span><span style=\"color: #000000; text-decoration-color: #000000\">,</span>\n",
       "<span style=\"color: #7fbf7f; text-decoration-color: #7fbf7f\">│   │   </span><span style=\"color: #808000; text-decoration-color: #808000\">type</span><span style=\"color: #000000; text-decoration-color: #000000\">=</span><span style=\"color: #008000; text-decoration-color: #008000\">'text'</span>\n",
       "<span style=\"color: #7fbf7f; text-decoration-color: #7fbf7f\">│   </span><span style=\"color: #000000; text-decoration-color: #000000; font-weight: bold\">)</span><span style=\"color: #000000; text-decoration-color: #000000\">,</span>\n",
       "<span style=\"color: #7fbf7f; text-decoration-color: #7fbf7f\">│   </span><span style=\"color: #800080; text-decoration-color: #800080; font-weight: bold\">TextContentItem</span><span style=\"color: #000000; text-decoration-color: #000000; font-weight: bold\">(</span>\n",
       "<span style=\"color: #7fbf7f; text-decoration-color: #7fbf7f\">│   │   </span><span style=\"color: #808000; text-decoration-color: #808000\">text</span><span style=\"color: #000000; text-decoration-color: #000000\">=</span><span style=\"color: #008000; text-decoration-color: #008000\">'Result 4:\\nDocument_id:num-0\\nContent: -web_upgrading-sandboxed-containers\",\"sandboxed-containers-upgrading-monitor-pods-cli_upgrading-sandboxed-containers\",\"/documentation/openshift_container_platform/4.11/html/sandboxed_containers_support_for_openshift/upgrading-sandboxed-containers\",{\"title\":10170,\"visible\":12,\"weight\":524,\"urlFragment\":10171,\"anchor\":17,\"singlePageAnchor\":10171,\"subChapters\":10172,\"url\":10179,\"docTitle\":10088},\"Collecting OpenShift sandboxed containers data\",\"troubleshooting-sandboxed-containers\",[10173,10174,10175,10176,10177,10178],\"sandboxed-containers-collect_data_rh_support_troubleshooting-sandboxed-containers\",\"about-must-gather_troubleshooting-sandboxed-containers\",\"sandboxed-containers-collecting-data_troubleshooting-sandboxed-containers\",\"sandboxed-containers-enable-debug-logs_troubleshooting-sandboxed-containers\",\"sandboxed-containers-view-debug-logs_troubleshooting-sandboxed-containers\",\"troubleshooting-sandboxed-containers_additional-resources\",\"/documentation/openshift_container_platform/4.11/html/sandboxed_containers_support_for_openshift/troubleshooting-sandboxed-containers\",{\"title\":10181,\"visible\":12,\"weight\":15,\"urlFragment\":16,\"anchor\":17,\"singlePageAnchor\":17,\"subChapters\":10182,\"url\":10183,\"docTitle\":10184,\"sections\":10185},\"Operators\",[],\"/documentation/openshift_container_platform/4.11/html/operators/index\",\"operators\",[10186,10194,10333,10346,10411,10660],{\"title\":10187,\"visible\":12,\"weight\":24,\"urlFragment\":10188,\"anchor\":17,\"singlePageAnchor\":10188,\"subChapters\":10189,\"url\":10193,\"docTitle\":10184},\"Operators overview\",\"operators-overview\",[10190,10191,10192],\"operators-overview-developer-tasks\",\"operators-overview-administrator-tasks\",\"operators-overview-next-steps\",\"/documentation/openshift_container_platform/4.11/html/operators/operators-overview\",{\"title\":10195,\"visible\":12,\"weight\":36,\"urlFragment\":10196,\"anchor\":17,\"singlePageAnchor\":10196,\"subChapters\":10197,\"url\":10332,\"docTitle\":10184},\"\\n'</span><span style=\"color: #000000; text-decoration-color: #000000\">,</span>\n",
       "<span style=\"color: #7fbf7f; text-decoration-color: #7fbf7f\">│   │   </span><span style=\"color: #808000; text-decoration-color: #808000\">type</span><span style=\"color: #000000; text-decoration-color: #000000\">=</span><span style=\"color: #008000; text-decoration-color: #008000\">'text'</span>\n",
       "<span style=\"color: #7fbf7f; text-decoration-color: #7fbf7f\">│   </span><span style=\"color: #000000; text-decoration-color: #000000; font-weight: bold\">)</span><span style=\"color: #000000; text-decoration-color: #000000\">,</span>\n",
       "<span style=\"color: #7fbf7f; text-decoration-color: #7fbf7f\">│   </span><span style=\"color: #800080; text-decoration-color: #800080; font-weight: bold\">TextContentItem</span><span style=\"color: #000000; text-decoration-color: #000000; font-weight: bold\">(</span>\n",
       "<span style=\"color: #7fbf7f; text-decoration-color: #7fbf7f\">│   │   </span><span style=\"color: #808000; text-decoration-color: #808000\">text</span><span style=\"color: #000000; text-decoration-color: #000000\">=</span><span style=\"color: #008000; text-decoration-color: #008000\">'Result 5:\\nDocument_id:num-0\\nContent: , Pods are either removed after exiting or retained so that their logs can be accessed.\\\\n\\\\t\\\\t\\\\t\\\\u003C/p&gt;\\\\u003Cp&gt;\\\\n\\\\t\\\\t\\\\t\\\\tThe first thing to check when pod issues arise is the pod’s status. If an explicit pod failure has occurred, observe the pod’s error state to identify specific image, container, or pod network issues. Focus diagnostic data collection according to the error state. Review pod event messages, as well as pod and container log information. Diagnose issues dynamically by accessing running Pods on the command line, or start a debug pod with root access based on a problematic pod’s deployment configuration.\\\\n\\\\t\\\\t\\\\t\\\\u003C/p&gt;\\\\u003Csection class=\\\\\"section\\\\\" id=\\\\\"understanding-pod-error-states_investigating-pod-issues\\\\\"&gt;\\\\u003Cdiv class=\\\\\"titlepage\\\\\"&gt;\\\\u003Cdiv&gt;\\\\u003Cdiv&gt;\\\\u003Ch3 class=\\\\\"title\\\\\"&gt;7.7.1.\\xa0Understanding pod error states\\\\u003C/h3&gt;\\\\u003C/div&gt;\\\\u003C/div&gt;\\\\u003C/div&gt;\\\\u003Cp&gt;\\\\n\\\\t\\\\t\\\\t\\\\t\\\\tPod failures return explicit error states that can be observed in the \\\\u003Ccode class=\\\\\"literal\\\\\"&gt;status\\\\u003C/code&gt; field in the output of \\\\u003Ccode class=\\\\\"literal\\\\\"&gt;oc get pods\\\\u003C/code&gt;. Pod error states cover image, container, and container network related failures.\\\\n\\\\t\\\\t\\\\t\\\\t\\\\u003C/p&gt;\\\\u003Cp&gt;\\\\n\\\\t\\\\t\\\\t\\\\t\\\\tThe following table provides a list of pod error states along with their descriptions.\\\\n\\\\t\\\\t\\\\t\\\\t\\\\u003C/p&gt;\\\\u003Crh-table id=\\\\\"idm140345532089472\\\\\"&gt;\\\\u003Ctable class=\\\\\"lt-4-cols lt-7-rows\\\\\"&gt;\\\\u003Ccaption&gt;Table\\xa07.3.\\xa0Pod error states\\\\u003C/caption&gt;\\\\u003Ccolgroup&gt;\\\\u003Ccol style=\\\\\"width: 20%; \\\\\" class=\\\\\"col_1\\\\\"&gt;\\\\u003C!--Empty--&gt;\\\\u003C/col&gt;\\\\u003Ccol style=\\\\\"width: 80%; \\\\\" class=\\\\\"col_2\\\\\"&gt;\\\\u003C!--Empty--&gt;\\\\u003C/col&gt;\\\\u003C/colgroup&gt;\\\\u003Cthead&gt;\\\\u003Ctr&gt;\\\\u003Cth align=\\\\\"left\\\\\" valign=\\\\\"top\\\\\" id=\\\\\"idm140345532084640\\\\\" scope=\\\\\"col\\\\\"&gt;Pod error state\\\\u003\\n'</span>,\n",
       "<span style=\"color: #7fbf7f; text-decoration-color: #7fbf7f\">│   │   </span><span style=\"color: #808000; text-decoration-color: #808000\">type</span>=<span style=\"color: #008000; text-decoration-color: #008000\">'text'</span>\n",
       "<span style=\"color: #7fbf7f; text-decoration-color: #7fbf7f\">│   </span><span style=\"font-weight: bold\">)</span>,\n",
       "<span style=\"color: #7fbf7f; text-decoration-color: #7fbf7f\">│   </span><span style=\"color: #800080; text-decoration-color: #800080; font-weight: bold\">TextContentItem</span><span style=\"font-weight: bold\">(</span><span style=\"color: #808000; text-decoration-color: #808000\">text</span>=<span style=\"color: #008000; text-decoration-color: #008000\">'END of knowledge_search tool results.\\n'</span>, <span style=\"color: #808000; text-decoration-color: #808000\">type</span>=<span style=\"color: #008000; text-decoration-color: #008000\">'text'</span><span style=\"font-weight: bold\">)</span>,\n",
       "<span style=\"color: #7fbf7f; text-decoration-color: #7fbf7f\">│   </span><span style=\"color: #800080; text-decoration-color: #800080; font-weight: bold\">TextContentItem</span><span style=\"font-weight: bold\">(</span>\n",
       "<span style=\"color: #7fbf7f; text-decoration-color: #7fbf7f\">│   │   </span><span style=\"color: #808000; text-decoration-color: #808000\">text</span>=<span style=\"color: #008000; text-decoration-color: #008000\">'The above results were retrieved to help answer the user\\'s query: \"Container failed due to an unexpected issue during startup\". Use them as supporting information only in answering this query.\\n'</span>,\n",
       "<span style=\"color: #7fbf7f; text-decoration-color: #7fbf7f\">│   │   </span><span style=\"color: #808000; text-decoration-color: #808000\">type</span>=<span style=\"color: #008000; text-decoration-color: #008000\">'text'</span>\n",
       "<span style=\"color: #7fbf7f; text-decoration-color: #7fbf7f\">│   </span><span style=\"font-weight: bold\">)</span>\n",
       "<span style=\"font-weight: bold\">]</span>\n",
       "</pre>\n"
      ],
      "text/plain": [
       "\u001b[1m[\u001b[0m\n",
       "\u001b[2;32m│   \u001b[0m\u001b[1;35mTextContentItem\u001b[0m\u001b[1m(\u001b[0m\n",
       "\u001b[2;32m│   │   \u001b[0m\u001b[33mtext\u001b[0m=\u001b[32m'knowledge_search tool found 5 chunks:\\nBEGIN of knowledge_search tool results.\\n'\u001b[0m,\n",
       "\u001b[2;32m│   │   \u001b[0m\u001b[33mtype\u001b[0m=\u001b[32m'text'\u001b[0m\n",
       "\u001b[2;32m│   \u001b[0m\u001b[1m)\u001b[0m,\n",
       "\u001b[2;32m│   \u001b[0m\u001b[1;35mTextContentItem\u001b[0m\u001b[1m(\u001b[0m\n",
       "\u001b[2;32m│   │   \u001b[0m\u001b[33mtext\u001b[0m=\u001b[32m'Result 1:\\nDocument_id:num-0\\nContent: RunInitContainer\u001b[0m\u001b[32m<\u001b[0m\u001b[32m/code>\\n\\t\\t\\t\\t\\t\\t\\t\\t</p>\\n\\t\\t\\t\\t\\t\\t\\t\\t </td><td \u001b[0m\u001b[32malign\u001b[0m\u001b[32m=\u001b[0m\u001b[32m\"left\"\u001b[0m\u001b[32m \u001b[0m\u001b[32mvalign\u001b[0m\u001b[32m=\u001b[0m\u001b[32m\"top\"\u001b[0m\u001b[32m \u001b[0m\u001b[32mheaders\u001b[0m\u001b[32m=\u001b[0m\u001b[32m\"idm140345532083552\"\u001b[0m\u001b[32m> <p>\\n\\t\\t\\t\\t\\t\\t\\t\\t\\tContainer initialization failed.\\n\\t\\t\\t\\t\\t\\t\\t\\t</p>\\n\\t\\t\\t\\t\\t\\t\\t\\t </td></tr><tr><td \u001b[0m\u001b[32malign\u001b[0m\u001b[32m=\u001b[0m\u001b[32m\"left\"\u001b[0m\u001b[32m \u001b[0m\u001b[32mvalign\u001b[0m\u001b[32m=\u001b[0m\u001b[32m\"top\"\u001b[0m\u001b[32m \u001b[0m\u001b[32mheaders\u001b[0m\u001b[32m=\u001b[0m\u001b[32m\"idm140345532084640\"\u001b[0m\u001b[32m> <p>\\n\\t\\t\\t\\t\\t\\t\\t\\t\\t<code \u001b[0m\u001b[32mclass\u001b[0m\u001b[32m=\u001b[0m\u001b[32m\"literal\"\u001b[0m\u001b[32m>ErrRunContainer</code>\\n\\t\\t\\t\\t\\t\\t\\t\\t</p>\\n\\t\\t\\t\\t\\t\\t\\t\\t </td><td \u001b[0m\u001b[32malign\u001b[0m\u001b[32m=\u001b[0m\u001b[32m\"left\"\u001b[0m\u001b[32m \u001b[0m\u001b[32mvalign\u001b[0m\u001b[32m=\u001b[0m\u001b[32m\"top\"\u001b[0m\u001b[32m \u001b[0m\u001b[32mheaders\u001b[0m\u001b[32m=\u001b[0m\u001b[32m\"idm140345532083552\"\u001b[0m\u001b[32m> <p>\\n\\t\\t\\t\\t\\t\\t\\t\\t\\tNone of the pod’s containers started successfully.\\n\\t\\t\\t\\t\\t\\t\\t\\t</p>\\n\\t\\t\\t\\t\\t\\t\\t\\t </td></tr><tr><td \u001b[0m\u001b[32malign\u001b[0m\u001b[32m=\u001b[0m\u001b[32m\"left\"\u001b[0m\u001b[32m \u001b[0m\u001b[32mvalign\u001b[0m\u001b[32m=\u001b[0m\u001b[32m\"top\"\u001b[0m\u001b[32m \u001b[0m\u001b[32mheaders\u001b[0m\u001b[32m=\u001b[0m\u001b[32m\"idm140345532084640\"\u001b[0m\u001b[32m> <p>\\n\\t\\t\\t\\t\\t\\t\\t\\t\\t<code \u001b[0m\u001b[32mclass\u001b[0m\u001b[32m=\u001b[0m\u001b[32m\"literal\"\u001b[0m\u001b[32m>ErrKillContainer</code>\\n\\t\\t\\t\\t\\t\\t\\t\\t</p>\\n\\t\\t\\t\\t\\t\\t\\t\\t </td><td \u001b[0m\u001b[32malign\u001b[0m\u001b[32m=\u001b[0m\u001b[32m\"left\"\u001b[0m\u001b[32m \u001b[0m\u001b[32mvalign\u001b[0m\u001b[32m=\u001b[0m\u001b[32m\"top\"\u001b[0m\u001b[32m \u001b[0m\u001b[32mheaders\u001b[0m\u001b[32m=\u001b[0m\u001b[32m\"idm140345532083552\"\u001b[0m\u001b[32m> <p>\\n\\t\\t\\t\\t\\t\\t\\t\\t\\tNone of the pod’s containers were killed successfully.\\n\\t\\t\\t\\t\\t\\t\\t\\t</p>\\n\\t\\t\\t\\t\\t\\t\\t\\t </td></tr><tr><td \u001b[0m\u001b[32malign\u001b[0m\u001b[32m=\u001b[0m\u001b[32m\"left\"\u001b[0m\u001b[32m \u001b[0m\u001b[32mvalign\u001b[0m\u001b[32m=\u001b[0m\u001b[32m\"top\"\u001b[0m\u001b[32m \u001b[0m\u001b[32mheaders\u001b[0m\u001b[32m=\u001b[0m\u001b[32m\"idm140345532084640\"\u001b[0m\u001b[32m> <p>\\n\\t\\t\\t\\t\\t\\t\\t\\t\\t<code \u001b[0m\u001b[32mclass\u001b[0m\u001b[32m=\u001b[0m\u001b[32m\"literal\"\u001b[0m\u001b[32m>ErrCrashLoopBackOff</code>\\n\\t\\t\\t\\t\\t\\t\\t\\t</p>\\n\\t\\t\\t\\t\\t\\t\\t\\t </td><td \u001b[0m\u001b[32malign\u001b[0m\u001b[32m=\u001b[0m\u001b[32m\"left\"\u001b[0m\u001b[32m \u001b[0m\u001b[32mvalign\u001b[0m\u001b[32m=\u001b[0m\u001b[32m\"top\"\u001b[0m\u001b[32m \u001b[0m\u001b[32mheaders\u001b[0m\u001b[32m=\u001b[0m\u001b[32m\"idm140345532083552\"\u001b[0m\u001b[32m> <p>\\n\\t\\t\\t\\t\\t\\t\\t\\t\\tA container has terminated. The kubelet will not attempt to restart it.\\n\\t\\t\\t\\t\\t\\t\\t\\t</p>\\n\\t\\t\\t\\t\\t\\t\\t\\t </td></tr><tr><td \u001b[0m\u001b[32malign\u001b[0m\u001b[32m=\u001b[0m\u001b[32m\"left\"\u001b[0m\u001b[32m \u001b[0m\u001b[32mvalign\u001b[0m\u001b[32m=\u001b[0m\u001b[32m\"top\"\u001b[0m\u001b[32m \u001b[0m\u001b[32mheaders\u001b[0m\u001b[32m=\u001b[0m\u001b[32m\"idm140345532084640\"\u001b[0m\u001b[32m> <p>\\n\\t\\t\\t\\t\\t\\t\\t\\t\\t<code \u001b[0m\u001b[32mclass\u001b[0m\u001b[32m=\u001b[0m\u001b[32m\"literal\"\u001b[0m\u001b[32m>ErrVerifyNonRoot</code>\\n\\t\\t\\t\\t\\t\\t\\t\\t</p>\\n\\t\\t\\t\\t\\t\\t\\t\\t </td><td \u001b[0m\u001b[32malign\u001b[0m\u001b[32m=\u001b[0m\u001b[32m\"left\"\u001b[0m\u001b[32m \u001b[0m\u001b[32mvalign\u001b[0m\u001b[32m=\u001b[0m\u001b[32m\"top\"\u001b[0m\u001b[32m \u001b[0m\u001b[32mheaders\u001b[0m\u001b[32m=\u001b[0m\u001b[32m\"idm140345532083552\"\u001b[0m\u001b[32m> <p>\\n\\t\\t\\t\\t\\t\\t\\t\\t\\tA container or image attempted to run with root privileges.\\n\\t\\t\\t\\t\\t\\t\\t\\t</p>\\n\\t\\t\\t\\t\\t\\t\\t\\t </td></tr><tr><td \u001b[0m\u001b[32malign\u001b[0m\u001b[32m=\u001b[0m\u001b[32m\"left\"\u001b[0m\u001b[32m \u001b[0m\u001b[32mvalign\u001b[0m\u001b[32m=\u001b[0m\u001b[32m\"top\"\u001b[0m\u001b[32m \u001b[0m\u001b[32mheaders\u001b[0m\u001b[32m=\u001b[0m\u001b[32m\"idm140345532084640\"\u001b[0m\u001b[32m> <p>\\n\\t\\t\\t\\t\\t\\t\\t\\t\\t<code \u001b[0m\u001b[32mclass\u001b[0m\u001b[32m=\u001b[0m\u001b[32m\"literal\"\u001b[0m\u001b[32m>ErrCreatePodSandbox</code>\\n\\t\\t\\t\\t\\t\\t\\t\\t</p>\\n\\t\\t\\t\\t\\t\\t\\t\\t </td><td \u001b[0m\u001b[32malign\u001b[0m\u001b[32m=\u001b[0m\u001b[32m\"left\"\u001b[0m\u001b[32m \u001b[0m\u001b[32mvalign\u001b[0m\u001b[32m=\u001b[0m\u001b[32m\"top\"\u001b[0m\u001b[32m \u001b[0m\u001b[32mheaders\u001b[0m\u001b[32m=\u001b[0m\u001b[32m\"idm140345532083552\"\u001b[0m\u001b[32m> <p>\\n\\t\\t\\t\\t\\t\\t\\t\\t\\tPod sandbox creation did not succeed.\\n\\t\\t\\t\\t\\t\\t\\t\\t</p>\\n\\n'\u001b[0m\u001b[39m,\u001b[0m\n",
       "\u001b[2;32m│   │   \u001b[0m\u001b[33mtype\u001b[0m\u001b[39m=\u001b[0m\u001b[32m'text'\u001b[0m\n",
       "\u001b[2;32m│   \u001b[0m\u001b[1;39m)\u001b[0m\u001b[39m,\u001b[0m\n",
       "\u001b[2;32m│   \u001b[0m\u001b[1;35mTextContentItem\u001b[0m\u001b[1;39m(\u001b[0m\n",
       "\u001b[2;32m│   │   \u001b[0m\u001b[33mtext\u001b[0m\u001b[39m=\u001b[0m\u001b[32m'Result 2:\\nDocument_id:num-0\\nContent: lt;namespace&gt;\\\\u003C/pre>\\\\u003C/li>\\\\u003Cli \u001b[0m\u001b[32mclass\u001b[0m\u001b[32m=\\\\\"listitem\\\\\">\\\\u003Cp \u001b[0m\u001b[32mclass\u001b[0m\u001b[32m=\\\\\"simpara\\\\\">\\\\n\\\\t\\\\t\\\\t\\\\t\\\\t\\\\t\\\\t\\\\t\\\\tIf the pod has more than one container, the preceding command will create an error, and the container names will be provided in the error message. Inspect logs for each container:\\\\n\\\\t\\\\t\\\\t\\\\t\\\\t\\\\t\\\\t\\\\t\\\\u003C/p>\\\\u003Cpre \u001b[0m\u001b[32mclass\u001b[0m\u001b[32m=\\\\\"programlisting language-terminal\\\\\">$ oc logs pod/&lt;pod_name&gt; -c &lt;container_name&gt; -n &lt;namespace&gt;\\\\u003C/pre>\\\\u003C/li>\\\\u003C/ol>\\\\u003C/div>\\\\u003C/li>\\\\u003Cli \u001b[0m\u001b[32mclass\u001b[0m\u001b[32m=\\\\\"listitem\\\\\">\\\\u003Cp \u001b[0m\u001b[32mclass\u001b[0m\u001b[32m=\\\\\"simpara\\\\\">\\\\n\\\\t\\\\t\\\\t\\\\t\\\\t\\\\t\\\\tIf the API is not functional, review etcd pod and container logs on each control plane node by using SSH instead. Replace \\\\u003Ccode \u001b[0m\u001b[32mclass\u001b[0m\u001b[32m=\\\\\"literal\\\\\">&lt;master-node&gt;.&lt;cluster_name&gt;.&lt;base_domain&gt;\\\\u003C/code> with appropriate values.\\\\n\\\\t\\\\t\\\\t\\\\t\\\\t\\\\t\\\\u003C/p>\\\\u003Cdiv \u001b[0m\u001b[32mclass\u001b[0m\u001b[32m=\\\\\"orderedlist\\\\\">\\\\u003Col \u001b[0m\u001b[32mclass\u001b[0m\u001b[32m=\\\\\"orderedlist\\\\\" \u001b[0m\u001b[32mtype\u001b[0m\u001b[32m=\\\\\"a\\\\\">\\\\u003Cli \u001b[0m\u001b[32mclass\u001b[0m\u001b[32m=\\\\\"listitem\\\\\">\\\\u003Cp \u001b[0m\u001b[32mclass\u001b[0m\u001b[32m=\\\\\"simpara\\\\\">\\\\n\\\\t\\\\t\\\\t\\\\t\\\\t\\\\t\\\\t\\\\t\\\\tList etcd pods on each control plane node:\\\\n\\\\t\\\\t\\\\t\\\\t\\\\t\\\\t\\\\t\\\\t\\\\u003C/p>\\\\u003Cpre \u001b[0m\u001b[32mclass\u001b[0m\u001b[32m=\\\\\"programlisting language-terminal\\\\\">$ ssh core@&lt;master-node&gt;.&lt;cluster_name&gt;.&lt;base_domain&gt; sudo crictl pods --\u001b[0m\u001b[32mname\u001b[0m\u001b[32m=\u001b[0m\u001b[32metcd\u001b[0m\u001b[32m-\\\\u003C/pre>\\\\u003C/li>\\\\u003Cli \u001b[0m\u001b[32mclass\u001b[0m\u001b[32m=\\\\\"listitem\\\\\">\\\\u003Cp \u001b[0m\u001b[32mclass\u001b[0m\u001b[32m=\\\\\"simpara\\\\\">\\\\n\\\\t\\\\t\\\\t\\\\t\\\\t\\\\t\\\\t\\\\t\\\\tFor any pods not showing \\\\u003Ccode \u001b[0m\u001b[32mclass\u001b[0m\u001b[32m=\\\\\"literal\\\\\">Ready\\\\u003C/code> status, inspect pod status in detail. Replace \\\\u003Ccode \u001b[0m\u001b[32mclass\u001b[0m\u001b[32m=\\\\\"literal\\\\\">&lt;pod_id&gt;\\\\u003C/code> with the pod’s ID listed in the output of the preceding command:\\\\n\\\\t\\\\t\\\\t\\\\t\\\\t\\\\t\\\\t\\\\t\\\\u003C/p>\\\\u003Cpre \u001b[0m\u001b[32mclass\u001b[0m\u001b[32m=\\\\\"programlisting language-terminal\\\\\">$ ssh core@&lt;master-node&gt;\\n'\u001b[0m\u001b[39m,\u001b[0m\n",
       "\u001b[2;32m│   │   \u001b[0m\u001b[33mtype\u001b[0m\u001b[39m=\u001b[0m\u001b[32m'text'\u001b[0m\n",
       "\u001b[2;32m│   \u001b[0m\u001b[1;39m)\u001b[0m\u001b[39m,\u001b[0m\n",
       "\u001b[2;32m│   \u001b[0m\u001b[1;35mTextContentItem\u001b[0m\u001b[1;39m(\u001b[0m\n",
       "\u001b[2;32m│   │   \u001b[0m\u001b[33mtext\u001b[0m\u001b[39m=\u001b[0m\u001b[32m'Result 3:\\nDocument_id:num-0\\nContent: virtualization/live-migration\":14663,\"virtualization/node-maintenance\":14664,\"virtualization/logging-events-and-monitoring\":14665,\"virtualization/backup-and-restore\":14666,\"service_mesh/index\":14667,\"service_mesh/service-mesh-2-x\":14668,\"service_mesh/service-mesh-1-x\":14669,\"windows_container_support_for_openshift/index\":14670,\"windows_container_support_for_openshift/windows-container-overview\":14671,\"windows_container_support_for_openshift/windows-containers-release-notes-6-x\":14672,\"windows_container_support_for_openshift/understanding-windows-container-workloads\":14673,\"windows_container_support_for_openshift/enabling-windows-container-workloads\":14674,\"windows_container_support_for_openshift/creating-windows-machine-sets\":14675,\"windows_container_support_for_openshift/scheduling-windows-workloads\":14676,\"windows_container_support_for_openshift/windows-node-upgrades\":14677,\"windows_container_support_for_openshift/byoh-windows-instance\":14678,\"windows_container_support_for_openshift/removing-windows-nodes\":14679,\"windows_container_support_for_openshift/disabling-windows-container-workloads\":14680,\"support/legal-notice\":14681\u001b[0m\u001b[32m}\u001b[0m\u001b[32m,\u001b[0m\u001b[32m{\u001b[0m\u001b[32m\"prevt\":17,\"next\":16\u001b[0m\u001b[32m}\u001b[0m\u001b[32m,\u001b[0m\u001b[32m{\u001b[0m\u001b[32m\"prevt\":17,\"next\":37\u001b[0m\u001b[32m}\u001b[0m\u001b[32m,\u001b[0m\u001b[32m{\u001b[0m\u001b[32m\"prevt\":25,\"next\":17\u001b[0m\u001b[32m}\u001b[0m\u001b[32m,\u001b[0m\u001b[32m{\u001b[0m\u001b[32m\"prevt\":16,\"next\":16\u001b[0m\u001b[32m}\u001b[0m\u001b[32m,\u001b[0m\u001b[32m{\u001b[0m\u001b[32m\"prevt\":17,\"next\":60\u001b[0m\u001b[32m}\u001b[0m\u001b[32m,\u001b[0m\u001b[32m{\u001b[0m\u001b[32m\"prevt\":52,\"next\":73\u001b[0m\u001b[32m}\u001b[0m\u001b[32m,\u001b[0m\u001b[32m{\u001b[0m\u001b[32m\"prevt\":60,\"next\":90\u001b[0m\u001b[32m}\u001b[0m\u001b[32m,\u001b[0m\u001b[32m{\u001b[0m\u001b[32m\"prevt\":73,\"next\":17\u001b[0m\u001b[32m}\u001b[0m\u001b[32m,\u001b[0m\u001b[32m{\u001b[0m\u001b[32m\"prevt\":16,\"next\":16\u001b[0m\u001b[32m}\u001b[0m\u001b[32m,\u001b[0m\u001b[32m{\u001b[0m\u001b[32m\"prevt\":17,\"next\":17\u001b[0m\u001b[32m}\u001b[0m\u001b[32m,\u001b[0m\u001b[32m{\u001b[0m\u001b[32m\"prevt\":16,\"next\":16\u001b[0m\u001b[32m}\u001b[0m\u001b[32m,\u001b[0m\u001b[32m{\u001b[0m\u001b[32m\"prevt\":17,\"next\":429\u001b[0m\u001b[32m}\u001b[0m\u001b[32m,\u001b[0m\u001b[32m{\u001b[0m\u001b[32m\"prevt\":433,\"next\":459\u001b[0m\u001b[32m}\u001b[0m\u001b[32m,\u001b[0m\u001b[32m{\u001b[0m\u001b[32m\"prevt\":429,\"next\":472\u001b[0m\u001b[32m}\u001b[0m\u001b[32m,\u001b[0m\u001b[32m{\u001b[0m\u001b[32m\"prevt\":459,\"next\":489\u001b[0m\u001b[32m}\u001b[0m\u001b[32m,\u001b[0m\u001b[32m{\u001b[0m\u001b[32m\"prevt\":472,\"next\":507\u001b[0m\u001b[32m}\u001b[0m\u001b[32m,\u001b[0m\u001b[32m{\u001b[0m\u001b[32m\"prevt\":489,\"next\":525\u001b[0m\u001b[32m}\u001b[0m\u001b[32m,\u001b[0m\u001b[32m{\u001b[0m\u001b[32m\"prevt\":507,\"next\":540\u001b[0m\u001b[32m}\u001b[0m\u001b[32m,\u001b[0m\u001b[32m{\u001b[0m\u001b[32m\"prevt\":525,\"next\":17\u001b[0m\u001b[32m}\u001b[0m\u001b[32m,\u001b[0m\u001b[32m{\u001b[0m\u001b[32m\"prevt\":16,\"next\":16\u001b[0m\u001b[32m}\u001b[0m\u001b[32m,\u001b[0m\u001b[32m{\u001b[0m\u001b[32m\"prevt\":17,\"next\":567\u001b[0m\u001b[32m}\u001b[0m\u001b[32m,\u001b[0m\u001b[32m{\u001b[0m\u001b[32m\"prevt\":559,\"next\":655\u001b[0m\u001b[32m}\u001b[0m\u001b[32m,\u001b[0m\u001b[32m{\u001b[0m\u001b[32m\"prevt\":567,\"next\":678\u001b[0m\u001b[32m}\u001b[0m\u001b[32m,\u001b[0m\u001b[32m{\u001b[0m\u001b[32m\"prevt\":655,\"next\":752\u001b[0m\u001b[32m}\u001b[0m\u001b[32m,\u001b[0m\u001b[32m{\u001b[0m\u001b[32m\"prevt\":678,\"next\":914\u001b[0m\u001b[32m}\u001b[0m\u001b[32m,\u001b[0m\u001b[32m{\u001b[0m\u001b[32m\"prevt\":752,\"next\":980\u001b[0m\u001b[32m}\u001b[0m\u001b[32m,\u001b[0m\u001b[32m{\u001b[0m\u001b[32m\"prevt\":914,\"next\":1002\u001b[0m\u001b[32m}\u001b[0m\u001b[32m,\u001b[0m\u001b[32m{\u001b[0m\u001b[32m\"prevt\":980,\"next\":1013\u001b[0m\u001b[32m}\u001b[0m\u001b[32m,\u001b[0m\u001b[32m{\u001b[0m\u001b[32m\"pre\\n'\u001b[0m\u001b[39m,\u001b[0m\n",
       "\u001b[2;32m│   │   \u001b[0m\u001b[33mtype\u001b[0m\u001b[39m=\u001b[0m\u001b[32m'text'\u001b[0m\n",
       "\u001b[2;32m│   \u001b[0m\u001b[1;39m)\u001b[0m\u001b[39m,\u001b[0m\n",
       "\u001b[2;32m│   \u001b[0m\u001b[1;35mTextContentItem\u001b[0m\u001b[1;39m(\u001b[0m\n",
       "\u001b[2;32m│   │   \u001b[0m\u001b[33mtext\u001b[0m\u001b[39m=\u001b[0m\u001b[32m'Result 4:\\nDocument_id:num-0\\nContent: -web_upgrading-sandboxed-containers\",\"sandboxed-containers-upgrading-monitor-pods-cli_upgrading-sandboxed-containers\",\"/documentation/openshift_container_platform/4.11/html/sandboxed_containers_support_for_openshift/upgrading-sandboxed-containers\",\u001b[0m\u001b[32m{\u001b[0m\u001b[32m\"title\":10170,\"visible\":12,\"weight\":524,\"urlFragment\":10171,\"anchor\":17,\"singlePageAnchor\":10171,\"subChapters\":10172,\"url\":10179,\"docTitle\":10088\u001b[0m\u001b[32m}\u001b[0m\u001b[32m,\"Collecting OpenShift sandboxed containers data\",\"troubleshooting-sandboxed-containers\",\u001b[0m\u001b[32m[\u001b[0m\u001b[32m10173,10174,10175,10176,10177,10178\u001b[0m\u001b[32m]\u001b[0m\u001b[32m,\"sandboxed-containers-collect_data_rh_support_troubleshooting-sandboxed-containers\",\"about-must-gather_troubleshooting-sandboxed-containers\",\"sandboxed-containers-collecting-data_troubleshooting-sandboxed-containers\",\"sandboxed-containers-enable-debug-logs_troubleshooting-sandboxed-containers\",\"sandboxed-containers-view-debug-logs_troubleshooting-sandboxed-containers\",\"troubleshooting-sandboxed-containers_additional-resources\",\"/documentation/openshift_container_platform/4.11/html/sandboxed_containers_support_for_openshift/troubleshooting-sandboxed-containers\",\u001b[0m\u001b[32m{\u001b[0m\u001b[32m\"title\":10181,\"visible\":12,\"weight\":15,\"urlFragment\":16,\"anchor\":17,\"singlePageAnchor\":17,\"subChapters\":10182,\"url\":10183,\"docTitle\":10184,\"sections\":10185\u001b[0m\u001b[32m}\u001b[0m\u001b[32m,\"Operators\",\u001b[0m\u001b[32m[\u001b[0m\u001b[32m]\u001b[0m\u001b[32m,\"/documentation/openshift_container_platform/4.11/html/operators/index\",\"operators\",\u001b[0m\u001b[32m[\u001b[0m\u001b[32m10186,10194,10333,10346,10411,10660\u001b[0m\u001b[32m]\u001b[0m\u001b[32m,\u001b[0m\u001b[32m{\u001b[0m\u001b[32m\"title\":10187,\"visible\":12,\"weight\":24,\"urlFragment\":10188,\"anchor\":17,\"singlePageAnchor\":10188,\"subChapters\":10189,\"url\":10193,\"docTitle\":10184\u001b[0m\u001b[32m}\u001b[0m\u001b[32m,\"Operators overview\",\"operators-overview\",\u001b[0m\u001b[32m[\u001b[0m\u001b[32m10190,10191,10192\u001b[0m\u001b[32m]\u001b[0m\u001b[32m,\"operators-overview-developer-tasks\",\"operators-overview-administrator-tasks\",\"operators-overview-next-steps\",\"/documentation/openshift_container_platform/4.11/html/operators/operators-overview\",\u001b[0m\u001b[32m{\u001b[0m\u001b[32m\"title\":10195,\"visible\":12,\"weight\":36,\"urlFragment\":10196,\"anchor\":17,\"singlePageAnchor\":10196,\"subChapters\":10197,\"url\":10332,\"docTitle\":10184\u001b[0m\u001b[32m}\u001b[0m\u001b[32m,\"\\n'\u001b[0m\u001b[39m,\u001b[0m\n",
       "\u001b[2;32m│   │   \u001b[0m\u001b[33mtype\u001b[0m\u001b[39m=\u001b[0m\u001b[32m'text'\u001b[0m\n",
       "\u001b[2;32m│   \u001b[0m\u001b[1;39m)\u001b[0m\u001b[39m,\u001b[0m\n",
       "\u001b[2;32m│   \u001b[0m\u001b[1;35mTextContentItem\u001b[0m\u001b[1;39m(\u001b[0m\n",
       "\u001b[2;32m│   │   \u001b[0m\u001b[33mtext\u001b[0m\u001b[39m=\u001b[0m\u001b[32m'Result 5:\\nDocument_id:num-0\\nContent: , Pods are either removed after exiting or retained so that their logs can be accessed.\\\\n\\\\t\\\\t\\\\t\\\\u003C/p>\\\\u003Cp>\\\\n\\\\t\\\\t\\\\t\\\\tThe first thing to check when pod issues arise is the pod’s status. If an explicit pod failure has occurred, observe the pod’s error state to identify specific image, container, or pod network issues. Focus diagnostic data collection according to the error state. Review pod event messages, as well as pod and container log information. Diagnose issues dynamically by accessing running Pods on the command line, or start a debug pod with root access based on a problematic pod’s deployment configuration.\\\\n\\\\t\\\\t\\\\t\\\\u003C/p>\\\\u003Csection \u001b[0m\u001b[32mclass\u001b[0m\u001b[32m=\\\\\"section\\\\\" \u001b[0m\u001b[32mid\u001b[0m\u001b[32m=\\\\\"understanding-pod-error-states_investigating-pod-issues\\\\\">\\\\u003Cdiv \u001b[0m\u001b[32mclass\u001b[0m\u001b[32m=\\\\\"titlepage\\\\\">\\\\u003Cdiv>\\\\u003Cdiv>\\\\u003Ch3 \u001b[0m\u001b[32mclass\u001b[0m\u001b[32m=\\\\\"title\\\\\">7.7.1.\\xa0Understanding pod error states\\\\u003C/h3>\\\\u003C/div>\\\\u003C/div>\\\\u003C/div>\\\\u003Cp>\\\\n\\\\t\\\\t\\\\t\\\\t\\\\tPod failures return explicit error states that can be observed in the \\\\u003Ccode \u001b[0m\u001b[32mclass\u001b[0m\u001b[32m=\\\\\"literal\\\\\">status\\\\u003C/code> field in the output of \\\\u003Ccode \u001b[0m\u001b[32mclass\u001b[0m\u001b[32m=\\\\\"literal\\\\\">oc get pods\\\\u003C/code>. Pod error states cover image, container, and container network related failures.\\\\n\\\\t\\\\t\\\\t\\\\t\\\\u003C/p>\\\\u003Cp>\\\\n\\\\t\\\\t\\\\t\\\\t\\\\tThe following table provides a list of pod error states along with their descriptions.\\\\n\\\\t\\\\t\\\\t\\\\t\\\\u003C/p>\\\\u003Crh-table \u001b[0m\u001b[32mid\u001b[0m\u001b[32m=\\\\\"idm140345532089472\\\\\">\\\\u003Ctable \u001b[0m\u001b[32mclass\u001b[0m\u001b[32m=\\\\\"lt-4-cols lt-7-rows\\\\\">\\\\u003Ccaption>Table\\xa07.3.\\xa0Pod error states\\\\u003C/caption>\\\\u003Ccolgroup>\\\\u003Ccol \u001b[0m\u001b[32mstyle\u001b[0m\u001b[32m=\\\\\"width: 20%; \\\\\" \u001b[0m\u001b[32mclass\u001b[0m\u001b[32m=\\\\\"col_1\\\\\">\\\\u003C!--Empty-->\\\\u003C/col>\\\\u003Ccol \u001b[0m\u001b[32mstyle\u001b[0m\u001b[32m=\\\\\"width: 80%; \\\\\" \u001b[0m\u001b[32mclass\u001b[0m\u001b[32m=\\\\\"col_2\\\\\">\\\\u003C!--Empty-->\\\\u003C/col>\\\\u003C/colgroup>\\\\u003Cthead>\\\\u003Ctr>\\\\u003Cth \u001b[0m\u001b[32malign\u001b[0m\u001b[32m=\\\\\"left\\\\\" \u001b[0m\u001b[32mvalign\u001b[0m\u001b[32m=\\\\\"top\\\\\" \u001b[0m\u001b[32mid\u001b[0m\u001b[32m=\\\\\"idm140345532084640\\\\\" \u001b[0m\u001b[32mscope\u001b[0m\u001b[32m=\\\\\"col\\\\\"\u001b[0m\u001b[32m>\u001b[0m\u001b[32mPod error state\\\\u003\\n'\u001b[0m,\n",
       "\u001b[2;32m│   │   \u001b[0m\u001b[33mtype\u001b[0m=\u001b[32m'text'\u001b[0m\n",
       "\u001b[2;32m│   \u001b[0m\u001b[1m)\u001b[0m,\n",
       "\u001b[2;32m│   \u001b[0m\u001b[1;35mTextContentItem\u001b[0m\u001b[1m(\u001b[0m\u001b[33mtext\u001b[0m=\u001b[32m'END of knowledge_search tool results.\\n'\u001b[0m, \u001b[33mtype\u001b[0m=\u001b[32m'text'\u001b[0m\u001b[1m)\u001b[0m,\n",
       "\u001b[2;32m│   \u001b[0m\u001b[1;35mTextContentItem\u001b[0m\u001b[1m(\u001b[0m\n",
       "\u001b[2;32m│   │   \u001b[0m\u001b[33mtext\u001b[0m=\u001b[32m'The above results were retrieved to help answer the user\\'s query: \"Container failed due to an unexpected issue during startup\". Use them as supporting information only in answering this query.\\n'\u001b[0m,\n",
       "\u001b[2;32m│   │   \u001b[0m\u001b[33mtype\u001b[0m=\u001b[32m'text'\u001b[0m\n",
       "\u001b[2;32m│   \u001b[0m\u001b[1m)\u001b[0m\n",
       "\u001b[1m]\u001b[0m\n"
      ]
     },
     "metadata": {},
     "output_type": "display_data"
    },
    {
     "name": "stdout",
     "output_type": "stream",
     "text": [
      "\n",
      "---------- 📍 Step 5: InferenceStep ----------\n",
      "🤖 Model Response:\n",
      "\u001b[35m{\n",
      "    \"thought\": \"The logs indicate an error with the pod, specifically a container failure due to an unexpected issue during startup. Based on the search results, potential causes include missing dependencies, configuration errors, or permission issues. The suggested steps to resolve this issue are: 1) Check the pod's status and error state, 2) Review pod event messages and container log information, 3) Diagnose issues dynamically by accessing running Pods on the command line, or start a debug pod with root access based on a problematic pod’s deployment configuration.\",\n",
      "    \"action\": {\n",
      "        \"tool_name\": \"slack_post_message\",\n",
      "        \"tool_params\": [{\"name\": \"channel_id\", \"value\": \"demos\"}, {\"name\": \"text\", \"value\": \"The logs for pod slack-test in the llama-serve OpenShift namespace indicate an error with the pod, specifically a container failure due to an unexpected issue during startup. Potential causes include missing dependencies, configuration errors, or permission issues. To resolve this issue, check the pod's status and error state, review pod event messages and container log information, and diagnose issues dynamically by accessing running Pods on the command line or starting a debug pod with root access based on a problematic pod’s deployment configuration.\"}]\n",
      "    },\n",
      "    \"answer\": null\n",
      "}\n",
      "\u001b[0m\n",
      "\n",
      "---------- 📍 Step 6: ToolExecutionStep ----------\n",
      "🔧 Executing tool...\n"
     ]
    },
    {
     "data": {
      "text/html": [
       "<pre style=\"white-space:pre;overflow-x:auto;line-height:normal;font-family:Menlo,'DejaVu Sans Mono',consolas,'Courier New',monospace\"><span style=\"font-weight: bold\">{</span>\n",
       "<span style=\"color: #7fbf7f; text-decoration-color: #7fbf7f\">│   </span><span style=\"color: #008000; text-decoration-color: #008000\">'type'</span>: <span style=\"color: #008000; text-decoration-color: #008000\">'text'</span>,\n",
       "<span style=\"color: #7fbf7f; text-decoration-color: #7fbf7f\">│   </span><span style=\"color: #008000; text-decoration-color: #008000\">'text'</span>: <span style=\"color: #008000; text-decoration-color: #008000\">'{\"ok\":true,\"channel\":\"C08MUDSNHED\",\"ts\":\"1747247037.213909\",\"message\":{\"user\":\"U08MM2P7BEF\",\"type\":\"message\",\"ts\":\"1747247037.213909\",\"bot_id\":\"B08MM2P60KV\",\"app_id\":\"A08MLQCUGUS\",\"text\":\"The logs for pod slack-test in the llama-serve OpenShift namespace indicate an error with the pod, specifically a container failure due to an unexpected issue during startup. Potential causes include missing dependencies, configuration errors, or permission issues. To resolve this issue, check the pod\\'s status and error state, review pod event messages and container log information, and diagnose issues dynamically by accessing running Pods on the command line or starting a debug pod with root access based on a problematic pod’s deployment configuration.\",\"team\":\"T08M9UTL2DC\",\"bot_profile\":{\"id\":\"B08MM2P60KV\",\"app_id\":\"A08MLQCUGUS\",\"user_id\":\"U08MM2P7BEF\",\"name\":\"et-slack-bot\",\"icons\":{\"image_36\":\"https://a.slack-edge.com/80588/img/plugins/app/bot_36.png\",\"image_48\":\"https://a.slack-edge.com/80588/img/plugins/app/bot_48.png\",\"image_72\":\"https://a.slack-edge.com/80588/img/plugins/app/service_72.png\"},\"deleted\":false,\"updated\":1744227670,\"team_id\":\"T08M9UTL2DC\"},\"blocks\":[{\"type\":\"rich_text\",\"block_id\":\"M0Kr\",\"elements\":[{\"type\":\"rich_text_section\",\"elements\":[{\"type\":\"text\",\"text\":\"The logs for pod slack-test in the llama-serve OpenShift namespace indicate an error with the pod, specifically a container failure due to an unexpected issue during startup. Potential causes include missing dependencies, configuration errors, or permission issues. To resolve this issue, check the pod\\'s status and error state, review pod event messages and container log information, and diagnose issues dynamically by accessing running Pods on the command line or starting a debug pod with root access based on a problematic pod’s deployment configuration.\"}]}]}]},\"warning\":\"missing_charset\",\"response_metadata\":{\"warnings\":[\"missing_charset\"]}}'</span>,\n",
       "<span style=\"color: #7fbf7f; text-decoration-color: #7fbf7f\">│   </span><span style=\"color: #008000; text-decoration-color: #008000\">'annotations'</span>: <span style=\"color: #800080; text-decoration-color: #800080; font-style: italic\">None</span>\n",
       "<span style=\"font-weight: bold\">}</span>\n",
       "</pre>\n"
      ],
      "text/plain": [
       "\u001b[1m{\u001b[0m\n",
       "\u001b[2;32m│   \u001b[0m\u001b[32m'type'\u001b[0m: \u001b[32m'text'\u001b[0m,\n",
       "\u001b[2;32m│   \u001b[0m\u001b[32m'text'\u001b[0m: \u001b[32m'\u001b[0m\u001b[32m{\u001b[0m\u001b[32m\"ok\":true,\"channel\":\"C08MUDSNHED\",\"ts\":\"1747247037.213909\",\"message\":\u001b[0m\u001b[32m{\u001b[0m\u001b[32m\"user\":\"U08MM2P7BEF\",\"type\":\"message\",\"ts\":\"1747247037.213909\",\"bot_id\":\"B08MM2P60KV\",\"app_id\":\"A08MLQCUGUS\",\"text\":\"The logs for pod slack-test in the llama-serve OpenShift namespace indicate an error with the pod, specifically a container failure due to an unexpected issue during startup. Potential causes include missing dependencies, configuration errors, or permission issues. To resolve this issue, check the pod\\'s status and error state, review pod event messages and container log information, and diagnose issues dynamically by accessing running Pods on the command line or starting a debug pod with root access based on a problematic pod’s deployment configuration.\",\"team\":\"T08M9UTL2DC\",\"bot_profile\":\u001b[0m\u001b[32m{\u001b[0m\u001b[32m\"id\":\"B08MM2P60KV\",\"app_id\":\"A08MLQCUGUS\",\"user_id\":\"U08MM2P7BEF\",\"name\":\"et-slack-bot\",\"icons\":\u001b[0m\u001b[32m{\u001b[0m\u001b[32m\"image_36\":\"https://a.slack-edge.com/80588/img/plugins/app/bot_36.png\",\"image_48\":\"https://a.slack-edge.com/80588/img/plugins/app/bot_48.png\",\"image_72\":\"https://a.slack-edge.com/80588/img/plugins/app/service_72.png\"\u001b[0m\u001b[32m}\u001b[0m\u001b[32m,\"deleted\":false,\"updated\":1744227670,\"team_id\":\"T08M9UTL2DC\"\u001b[0m\u001b[32m}\u001b[0m\u001b[32m,\"blocks\":\u001b[0m\u001b[32m[\u001b[0m\u001b[32m{\u001b[0m\u001b[32m\"type\":\"rich_text\",\"block_id\":\"M0Kr\",\"elements\":\u001b[0m\u001b[32m[\u001b[0m\u001b[32m{\u001b[0m\u001b[32m\"type\":\"rich_text_section\",\"elements\":\u001b[0m\u001b[32m[\u001b[0m\u001b[32m{\u001b[0m\u001b[32m\"type\":\"text\",\"text\":\"The logs for pod slack-test in the llama-serve OpenShift namespace indicate an error with the pod, specifically a container failure due to an unexpected issue during startup. Potential causes include missing dependencies, configuration errors, or permission issues. To resolve this issue, check the pod\\'s status and error state, review pod event messages and container log information, and diagnose issues dynamically by accessing running Pods on the command line or starting a debug pod with root access based on a problematic pod’s deployment configuration.\"\u001b[0m\u001b[32m}\u001b[0m\u001b[32m]\u001b[0m\u001b[32m}\u001b[0m\u001b[32m]\u001b[0m\u001b[32m}\u001b[0m\u001b[32m]\u001b[0m\u001b[32m}\u001b[0m\u001b[32m,\"warning\":\"missing_charset\",\"response_metadata\":\u001b[0m\u001b[32m{\u001b[0m\u001b[32m\"warnings\":\u001b[0m\u001b[32m[\u001b[0m\u001b[32m\"missing_charset\"\u001b[0m\u001b[32m]\u001b[0m\u001b[32m}\u001b[0m\u001b[32m}\u001b[0m\u001b[32m'\u001b[0m,\n",
       "\u001b[2;32m│   \u001b[0m\u001b[32m'annotations'\u001b[0m: \u001b[3;35mNone\u001b[0m\n",
       "\u001b[1m}\u001b[0m\n"
      ]
     },
     "metadata": {},
     "output_type": "display_data"
    },
    {
     "name": "stdout",
     "output_type": "stream",
     "text": [
      "\n",
      "---------- 📍 Step 7: InferenceStep ----------\n",
      "🤖 Model Response:\n",
      "\u001b[35m{\n",
      "    \"thought\": \"I have successfully sent the message to the demos channel on Slack with the summarized steps to resolve the pod error.\",\n",
      "    \"action\": null,\n",
      "    \"answer\": \"Message sent to demos channel on Slack.\"\n",
      "}\n",
      "\u001b[0m\n",
      "========== Query processing completed ========== \n",
      "\n"
     ]
    }
   ],
   "source": [
    "builtin_rag = dict(\n",
    "            name=\"builtin::rag\",\n",
    "            args={\n",
    "                \"vector_db_ids\": [vector_db_id],  # list of IDs of document collections to consider during retrieval\n",
    "            },\n",
    "        )\n",
    "\n",
    "\n",
    "\n",
    "agent = ReActAgent(\n",
    "            client=client,\n",
    "            model=model_id,\n",
    "            tools=[\"mcp::slack\",\"mcp::openshift\", builtin_rag],\n",
    "            response_format={\n",
    "                \"type\": \"json_schema\",\n",
    "                \"json_schema\": ReActOutput.model_json_schema(),\n",
    "            },\n",
    "            sampling_params={\"max_tokens\":512},\n",
    "        )\n",
    "\n",
    "user_prompts = [\"\"\"View the logs for pod slack-test in the llama-serve OpenShift namespace. Categorize it as normal or error, \n",
    "                search for solutions on this error and provide a summary of the steps to take in just 1-2 sentences.\n",
    "                Send a message with the summarization to the demos channel on Slack. Let me know when you've sent the message.\n",
    "                \"\"\"\n",
    "                ]\n",
    "\n",
    "session_id = agent.create_session(\"web-session\")\n",
    "for prompt in user_prompts:\n",
    "    print(\"\\n\"+\"=\"*50)\n",
    "    cprint(f\"Processing user query: {prompt}\", \"blue\")\n",
    "    print(\"=\"*50)\n",
    "    response = agent.create_turn(\n",
    "        messages=[\n",
    "            {\n",
    "                \"role\": \"user\",\n",
    "                \"content\": prompt,\n",
    "            }\n",
    "        ],\n",
    "        session_id=session_id,\n",
    "        stream=stream\n",
    "    )\n",
    "    if stream:\n",
    "        for log in EventLogger().log(response):\n",
    "            log.print()\n",
    "    else:\n",
    "        step_printer(response.steps) # print the steps of an agent's response in a formatted way. "
   ]
  },
  {
   "cell_type": "markdown",
   "id": "21f4147a",
   "metadata": {},
   "source": [
    "### Output Analysis\n",
    "\n",
    "Above, we can see that the ReAct agent took nearly an identical approach to the prompt chaining method above, but using a single prompt instead of a chain.\n",
    "\n",
    "1. First, the agent reasoned that it needed to generated a tool call for the `pods_log` tool included in the OpenShift MCP server and did so to generate a tool call that fetched the logs for the specified pod.\n",
    "2. Next, the agent reasoned that its next step was to query the available vector database for more information about the logs and acted using the built-in `knowledge_search` tool. \n",
    "4. Then, the agent summarized the findings from the the knowledge search step and reasoned it needed to send a slack message to share this information with the team and did so by using the `slack_post_message` tool call configured with the Slack MCP server.\n"
   ]
  },
  {
   "cell_type": "markdown",
   "id": "3105c368",
   "metadata": {},
   "source": [
    "## Key Takeaways\n",
    "\n",
    "This tutorial demonstrates how to implement agentic RAG and MCP applications with Llama Stack. We do so by initializing an agent while giving it access to the MCP tools, and RAG tool configured with Llama Stack, then invoking the agent on the specified query. We showed that we can do this with more directed Prompt Chaining or with the more open ended ReAct pattern Please check out our other notebooks for more examples using Llama Stack."
   ]
  },
  {
   "cell_type": "markdown",
   "id": "d991b679",
   "metadata": {},
   "source": [
    "#### Any Feedback?\n",
    "\n",
    "If you have any feedback on this or any other notebook in this demo series we'd love to hear it! Please go to https://www.feedback.redhat.com/jfe/form/SV_8pQsoy0U9Ccqsvk and help us improve our demos. "
   ]
  }
 ],
 "metadata": {
  "kernelspec": {
   "display_name": "Python 3.11",
   "language": "python",
   "name": "python3"
  },
  "language_info": {
   "codemirror_mode": {
    "name": "ipython",
    "version": 3
   },
   "file_extension": ".py",
   "mimetype": "text/x-python",
   "name": "python",
   "nbconvert_exporter": "python",
   "pygments_lexer": "ipython3",
   "version": "3.11.9"
  }
 },
 "nbformat": 4,
 "nbformat_minor": 5
}
