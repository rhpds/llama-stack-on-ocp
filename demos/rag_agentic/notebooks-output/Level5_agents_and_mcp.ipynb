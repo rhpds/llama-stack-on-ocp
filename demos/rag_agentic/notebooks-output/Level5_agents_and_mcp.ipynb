{
 "cells": [
  {
   "cell_type": "markdown",
   "id": "b5ecd807-fb1c-41eb-a948-365e57396d90",
   "metadata": {},
   "source": [
    "# Level 5: Agents & MCP Tools\n",
    "\n",
    "This notebook is for developers who are already familiar with [basic agent workflows](Level2_simple_agent_with_websearch.ipynb). \n",
    "Here, we will highlight more advanced use cases for agents where a single tool call is insufficient to complete the required task.\n",
    "\n",
    "We will also use [MCP tools](https://github.com/modelcontextprotocol/servers) (which can be deployed onto an OpenShift cluster) throughout this demo to show users how to extend their agents beyond Llama Stacks's current builtin tools and connect to many different services and data sources to build their own custom agents.  \n",
    "\n",
    "### Agent Example:\n",
    "\n",
    "This notebook will walkthrough how to build a system that can answer the following question via an agent built with Llama Stack:\n",
    "\n",
    "- *\"Review OpenShift logs for pod-123 and pod-456. Categorize each as either ‘Normal’ or ‘Error’. If any are considered to be ‘Error’, send a Slack message to the ops team. Otherwise, show a simple summary.\"*\n",
    "\n",
    "\n",
    "### MCP Tools:\n",
    "\n",
    "#### OpenShift MCP Server\n",
    "\n",
    "Throughout this notebook we will be relying on the [kubernetes-mcp-server](https://github.com/manusa/kubernetes-mcp-server) by [manusa](https://github.com/manusa) to interact with our OpenShift cluster. Please see installation instructions below if you do not already have this deployed in your environment. \n",
    "\n",
    "* [OpenShift MCP installation instructions](../../../kubernetes/mcp-servers/openshift-mcp/README.md)\n",
    "\n",
    "#### Slack MCP Server\n",
    "We will also be using the [Slack MCP Server](https://github.com/modelcontextprotocol/servers-archived/tree/main/src/slack) in this notebook. Please see installation instructions below if you do not already have this deployed in your environment. \n",
    "\n",
    "* [Slack MCP installation instructions](../../../kubernetes/mcp-servers/slack-mcp/README.md)"
   ]
  },
  {
   "cell_type": "markdown",
   "id": "a77a6454",
   "metadata": {},
   "source": [
    "## Pre-Requisites\n",
    "\n",
    "Before starting this notebook, ensure that you have:\n",
    "- Followed the instructions in the [Setup Guide](./Level0_getting_started_with_Llama_Stack.ipynb) notebook.\n",
    "- Access to an OpeShift cluster with a deployment of the [OpenShift MCP server](https://github.com/opendatahub-io/llama-stack-demos/tree/main/kubernetes/mcp-servers/openshift-mcp) (see the [deployment manifests](https://github.com/opendatahub-io/llama-stack-on-ocp/tree/main/kubernetes/mcp-servers/openshift-mcp) for assistance with this).\n",
    "- A Tavily API key is required. You can register for one at https://app.tavily.com/home.\n",
    "\n",
    "## Setting Up this Notebook\n",
    "We will initialize our environment as described in detail in our [\"Getting Started\" notebook](./Level0_getting_started_with_Llama_Stack.ipynb). Please refer to it for additional explanations."
   ]
  },
  {
   "cell_type": "code",
   "execution_count": 1,
   "id": "bafea86a-fcb4-4e69-8a73-1839b536b54d",
   "metadata": {},
   "outputs": [
    {
     "name": "stdout",
     "output_type": "stream",
     "text": [
      "Connected to Llama Stack server\n",
      "Inference Parameters:\n",
      "\tModel: granite32-8b\n",
      "\tSampling Parameters: {'strategy': {'type': 'greedy'}, 'max_tokens': 512}\n",
      "\tstream: False\n"
     ]
    }
   ],
   "source": [
    "# for accessing the environment variables\n",
    "import os\n",
    "from dotenv import load_dotenv\n",
    "load_dotenv()\n",
    "\n",
    "# for communication with Llama Stack\n",
    "from llama_stack_client import LlamaStackClient\n",
    "from llama_stack_client import Agent\n",
    "from llama_stack_client.lib.agents.react.agent import ReActAgent\n",
    "from llama_stack_client.lib.agents.react.tool_parser import ReActOutput\n",
    "from llama_stack_client.lib.agents.event_logger import EventLogger\n",
    "\n",
    "# pretty print of the results returned from the model/agent\n",
    "from termcolor import cprint\n",
    "import sys\n",
    "sys.path.append('..')  \n",
    "from src.utils import step_printer\n",
    "\n",
    "base_url = os.getenv(\"REMOTE_BASE_URL\")\n",
    "\n",
    "\n",
    "# Tavily search API key is required for some of our demos and must be provided to the client upon initialization.\n",
    "# We will cover it in the agentic demos that use the respective tool. Please ignore this parameter for all other demos.\n",
    "tavily_search_api_key = os.getenv(\"TAVILY_SEARCH_API_KEY\")\n",
    "if tavily_search_api_key is None:\n",
    "    provider_data = None\n",
    "else:\n",
    "    provider_data = {\"tavily_search_api_key\": tavily_search_api_key}\n",
    "\n",
    "\n",
    "client = LlamaStackClient(\n",
    "    base_url=base_url,\n",
    "    provider_data=provider_data\n",
    ")\n",
    "\n",
    "print(f\"Connected to Llama Stack server\")\n",
    "\n",
    "# model_id for the model you wish to use that is configured with the Llama Stack server\n",
    "model_id = \"granite32-8b\"\n",
    "\n",
    "temperature = float(os.getenv(\"TEMPERATURE\", 0.0))\n",
    "if temperature > 0.0:\n",
    "    top_p = float(os.getenv(\"TOP_P\", 0.95))\n",
    "    strategy = {\"type\": \"top_p\", \"temperature\": temperature, \"top_p\": top_p}\n",
    "else:\n",
    "    strategy = {\"type\": \"greedy\"}\n",
    "\n",
    "max_tokens = 512\n",
    "\n",
    "# sampling_params will later be used to pass the parameters to Llama Stack Agents/Inference APIs\n",
    "sampling_params = {\n",
    "    \"strategy\": strategy,\n",
    "    \"max_tokens\": max_tokens,\n",
    "}\n",
    "\n",
    "stream_env = os.getenv(\"STREAM\", \"False\")\n",
    "# the Boolean 'stream' parameter will later be passed to Llama Stack Agents/Inference APIs\n",
    "# any value non equal to 'False' will be considered as 'True'\n",
    "stream = (stream_env != \"False\")\n",
    "\n",
    "print(f\"Inference Parameters:\\n\\tModel: {model_id}\\n\\tSampling Parameters: {sampling_params}\\n\\tstream: {stream}\")"
   ]
  },
  {
   "cell_type": "markdown",
   "id": "66044170",
   "metadata": {},
   "source": [
    "## Validate tools are available in our Llama Stack instance\n",
    "\n",
    "When an instance of Llama Stack is redeployed, it may be the case that the tools will need to be re-registered. Also if a tool is already registered with a Llama Stack instance, trying to register another one with the same `toolgroup_id` will throw you an error.\n",
    "\n",
    "For this reason, it is recommended to validate your tools and toolgroups. The following code will check that both the `builtin::websearch`, `mcp::openshift`  and `mcp::slack` tools are correctly registered, and if not it will attempt to register them using their specific endpoints."
   ]
  },
  {
   "cell_type": "code",
   "execution_count": 2,
   "id": "1b2cedaf-522b-4251-886a-d8aa7b9fcd18",
   "metadata": {},
   "outputs": [
    {
     "name": "stdout",
     "output_type": "stream",
     "text": [
      "Your Llama Stack server is registered with the following tool groups @ {'mcp::slack', 'mcp::openshift', 'builtin::rag', 'builtin::websearch'} \n",
      "\n"
     ]
    }
   ],
   "source": [
    "ocp_mcp_url = os.getenv(\"REMOTE_OCP_MCP_URL\") \n",
    "slack_mcp_url = os.getenv(\"REMOTE_SLACK_MCP_URL\")\n",
    "\n",
    "registered_tools = client.tools.list()\n",
    "registered_toolgroups = [t.toolgroup_id for t in registered_tools]\n",
    "if \"mcp::openshift\" not in registered_toolgroups:\n",
    "    client.toolgroups.register(\n",
    "        toolgroup_id=\"mcp::openshift\",\n",
    "        provider_id=\"model-context-protocol\",\n",
    "        mcp_endpoint={\"uri\":ocp_mcp_url},\n",
    "    )\n",
    "\n",
    "if \"mcp::slack\" not in registered_toolgroups:\n",
    "    client.toolgroups.register(\n",
    "        toolgroup_id=\"mcp::slack\",\n",
    "        provider_id=\"model-context-protocol\",\n",
    "        mcp_endpoint={\"uri\":slack_mcp_url},\n",
    "   )\n",
    "print(f\"Your Llama Stack server is registered with the following tool groups @ {set(registered_toolgroups)} \\n\")"
   ]
  },
  {
   "cell_type": "markdown",
   "id": "aa880bbc-bf69-4777-9417-ef7b13d51785",
   "metadata": {},
   "source": [
    "## Defining our Agent - Prompt Chaining"
   ]
  },
  {
   "cell_type": "code",
   "execution_count": 3,
   "id": "757508bc-a3b8-493e-b003-6d9840597ab4",
   "metadata": {},
   "outputs": [],
   "source": [
    "model_prompt= \"\"\"You are a helpful assistant. You have access to a number of tools.\n",
    "Whenever a tool is called, be sure to return the Response in a friendly and helpful tone.\n",
    "\"\"\""
   ]
  },
  {
   "cell_type": "markdown",
   "id": "9b32f2bb-d003-4347-b545-ad95da1dacff",
   "metadata": {},
   "source": [
    "### Deploy a pod with simulated error logs\n",
    "\n",
    "For the purpose of testing and retrieving logs from a pod exhibiting errors, we will deploy a pod on an OpenShift cluster that produces simulated error logs. We have a pre-built container image available for this \"fake\" error pod that you can use. With the help of the agent and the OpenShift MCP server we can deploy the pod as follows."
   ]
  },
  {
   "cell_type": "code",
   "execution_count": 4,
   "id": "dd0e66d9-05b3-432e-b416-f63001b08704",
   "metadata": {},
   "outputs": [
    {
     "name": "stdout",
     "output_type": "stream",
     "text": [
      "\n",
      "---------- 📍 Step 1: InferenceStep ----------\n",
      "🛠️ Tool call Generated:\n",
      "\u001b[35mTool call: pods_run, Arguments: {'image': 'quay.io/redhat-et/failing-test-pod:latest', 'name': 'slack-test', 'namespace': 'llama-serve'}\u001b[0m\n",
      "\n",
      "---------- 📍 Step 2: ToolExecutionStep ----------\n",
      "🔧 Executing tool...\n"
     ]
    },
    {
     "data": {
      "text/html": [
       "<pre style=\"white-space:pre;overflow-x:auto;line-height:normal;font-family:Menlo,'DejaVu Sans Mono',consolas,'Courier New',monospace\"><span style=\"font-weight: bold\">{</span>\n",
       "<span style=\"color: #7fbf7f; text-decoration-color: #7fbf7f\">│   </span><span style=\"color: #008000; text-decoration-color: #008000\">'type'</span>: <span style=\"color: #008000; text-decoration-color: #008000\">'text'</span>,\n",
       "<span style=\"color: #7fbf7f; text-decoration-color: #7fbf7f\">│   </span><span style=\"color: #008000; text-decoration-color: #008000\">'text'</span>: <span style=\"color: #008000; text-decoration-color: #008000\">'# The following resources (YAML) have been created or updated successfully\\n- apiVersion: v1\\n  kind: Pod\\n  metadata:\\n    annotations:\\n      openshift.io/scc: restricted-v2\\n      seccomp.security.alpha.kubernetes.io/pod: runtime/default\\n    creationTimestamp: \"2025-05-14T17:32:18Z\"\\n    labels:\\n      app.kubernetes.io/component: slack-test\\n      app.kubernetes.io/managed-by: kubernetes-mcp-server\\n      app.kubernetes.io/name: slack-test\\n      app.kubernetes.io/part-of: kubernetes-mcp-server-run-sandbox\\n    name: slack-test\\n    namespace: llama-serve\\n    resourceVersion: \"939283880\"\\n    uid: ffe8d370-23cd-42ae-897a-d6c2dfabf1c7\\n  spec:\\n    containers:\\n    - image: quay.io/redhat-et/failing-test-pod:latest\\n      imagePullPolicy: Always\\n      name: slack-test\\n      resources: {}\\n      securityContext:\\n        allowPrivilegeEscalation: false\\n        capabilities:\\n          drop:\\n          - ALL\\n        runAsNonRoot: true\\n        runAsUser: 1001770000\\n      terminationMessagePath: /dev/termination-log\\n      terminationMessagePolicy: File\\n      volumeMounts:\\n      - mountPath: /var/run/secrets/kubernetes.io/serviceaccount\\n        name: kube-api-access-2tlqt\\n        readOnly: true\\n    dnsPolicy: ClusterFirst\\n    enableServiceLinks: true\\n    imagePullSecrets:\\n    - name: default-dockercfg-bxwvb\\n    preemptionPolicy: PreemptLowerPriority\\n    priority: 0\\n    restartPolicy: Always\\n    schedulerName: default-scheduler\\n    securityContext:\\n      fsGroup: 1001770000\\n      seLinuxOptions:\\n        level: s0:c42,c24\\n      seccompProfile:\\n        type: RuntimeDefault\\n    serviceAccount: default\\n    serviceAccountName: default\\n    terminationGracePeriodSeconds: 30\\n    tolerations:\\n    - effect: NoExecute\\n      key: node.kubernetes.io/not-ready\\n      operator: Exists\\n      tolerationSeconds: 300\\n    - effect: NoExecute\\n      key: node.kubernetes.io/unreachable\\n      operator: Exists\\n      tolerationSeconds: 300\\n    volumes:\\n    - name: kube-api-access-2tlqt\\n      projected:\\n        defaultMode: 420\\n        sources:\\n        - serviceAccountToken:\\n            expirationSeconds: 3607\\n            path: token\\n        - configMap:\\n            items:\\n            - key: ca.crt\\n              path: ca.crt\\n            name: kube-root-ca.crt\\n        - downwardAPI:\\n            items:\\n            - fieldRef:\\n                apiVersion: v1\\n                fieldPath: metadata.namespace\\n              path: namespace\\n        - configMap:\\n            items:\\n            - key: service-ca.crt\\n              path: service-ca.crt\\n            name: openshift-service-ca.crt\\n  status:\\n    phase: Pending\\n    qosClass: BestEffort\\n'</span>,\n",
       "<span style=\"color: #7fbf7f; text-decoration-color: #7fbf7f\">│   </span><span style=\"color: #008000; text-decoration-color: #008000\">'annotations'</span>: <span style=\"color: #800080; text-decoration-color: #800080; font-style: italic\">None</span>\n",
       "<span style=\"font-weight: bold\">}</span>\n",
       "</pre>\n"
      ],
      "text/plain": [
       "\u001b[1m{\u001b[0m\n",
       "\u001b[2;32m│   \u001b[0m\u001b[32m'type'\u001b[0m: \u001b[32m'text'\u001b[0m,\n",
       "\u001b[2;32m│   \u001b[0m\u001b[32m'text'\u001b[0m: \u001b[32m'# The following resources \u001b[0m\u001b[32m(\u001b[0m\u001b[32mYAML\u001b[0m\u001b[32m)\u001b[0m\u001b[32m have been created or updated successfully\\n- apiVersion: v1\\n  kind: Pod\\n  metadata:\\n    annotations:\\n      openshift.io/scc: restricted-v2\\n      seccomp.security.alpha.kubernetes.io/pod: runtime/default\\n    creationTimestamp: \"2025-05-14T17:32:18Z\"\\n    labels:\\n      app.kubernetes.io/component: slack-test\\n      app.kubernetes.io/managed-by: kubernetes-mcp-server\\n      app.kubernetes.io/name: slack-test\\n      app.kubernetes.io/part-of: kubernetes-mcp-server-run-sandbox\\n    name: slack-test\\n    namespace: llama-serve\\n    resourceVersion: \"939283880\"\\n    uid: ffe8d370-23cd-42ae-897a-d6c2dfabf1c7\\n  spec:\\n    containers:\\n    - image: quay.io/redhat-et/failing-test-pod:latest\\n      imagePullPolicy: Always\\n      name: slack-test\\n      resources: \u001b[0m\u001b[32m{\u001b[0m\u001b[32m}\u001b[0m\u001b[32m\\n      securityContext:\\n        allowPrivilegeEscalation: false\\n        capabilities:\\n          drop:\\n          - ALL\\n        runAsNonRoot: true\\n        runAsUser: 1001770000\\n      terminationMessagePath: /dev/termination-log\\n      terminationMessagePolicy: File\\n      volumeMounts:\\n      - mountPath: /var/run/secrets/kubernetes.io/serviceaccount\\n        name: kube-api-access-2tlqt\\n        readOnly: true\\n    dnsPolicy: ClusterFirst\\n    enableServiceLinks: true\\n    imagePullSecrets:\\n    - name: default-dockercfg-bxwvb\\n    preemptionPolicy: PreemptLowerPriority\\n    priority: 0\\n    restartPolicy: Always\\n    schedulerName: default-scheduler\\n    securityContext:\\n      fsGroup: 1001770000\\n      seLinuxOptions:\\n        level: s0:c42,c24\\n      seccompProfile:\\n        type: RuntimeDefault\\n    serviceAccount: default\\n    serviceAccountName: default\\n    terminationGracePeriodSeconds: 30\\n    tolerations:\\n    - effect: NoExecute\\n      key: node.kubernetes.io/not-ready\\n      operator: Exists\\n      tolerationSeconds: 300\\n    - effect: NoExecute\\n      key: node.kubernetes.io/unreachable\\n      operator: Exists\\n      tolerationSeconds: 300\\n    volumes:\\n    - name: kube-api-access-2tlqt\\n      projected:\\n        defaultMode: 420\\n        sources:\\n        - serviceAccountToken:\\n            expirationSeconds: 3607\\n            path: token\\n        - configMap:\\n            items:\\n            - key: ca.crt\\n              path: ca.crt\\n            name: kube-root-ca.crt\\n        - downwardAPI:\\n            items:\\n            - fieldRef:\\n                apiVersion: v1\\n                fieldPath: metadata.namespace\\n              path: namespace\\n        - configMap:\\n            items:\\n            - key: service-ca.crt\\n              path: service-ca.crt\\n            name: openshift-service-ca.crt\\n  status:\\n    phase: Pending\\n    qosClass: BestEffort\\n'\u001b[0m,\n",
       "\u001b[2;32m│   \u001b[0m\u001b[32m'annotations'\u001b[0m: \u001b[3;35mNone\u001b[0m\n",
       "\u001b[1m}\u001b[0m\n"
      ]
     },
     "metadata": {},
     "output_type": "display_data"
    },
    {
     "name": "stdout",
     "output_type": "stream",
     "text": [
      "\n",
      "---------- 📍 Step 3: InferenceStep ----------\n",
      "🤖 Model Response:\n",
      "\u001b[35mThe pod named \"slack-test\" using the image \"quay.io/redhat-et/failing-test-pod:latest\" has been successfully created in the \"llama-serve\" namespace. Here are the details:\n",
      "\n",
      "```yaml\n",
      "apiVersion: v1\n",
      "kind: Pod\n",
      "metadata:\n",
      "  annotations:\n",
      "    openshift.io/scc: restricted-v2\n",
      "    seccomp.security.alpha.kubernetes.io/pod: runtime/default\n",
      "  creationTimestamp: \"2025-05-14T17:32:18Z\"\n",
      "  labels:\n",
      "    app.kubernetes.io/component: slack-test\n",
      "    app.kubernetes.io/managed-by: kubernetes-mcp-server\n",
      "    app.kubernetes.io/name: slack-test\n",
      "    app.kubernetes.io/part-of: kubernetes-mcp-server-run-sandbox\n",
      "  name: slack-test\n",
      "  namespace: llama-serve\n",
      "  resourceVersion: \"939283880\"\n",
      "  uid: ffe8d370-23cd-42ae-897a-d6c2dfabf1c7\n",
      "spec:\n",
      "  containers:\n",
      "  - image: quay.io/redhat-et/failing-test-pod:latest\n",
      "    imagePullPolicy: Always\n",
      "    name: slack-test\n",
      "    resources: {}\n",
      "    securityContext:\n",
      "      allowPrivilegeEscalation: false\n",
      "      capabilities:\n",
      "        drop:\n",
      "        - ALL\n",
      "      runAsNonRoot: true\n",
      "      runAsUser: 1001770000\n",
      "    terminationMessagePath: /dev/termination-log\n",
      "    terminationMessagePolicy: File\n",
      "    volumeMounts:\n",
      "    - mountPath: /var/run/secrets/kubernetes.io/serviceaccount\n",
      "      name: kube-api-access-2tlqt\n",
      "      readOnly: true\n",
      "  dnsPolicy: ClusterFirst\n",
      "  enableServiceLinks: true\n",
      "  imagePullSecrets:\n",
      "  - name: default-dockercfg-bxwvb\n",
      "  preemptionPolicy: PreemptLowerPriority\n",
      "  priority: 0\n",
      "  restartPolicy: Always\n",
      "  schedulerName: default-scheduler\n",
      "  securityContext:\n",
      "    fsGroup: 1001770000\n",
      "    seLinuxOptions:\n",
      "      level: s0:c42,c24\n",
      "    seccompProfile:\n",
      "      type: RuntimeDefault\n",
      "  serviceAccount: default\n",
      "  serviceAccountName: default\n",
      "  terminationGracePeriodSeconds: \n",
      "\u001b[0m\n",
      "========== Query processing completed ========== \n",
      "\n"
     ]
    }
   ],
   "source": [
    "# Create simple agent with tools\n",
    "agent = Agent(\n",
    "    client,\n",
    "    model= model_id,  # replace this with model_id to get the value of INFERENCE_MODEL_ID environment variable\n",
    "    instructions = model_prompt , # update system prompt based on the model you are using\n",
    "    tools=[\"mcp::openshift\"],\n",
    "    tool_config={\"tool_choice\":\"auto\"},\n",
    "    sampling_params=sampling_params\n",
    ")\n",
    "\n",
    "user_prompts = [\"Create a pod called slack-test in the llama-serve namespace using the quay.io/redhat-et/failing-test-pod:latest image\"]\n",
    "session_id = agent.create_session(session_name=\"OCP_Slack_demo\")\n",
    "\n",
    "for i, prompt in enumerate(user_prompts):\n",
    "    response = agent.create_turn(\n",
    "        messages=[\n",
    "            {\n",
    "                \"role\":\"user\",\n",
    "                \"content\": prompt\n",
    "            }\n",
    "        ],\n",
    "        session_id=session_id,\n",
    "        stream=stream,\n",
    "    )\n",
    "    if stream:\n",
    "        for log in EventLogger().log(response):\n",
    "            log.print()\n",
    "    else:\n",
    "        step_printer(response.steps) # print the steps of an agent's response in a formatted way. "
   ]
  },
  {
   "cell_type": "markdown",
   "id": "cdfa2fb3-3d7c-40b0-aa6a-99a8ab8217d4",
   "metadata": {},
   "source": [
    "You should see a pod `slack-test` successfully deployed in your namespace on the OpenShift cluster. If you view the logs of the pod, you should see the simulated error message as follows:\n",
    "```\n",
    "Starting container...\n",
    "Failure: Unknown Error\n",
    "Error details: Container failed due to an unexpected issue during startup.\n",
    "Potential cause: Missing dependencies, configuration errors, or permission issues.\n",
    "```"
   ]
  },
  {
   "cell_type": "markdown",
   "id": "66f59216-5a02-42ed-bb4c-b062136206da",
   "metadata": {},
   "source": [
    "### Retrieve logs for erroneous pods running on OpenShift and send a message to Slack\n",
    "\n",
    "Now that we have a simulated erroneous pod running on the OpenShift cluster, we can task the agent with summarizing the logs and sending a message to Slack."
   ]
  },
  {
   "cell_type": "code",
   "execution_count": 5,
   "id": "bc7957e4-581c-4c3d-aee7-b8e3d9f2d0c0",
   "metadata": {},
   "outputs": [
    {
     "name": "stdout",
     "output_type": "stream",
     "text": [
      "\n",
      "---------- 📍 Step 1: InferenceStep ----------\n",
      "🛠️ Tool call Generated:\n",
      "\u001b[35mTool call: pods_log, Arguments: {'name': 'slack-test', 'namespace': 'llama-serve'}\u001b[0m\n",
      "\n",
      "---------- 📍 Step 2: ToolExecutionStep ----------\n",
      "🔧 Executing tool...\n"
     ]
    },
    {
     "data": {
      "text/html": [
       "<pre style=\"white-space:pre;overflow-x:auto;line-height:normal;font-family:Menlo,'DejaVu Sans Mono',consolas,'Courier New',monospace\"><span style=\"font-weight: bold\">{</span>\n",
       "<span style=\"color: #7fbf7f; text-decoration-color: #7fbf7f\">│   </span><span style=\"color: #008000; text-decoration-color: #008000\">'type'</span>: <span style=\"color: #008000; text-decoration-color: #008000\">'text'</span>,\n",
       "<span style=\"color: #7fbf7f; text-decoration-color: #7fbf7f\">│   </span><span style=\"color: #008000; text-decoration-color: #008000\">'text'</span>: <span style=\"color: #008000; text-decoration-color: #008000\">'Starting container...\\nFailure: Unknown Error\\nError details: Container failed due to an unexpected issue during startup.\\nPotential cause: Missing dependencies, configuration errors, or permission issues.\\n'</span>,\n",
       "<span style=\"color: #7fbf7f; text-decoration-color: #7fbf7f\">│   </span><span style=\"color: #008000; text-decoration-color: #008000\">'annotations'</span>: <span style=\"color: #800080; text-decoration-color: #800080; font-style: italic\">None</span>\n",
       "<span style=\"font-weight: bold\">}</span>\n",
       "</pre>\n"
      ],
      "text/plain": [
       "\u001b[1m{\u001b[0m\n",
       "\u001b[2;32m│   \u001b[0m\u001b[32m'type'\u001b[0m: \u001b[32m'text'\u001b[0m,\n",
       "\u001b[2;32m│   \u001b[0m\u001b[32m'text'\u001b[0m: \u001b[32m'Starting container...\\nFailure: Unknown Error\\nError details: Container failed due to an unexpected issue during startup.\\nPotential cause: Missing dependencies, configuration errors, or permission issues.\\n'\u001b[0m,\n",
       "\u001b[2;32m│   \u001b[0m\u001b[32m'annotations'\u001b[0m: \u001b[3;35mNone\u001b[0m\n",
       "\u001b[1m}\u001b[0m\n"
      ]
     },
     "metadata": {},
     "output_type": "display_data"
    },
    {
     "name": "stdout",
     "output_type": "stream",
     "text": [
      "\n",
      "---------- 📍 Step 3: InferenceStep ----------\n",
      "🤖 Model Response:\n",
      "\u001b[35mThe logs for the pod `slack-test` in the `llama-serve` OpenShift namespace indicate an error. The container failed due to an unexpected issue during startup. This could be due to missing dependencies, configuration errors, or permission issues.\n",
      "\u001b[0m\n",
      "========== Query processing completed ========== \n",
      "\n",
      "\n",
      "---------- 📍 Step 1: InferenceStep ----------\n",
      "🤖 Model Response:\n",
      "\u001b[35mPod Name: slack-test\n",
      "Category: Error\n",
      "Explanation: The container failed due to an unexpected issue during startup. This could be due to missing dependencies, configuration errors, or permission issues.\n",
      "\u001b[0m\n",
      "========== Query processing completed ========== \n",
      "\n",
      "\n",
      "---------- 📍 Step 1: InferenceStep ----------\n",
      "🛠️ Tool call Generated:\n",
      "\u001b[35mTool call: slack_post_message, Arguments: {'channel_id': 'demos', 'text': 'Pod Name: slack-test\\nCategory: Error\\nExplanation: The container failed due to an unexpected issue during startup. This could be due to missing dependencies, configuration errors, or permission issues.'}\u001b[0m\n",
      "\n",
      "---------- 📍 Step 2: ToolExecutionStep ----------\n",
      "🔧 Executing tool...\n"
     ]
    },
    {
     "data": {
      "text/html": [
       "<pre style=\"white-space:pre;overflow-x:auto;line-height:normal;font-family:Menlo,'DejaVu Sans Mono',consolas,'Courier New',monospace\"><span style=\"font-weight: bold\">{</span>\n",
       "<span style=\"color: #7fbf7f; text-decoration-color: #7fbf7f\">│   </span><span style=\"color: #008000; text-decoration-color: #008000\">'type'</span>: <span style=\"color: #008000; text-decoration-color: #008000\">'text'</span>,\n",
       "<span style=\"color: #7fbf7f; text-decoration-color: #7fbf7f\">│   </span><span style=\"color: #008000; text-decoration-color: #008000\">'text'</span>: <span style=\"color: #008000; text-decoration-color: #008000\">'{\"ok\":true,\"channel\":\"C08MUDSNHED\",\"ts\":\"1747243980.236359\",\"message\":{\"user\":\"U08MM2P7BEF\",\"type\":\"message\",\"ts\":\"1747243980.236359\",\"bot_id\":\"B08MM2P60KV\",\"app_id\":\"A08MLQCUGUS\",\"text\":\"Pod Name: slack-test\\\\nCategory: Error\\\\nExplanation: The container failed due to an unexpected issue during startup. This could be due to missing dependencies, configuration errors, or permission issues.\",\"team\":\"T08M9UTL2DC\",\"bot_profile\":{\"id\":\"B08MM2P60KV\",\"app_id\":\"A08MLQCUGUS\",\"user_id\":\"U08MM2P7BEF\",\"name\":\"et-slack-bot\",\"icons\":{\"image_36\":\"https://a.slack-edge.com/80588/img/plugins/app/bot_36.png\",\"image_48\":\"https://a.slack-edge.com/80588/img/plugins/app/bot_48.png\",\"image_72\":\"https://a.slack-edge.com/80588/img/plugins/app/service_72.png\"},\"deleted\":false,\"updated\":1744227670,\"team_id\":\"T08M9UTL2DC\"},\"blocks\":[{\"type\":\"rich_text\",\"block_id\":\"9udo=\",\"elements\":[{\"type\":\"rich_text_section\",\"elements\":[{\"type\":\"text\",\"text\":\"Pod Name: slack-test\\\\nCategory: Error\\\\nExplanation: The container failed due to an unexpected issue during startup. This could be due to missing dependencies, configuration errors, or permission issues.\"}]}]}]},\"warning\":\"missing_charset\",\"response_metadata\":{\"warnings\":[\"missing_charset\"]}}'</span>,\n",
       "<span style=\"color: #7fbf7f; text-decoration-color: #7fbf7f\">│   </span><span style=\"color: #008000; text-decoration-color: #008000\">'annotations'</span>: <span style=\"color: #800080; text-decoration-color: #800080; font-style: italic\">None</span>\n",
       "<span style=\"font-weight: bold\">}</span>\n",
       "</pre>\n"
      ],
      "text/plain": [
       "\u001b[1m{\u001b[0m\n",
       "\u001b[2;32m│   \u001b[0m\u001b[32m'type'\u001b[0m: \u001b[32m'text'\u001b[0m,\n",
       "\u001b[2;32m│   \u001b[0m\u001b[32m'text'\u001b[0m: \u001b[32m'\u001b[0m\u001b[32m{\u001b[0m\u001b[32m\"ok\":true,\"channel\":\"C08MUDSNHED\",\"ts\":\"1747243980.236359\",\"message\":\u001b[0m\u001b[32m{\u001b[0m\u001b[32m\"user\":\"U08MM2P7BEF\",\"type\":\"message\",\"ts\":\"1747243980.236359\",\"bot_id\":\"B08MM2P60KV\",\"app_id\":\"A08MLQCUGUS\",\"text\":\"Pod Name: slack-test\\\\nCategory: Error\\\\nExplanation: The container failed due to an unexpected issue during startup. This could be due to missing dependencies, configuration errors, or permission issues.\",\"team\":\"T08M9UTL2DC\",\"bot_profile\":\u001b[0m\u001b[32m{\u001b[0m\u001b[32m\"id\":\"B08MM2P60KV\",\"app_id\":\"A08MLQCUGUS\",\"user_id\":\"U08MM2P7BEF\",\"name\":\"et-slack-bot\",\"icons\":\u001b[0m\u001b[32m{\u001b[0m\u001b[32m\"image_36\":\"https://a.slack-edge.com/80588/img/plugins/app/bot_36.png\",\"image_48\":\"https://a.slack-edge.com/80588/img/plugins/app/bot_48.png\",\"image_72\":\"https://a.slack-edge.com/80588/img/plugins/app/service_72.png\"\u001b[0m\u001b[32m}\u001b[0m\u001b[32m,\"deleted\":false,\"updated\":1744227670,\"team_id\":\"T08M9UTL2DC\"\u001b[0m\u001b[32m}\u001b[0m\u001b[32m,\"blocks\":\u001b[0m\u001b[32m[\u001b[0m\u001b[32m{\u001b[0m\u001b[32m\"type\":\"rich_text\",\"block_id\":\"\u001b[0m\u001b[32m9udo\u001b[0m\u001b[32m=\",\"elements\":\u001b[0m\u001b[32m[\u001b[0m\u001b[32m{\u001b[0m\u001b[32m\"type\":\"rich_text_section\",\"elements\":\u001b[0m\u001b[32m[\u001b[0m\u001b[32m{\u001b[0m\u001b[32m\"type\":\"text\",\"text\":\"Pod Name: slack-test\\\\nCategory: Error\\\\nExplanation: The container failed due to an unexpected issue during startup. This could be due to missing dependencies, configuration errors, or permission issues.\"\u001b[0m\u001b[32m}\u001b[0m\u001b[32m]\u001b[0m\u001b[32m}\u001b[0m\u001b[32m]\u001b[0m\u001b[32m}\u001b[0m\u001b[32m]\u001b[0m\u001b[32m}\u001b[0m\u001b[32m,\"warning\":\"missing_charset\",\"response_metadata\":\u001b[0m\u001b[32m{\u001b[0m\u001b[32m\"warnings\":\u001b[0m\u001b[32m[\u001b[0m\u001b[32m\"missing_charset\"\u001b[0m\u001b[32m]\u001b[0m\u001b[32m}\u001b[0m\u001b[32m}\u001b[0m\u001b[32m'\u001b[0m,\n",
       "\u001b[2;32m│   \u001b[0m\u001b[32m'annotations'\u001b[0m: \u001b[3;35mNone\u001b[0m\n",
       "\u001b[1m}\u001b[0m\n"
      ]
     },
     "metadata": {},
     "output_type": "display_data"
    },
    {
     "name": "stdout",
     "output_type": "stream",
     "text": [
      "\n",
      "---------- 📍 Step 3: InferenceStep ----------\n",
      "🤖 Model Response:\n",
      "\u001b[35mThe message has been successfully posted to the `demos` channel on Slack:\n",
      "\n",
      "```\n",
      "Pod Name: slack-test\n",
      "Category: Error\n",
      "Explanation: The container failed due to an unexpected issue during startup. This could be due to missing dependencies, configuration errors, or permission issues.\n",
      "```\n",
      "\u001b[0m\n",
      "========== Query processing completed ========== \n",
      "\n"
     ]
    }
   ],
   "source": [
    "# Create simple agent with tools\n",
    "agent = Agent(\n",
    "    client,\n",
    "    model= model_id,  # replace this with model_id to get the value of INFERENCE_MODEL_ID environment variable\n",
    "    instructions = model_prompt , # update system prompt based on the model you are using\n",
    "    tools=[\"mcp::openshift\", \"mcp::slack\"],\n",
    "    tool_config={\"tool_choice\":\"auto\"},\n",
    "    sampling_params=sampling_params\n",
    ")\n",
    "\n",
    "user_prompts = [\"View the logs for pod slack-test in the llama-serve OpenShift namespace. Categorize it as normal or error.\",\n",
    "               \"Summarize the results with the pod name, category along with a briefly explanation as to why you categorized it as normal or error. Respond with plain text only. Do not wrap your response in additional quotation marks.\",\n",
    "               \"Send a message with the summarization to the demos channel on Slack.\"]\n",
    "session_id = agent.create_session(session_name=\"OCP_Slack_demo\")\n",
    "\n",
    "for i, prompt in enumerate(user_prompts):\n",
    "    response = agent.create_turn(\n",
    "        messages=[\n",
    "            {\n",
    "                \"role\":\"user\",\n",
    "                \"content\": prompt\n",
    "            }\n",
    "        ],\n",
    "        session_id=session_id,\n",
    "        stream=stream,\n",
    "    )\n",
    "    if stream:\n",
    "        for log in EventLogger().log(response):\n",
    "            log.print()\n",
    "    else:\n",
    "        step_printer(response.steps) # print the steps of an agent's response in a formatted way. "
   ]
  },
  {
   "cell_type": "code",
   "execution_count": 6,
   "id": "faa9be3f-3054-4205-b666-e8660f68c306",
   "metadata": {},
   "outputs": [
    {
     "data": {
      "image/png": "[encoded data removed]",
      "text/plain": [
       "<IPython.core.display.Image object>"
      ]
     },
     "metadata": {},
     "output_type": "display_data"
    }
   ],
   "source": [
    "from IPython.display import Image, display\n",
    "\n",
    "display(Image(filename='./images/slack-message.png'))"
   ]
  },
  {
   "cell_type": "markdown",
   "id": "5f94501b",
   "metadata": {},
   "source": [
    "In the screenshot above, you can see that our `et-slack-bot`,which is configured to both our public Slack workspace and the Slack MCP server, successfully posted a pod status summary message to the #demos channel."
   ]
  },
  {
   "cell_type": "markdown",
   "id": "5a41f3a7",
   "metadata": {},
   "source": [
    "### Output Analysis\n",
    "\n",
    "Lets step through the output to further understands whats happening in this notebook.\n",
    "\n",
    "1. First the LLM generated a tool call for the `pods_log` tool included in the **OpenShift MCP server** and fetched the logs for the specified pod.\n",
    "2. The tool successfully retrieved the logs for the pod.\n",
    "3. The LLM  then received the logs from the tool call, along with the original query.\n",
    "4. This context was then passed back to the LLM for the final inference. The inference result provided a summary of the pod logs along with its category of 'Normal' or 'Error'.\n",
    "5. Finally, the summary of the pod logs is sent as a Slack message using the `slack_post_message` tool configured with the **Slack MCP Server**."
   ]
  },
  {
   "cell_type": "markdown",
   "id": "ea60a1b9",
   "metadata": {},
   "source": [
    "## Defining our Agent - ReAct"
   ]
  },
  {
   "cell_type": "markdown",
   "id": "0bd7dbe5",
   "metadata": {},
   "source": [
    "Now that we've shown that we can successfully accomplish this multi-step multi-tool task using prompt chaining, let's see if we can give our agent a bit more autonomy to perform the same task but with a single prompt instead of a chain. To do this, we will instantiate a **ReAct agent** (which is included in the llama stack python client by default).The ReAct agent is a variant of the simple agent but with the ability to loop through \"Reason then Act\" iterations, thinking through the problem and then using tools until it determines that it's task has been completed successfully.  \n",
    "\n",
    "Unlike prompt chaining which follows fixed steps, ReAct dynamically breaks down tasks and adapts its approach based on the results of each step. This makes it more flexible and capable of handling complex, real-world queries effectively.\n",
    "\n",
    "Below you will see the slight differences in the agent definition and the prompt used to accomplish our task."
   ]
  },
  {
   "cell_type": "code",
   "execution_count": 7,
   "id": "d50e9f7a",
   "metadata": {},
   "outputs": [
    {
     "name": "stdout",
     "output_type": "stream",
     "text": [
      "\n",
      "==================================================\n",
      "\u001b[34mProcessing user query: Review the OpenShift logs for the pod 'slack-test' in the 'llama-serve' namespace and generate a summary of any errors.\n",
      "               Finally send a clearly formatted message with items pod name, category and explanation to the Slack channel with demo_id `demos`.\u001b[0m\n",
      "==================================================\n",
      "\n",
      "---------- 📍 Step 1: InferenceStep ----------\n",
      "🤖 Model Response:\n",
      "\u001b[35m{\n",
      "    \"thought\": \"I need to first get the logs of the pod 'slack-test' in the 'llama-serve' namespace using the `pods_log` tool. Then, I will analyze these logs to find any errors. After that, I will use the `slack_post_message` tool to send a summary of the errors to the Slack channel with demo_id `demos`.\",\n",
      "    \"action\": {\n",
      "        \"tool_name\": \"pods_log\",\n",
      "        \"tool_params\": [{\"name\": \"name\", \"value\": \"slack-test\"}, {\"name\": \"namespace\", \"value\": \"llama-serve\"}]\n",
      "    },\n",
      "    \"answer\": null\n",
      "}\n",
      "\u001b[0m\n",
      "\n",
      "---------- 📍 Step 2: ToolExecutionStep ----------\n",
      "🔧 Executing tool...\n"
     ]
    },
    {
     "data": {
      "text/html": [
       "<pre style=\"white-space:pre;overflow-x:auto;line-height:normal;font-family:Menlo,'DejaVu Sans Mono',consolas,'Courier New',monospace\"><span style=\"font-weight: bold\">{</span>\n",
       "<span style=\"color: #7fbf7f; text-decoration-color: #7fbf7f\">│   </span><span style=\"color: #008000; text-decoration-color: #008000\">'type'</span>: <span style=\"color: #008000; text-decoration-color: #008000\">'text'</span>,\n",
       "<span style=\"color: #7fbf7f; text-decoration-color: #7fbf7f\">│   </span><span style=\"color: #008000; text-decoration-color: #008000\">'text'</span>: <span style=\"color: #008000; text-decoration-color: #008000\">'Starting container...\\nFailure: Unknown Error\\nError details: Container failed due to an unexpected issue during startup.\\nPotential cause: Missing dependencies, configuration errors, or permission issues.\\n'</span>,\n",
       "<span style=\"color: #7fbf7f; text-decoration-color: #7fbf7f\">│   </span><span style=\"color: #008000; text-decoration-color: #008000\">'annotations'</span>: <span style=\"color: #800080; text-decoration-color: #800080; font-style: italic\">None</span>\n",
       "<span style=\"font-weight: bold\">}</span>\n",
       "</pre>\n"
      ],
      "text/plain": [
       "\u001b[1m{\u001b[0m\n",
       "\u001b[2;32m│   \u001b[0m\u001b[32m'type'\u001b[0m: \u001b[32m'text'\u001b[0m,\n",
       "\u001b[2;32m│   \u001b[0m\u001b[32m'text'\u001b[0m: \u001b[32m'Starting container...\\nFailure: Unknown Error\\nError details: Container failed due to an unexpected issue during startup.\\nPotential cause: Missing dependencies, configuration errors, or permission issues.\\n'\u001b[0m,\n",
       "\u001b[2;32m│   \u001b[0m\u001b[32m'annotations'\u001b[0m: \u001b[3;35mNone\u001b[0m\n",
       "\u001b[1m}\u001b[0m\n"
      ]
     },
     "metadata": {},
     "output_type": "display_data"
    },
    {
     "name": "stdout",
     "output_type": "stream",
     "text": [
      "\n",
      "---------- 📍 Step 3: InferenceStep ----------\n",
      "🤖 Model Response:\n",
      "\u001b[35m{\n",
      "    \"thought\": \"I found an error in the logs: 'Failure: Unknown Error'. I will now summarize this information and send it to the Slack channel with demo_id `demos` using the `slack_post_message` tool.\",\n",
      "    \"action\": {\n",
      "        \"tool_name\": \"slack_post_message\",\n",
      "        \"tool_params\": [\n",
      "            {\"name\": \"channel_id\", \"value\": \"demos\"},\n",
      "            {\"name\": \"text\", \"value\": \"Pod Name: slack-test\\nCategory: Error\\nExplanation: The pod failed due to an unexpected issue during startup. Potential causes include missing dependencies, configuration errors, or permission issues.\"}\n",
      "        ]\n",
      "    },\n",
      "    \"answer\": null\n",
      "}\n",
      "\u001b[0m\n",
      "\n",
      "---------- 📍 Step 4: ToolExecutionStep ----------\n",
      "🔧 Executing tool...\n"
     ]
    },
    {
     "data": {
      "text/html": [
       "<pre style=\"white-space:pre;overflow-x:auto;line-height:normal;font-family:Menlo,'DejaVu Sans Mono',consolas,'Courier New',monospace\"><span style=\"font-weight: bold\">{</span>\n",
       "<span style=\"color: #7fbf7f; text-decoration-color: #7fbf7f\">│   </span><span style=\"color: #008000; text-decoration-color: #008000\">'type'</span>: <span style=\"color: #008000; text-decoration-color: #008000\">'text'</span>,\n",
       "<span style=\"color: #7fbf7f; text-decoration-color: #7fbf7f\">│   </span><span style=\"color: #008000; text-decoration-color: #008000\">'text'</span>: <span style=\"color: #008000; text-decoration-color: #008000\">'{\"ok\":true,\"channel\":\"C08MUDSNHED\",\"ts\":\"1747244089.508789\",\"message\":{\"user\":\"U08MM2P7BEF\",\"type\":\"message\",\"ts\":\"1747244089.508789\",\"bot_id\":\"B08MM2P60KV\",\"app_id\":\"A08MLQCUGUS\",\"text\":\"Pod Name: slack-test\\\\nCategory: Error\\\\nExplanation: The pod failed due to an unexpected issue during startup. Potential causes include missing dependencies, configuration errors, or permission issues.\",\"team\":\"T08M9UTL2DC\",\"bot_profile\":{\"id\":\"B08MM2P60KV\",\"app_id\":\"A08MLQCUGUS\",\"user_id\":\"U08MM2P7BEF\",\"name\":\"et-slack-bot\",\"icons\":{\"image_36\":\"https://a.slack-edge.com/80588/img/plugins/app/bot_36.png\",\"image_48\":\"https://a.slack-edge.com/80588/img/plugins/app/bot_48.png\",\"image_72\":\"https://a.slack-edge.com/80588/img/plugins/app/service_72.png\"},\"deleted\":false,\"updated\":1744227670,\"team_id\":\"T08M9UTL2DC\"},\"blocks\":[{\"type\":\"rich_text\",\"block_id\":\"EdD6\",\"elements\":[{\"type\":\"rich_text_section\",\"elements\":[{\"type\":\"text\",\"text\":\"Pod Name: slack-test\\\\nCategory: Error\\\\nExplanation: The pod failed due to an unexpected issue during startup. Potential causes include missing dependencies, configuration errors, or permission issues.\"}]}]}]},\"warning\":\"missing_charset\",\"response_metadata\":{\"warnings\":[\"missing_charset\"]}}'</span>,\n",
       "<span style=\"color: #7fbf7f; text-decoration-color: #7fbf7f\">│   </span><span style=\"color: #008000; text-decoration-color: #008000\">'annotations'</span>: <span style=\"color: #800080; text-decoration-color: #800080; font-style: italic\">None</span>\n",
       "<span style=\"font-weight: bold\">}</span>\n",
       "</pre>\n"
      ],
      "text/plain": [
       "\u001b[1m{\u001b[0m\n",
       "\u001b[2;32m│   \u001b[0m\u001b[32m'type'\u001b[0m: \u001b[32m'text'\u001b[0m,\n",
       "\u001b[2;32m│   \u001b[0m\u001b[32m'text'\u001b[0m: \u001b[32m'\u001b[0m\u001b[32m{\u001b[0m\u001b[32m\"ok\":true,\"channel\":\"C08MUDSNHED\",\"ts\":\"1747244089.508789\",\"message\":\u001b[0m\u001b[32m{\u001b[0m\u001b[32m\"user\":\"U08MM2P7BEF\",\"type\":\"message\",\"ts\":\"1747244089.508789\",\"bot_id\":\"B08MM2P60KV\",\"app_id\":\"A08MLQCUGUS\",\"text\":\"Pod Name: slack-test\\\\nCategory: Error\\\\nExplanation: The pod failed due to an unexpected issue during startup. Potential causes include missing dependencies, configuration errors, or permission issues.\",\"team\":\"T08M9UTL2DC\",\"bot_profile\":\u001b[0m\u001b[32m{\u001b[0m\u001b[32m\"id\":\"B08MM2P60KV\",\"app_id\":\"A08MLQCUGUS\",\"user_id\":\"U08MM2P7BEF\",\"name\":\"et-slack-bot\",\"icons\":\u001b[0m\u001b[32m{\u001b[0m\u001b[32m\"image_36\":\"https://a.slack-edge.com/80588/img/plugins/app/bot_36.png\",\"image_48\":\"https://a.slack-edge.com/80588/img/plugins/app/bot_48.png\",\"image_72\":\"https://a.slack-edge.com/80588/img/plugins/app/service_72.png\"\u001b[0m\u001b[32m}\u001b[0m\u001b[32m,\"deleted\":false,\"updated\":1744227670,\"team_id\":\"T08M9UTL2DC\"\u001b[0m\u001b[32m}\u001b[0m\u001b[32m,\"blocks\":\u001b[0m\u001b[32m[\u001b[0m\u001b[32m{\u001b[0m\u001b[32m\"type\":\"rich_text\",\"block_id\":\"EdD6\",\"elements\":\u001b[0m\u001b[32m[\u001b[0m\u001b[32m{\u001b[0m\u001b[32m\"type\":\"rich_text_section\",\"elements\":\u001b[0m\u001b[32m[\u001b[0m\u001b[32m{\u001b[0m\u001b[32m\"type\":\"text\",\"text\":\"Pod Name: slack-test\\\\nCategory: Error\\\\nExplanation: The pod failed due to an unexpected issue during startup. Potential causes include missing dependencies, configuration errors, or permission issues.\"\u001b[0m\u001b[32m}\u001b[0m\u001b[32m]\u001b[0m\u001b[32m}\u001b[0m\u001b[32m]\u001b[0m\u001b[32m}\u001b[0m\u001b[32m]\u001b[0m\u001b[32m}\u001b[0m\u001b[32m,\"warning\":\"missing_charset\",\"response_metadata\":\u001b[0m\u001b[32m{\u001b[0m\u001b[32m\"warnings\":\u001b[0m\u001b[32m[\u001b[0m\u001b[32m\"missing_charset\"\u001b[0m\u001b[32m]\u001b[0m\u001b[32m}\u001b[0m\u001b[32m}\u001b[0m\u001b[32m'\u001b[0m,\n",
       "\u001b[2;32m│   \u001b[0m\u001b[32m'annotations'\u001b[0m: \u001b[3;35mNone\u001b[0m\n",
       "\u001b[1m}\u001b[0m\n"
      ]
     },
     "metadata": {},
     "output_type": "display_data"
    },
    {
     "name": "stdout",
     "output_type": "stream",
     "text": [
      "\n",
      "---------- 📍 Step 5: InferenceStep ----------\n",
      "🤖 Model Response:\n",
      "\u001b[35m{\n",
      "    \"thought\": \"The message has been successfully posted to the Slack channel with demo_id `demos`.\",\n",
      "    \"action\": null,\n",
      "    \"answer\": \"The message has been successfully posted to the Slack channel with demo_id `demos`.\"\n",
      "}\n",
      "\u001b[0m\n",
      "========== Query processing completed ========== \n",
      "\n"
     ]
    }
   ],
   "source": [
    "agent = ReActAgent(\n",
    "            client=client,\n",
    "            model=model_id,\n",
    "            tools=[\"mcp::slack\",\"mcp::openshift\"],\n",
    "            response_format={\n",
    "                \"type\": \"json_schema\",\n",
    "                \"json_schema\": ReActOutput.model_json_schema(),\n",
    "            },\n",
    "            sampling_params={\"max_tokens\":512},\n",
    "        )\n",
    "user_prompts =[\"\"\"Review the OpenShift logs for the pod 'slack-test' in the 'llama-serve' namespace and generate a summary of any errors.\n",
    "               Finally send a clearly formatted message with items pod name, category and explanation to the Slack channel with demo_id `demos`.\"\"\"]\n",
    "session_id = agent.create_session(\"web-session\")\n",
    "for prompt in user_prompts:\n",
    "    print(\"\\n\"+\"=\"*50)\n",
    "    cprint(f\"Processing user query: {prompt}\", \"blue\")\n",
    "    print(\"=\"*50)\n",
    "    response = agent.create_turn(\n",
    "        messages=[\n",
    "            {\n",
    "                \"role\": \"user\",\n",
    "                \"content\": prompt,\n",
    "            }\n",
    "        ],\n",
    "        session_id=session_id,\n",
    "        stream=stream\n",
    "    )\n",
    "    if stream:\n",
    "        for log in EventLogger().log(response):\n",
    "            log.print()\n",
    "    else:\n",
    "        step_printer(response.steps) # print the steps of an agent's response in a formatted way. "
   ]
  },
  {
   "cell_type": "markdown",
   "id": "3998aab7",
   "metadata": {},
   "source": [
    "### Output Analysis\n",
    "\n",
    "Above, we can see that the ReAct agent took nearly an identical approach to the prompt chaining method above, but using a single prompt instead of a chain.  \n",
    "\n",
    "1. First the LLM generated a tool call for the `pods_log` tool included in the **OpenShift MCP server** and fetched the logs for the specified pod.\n",
    "2. The tool successfully retrieved the logs for the pod.\n",
    "3. The LLM  then received the logs from the tool call, along with the original query.\n",
    "4. This context was then passed back to the LLM for the final inference. The inference result provided a summary of the pod logs along with its category of 'Normal' or 'Error'.\n",
    "5. Finally, the summary of the pod logs is sent as a Slack message using the `slack_post_message` tool configured with the **Slack MCP Server**."
   ]
  },
  {
   "cell_type": "markdown",
   "id": "1ecbc8ab-77c6-48ff-970c-2d5dfd54a2c7",
   "metadata": {},
   "source": [
    "## Key Takeaways\n",
    "\n",
    "This notebook demonstrated how to build an agentic MCP applications with Llama Stack. We did this by initializing an agent with access to two MCP servers that were registered to our Llama Stack server, then invoked the agent on our specified set of queries. We showed that we can do this with more directed Prompt Chaining or with the more open ended ReAct pattern. Please check out our next notebooks, [Agents, MCP and RAG](Level6_agents_MCP_and_RAG.ipynb) for more examples of extending your agents capabilities with Llama Stack."
   ]
  },
  {
   "cell_type": "markdown",
   "id": "ab54e8c7",
   "metadata": {},
   "source": [
    "#### Any Feedback?\n",
    "\n",
    "If you have any feedback on this or any other notebook in this demo series we'd love to hear it! Please go to https://www.feedback.redhat.com/jfe/form/SV_8pQsoy0U9Ccqsvk and help us improve our demos. "
   ]
  }
 ],
 "metadata": {
  "kernelspec": {
   "display_name": "Python 3.11",
   "language": "python",
   "name": "python3"
  },
  "language_info": {
   "codemirror_mode": {
    "name": "ipython",
    "version": 3
   },
   "file_extension": ".py",
   "mimetype": "text/x-python",
   "name": "python",
   "nbconvert_exporter": "python",
   "pygments_lexer": "ipython3",
   "version": "3.11.9"
  }
 },
 "nbformat": 4,
 "nbformat_minor": 5
}
